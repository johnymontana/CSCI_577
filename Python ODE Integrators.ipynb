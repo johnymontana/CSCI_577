{
 "metadata": {
  "name": "Python ODE Integrators"
 },
 "nbformat": 3,
 "nbformat_minor": 0,
 "worksheets": [
  {
   "cells": [
    {
     "cell_type": "code",
     "collapsed": false,
     "input": [
      "from scipy.integrate import odeint, ode"
     ],
     "language": "python",
     "metadata": {},
     "outputs": [],
     "prompt_number": 74
    },
    {
     "cell_type": "code",
     "collapsed": false,
     "input": [
      "#G =2*3.14\n",
      "#M = 0.00013\n",
      "GM = 4*math.pi**2\n",
      "Gm_1 = 0.001*GM\n",
      "Gm_2 = 0.04*GM\n",
      "#m_1 = 0.001M\n",
      "#m_2 = 0.04M\n",
      "from pylab import *\n",
      "import numpy as np\n",
      "\n",
      "def runge_kutta(x, f, dt):\n",
      "    k1=f(x)*dt\n",
      "    k2=f(x+0.5*k1)*dt\n",
      "    k3=f(x+0.5*k2)*dt\n",
      "    k4=f(x+k3)*dt\n",
      "    return x + (k1+2*k2+2*k3+k4)/6.0"
     ],
     "language": "python",
     "metadata": {},
     "outputs": [],
     "prompt_number": 54
    },
    {
     "cell_type": "code",
     "collapsed": false,
     "input": [
      "\n",
      "\n",
      "class Vector_2D:\n",
      "    # override operators??? => *\n",
      "    def __init__(self, initial_x, initial_y):\n",
      "        self.x = initial_x\n",
      "        self.y = initial_y\n",
      "    def __str__(self):\n",
      "        return \"x: \" + str(self.x) + \" y: \"+str(self.y)\n",
      "    def __mul__(self, other):\n",
      "        x_product = self.x * other.x\n",
      "        y_product = self.y * other.y\n",
      "        return Vector_2D(x_product, y_product)\n",
      "    def __sub__(self, other):\n",
      "        x_sub = self.x - other.x\n",
      "        y_sub = self.y - other.y\n",
      "        return Vector_2D(x_sub, y_sub)\n",
      "    def magnitude(self):\n",
      "        return sqrt(self.x**2+self.y**2)"
     ],
     "language": "python",
     "metadata": {},
     "outputs": [],
     "prompt_number": 55
    },
    {
     "cell_type": "code",
     "collapsed": false,
     "input": [],
     "language": "python",
     "metadata": {},
     "outputs": [],
     "prompt_number": 55
    },
    {
     "cell_type": "code",
     "collapsed": false,
     "input": [],
     "language": "python",
     "metadata": {},
     "outputs": [],
     "prompt_number": 55
    },
    {
     "cell_type": "code",
     "collapsed": false,
     "input": [],
     "language": "python",
     "metadata": {},
     "outputs": [],
     "prompt_number": 55
    },
    {
     "cell_type": "code",
     "collapsed": false,
     "input": [
      "r1 = Vector_2D(1., 2.)\n",
      "r2 = Vector_2D(2., 3.)\n",
      "r3 = r1-r2\n",
      "print r3"
     ],
     "language": "python",
     "metadata": {},
     "outputs": [
      {
       "output_type": "stream",
       "stream": "stdout",
       "text": [
        "x: -1.0 y: -1.0\n"
       ]
      }
     ],
     "prompt_number": 56
    },
    {
     "cell_type": "code",
     "collapsed": false,
     "input": [
      "r1.magnitude()"
     ],
     "language": "python",
     "metadata": {},
     "outputs": [
      {
       "output_type": "pyout",
       "prompt_number": 57,
       "text": [
        "2.2360679774997898"
       ]
      }
     ],
     "prompt_number": 57
    },
    {
     "cell_type": "code",
     "collapsed": false,
     "input": [
      "class Body:\n",
      "    def __init__(self, location_vector, velocity_vector, Gmass):\n",
      "        self.r = location_vector\n",
      "        self.Gmass = Gmass\n",
      "        self.velocity = velocity_vector\n",
      "    def acceleration(self, other_body):\n",
      "        # computer my acceleration\n",
      "        x_acceleration = -(GM/(self.r.magnitude()**3)*self.r.x) + (other_body.Gmass/(other_body.r-self.r).magnitude()**3)*(other_body.r.x-self.r.x)\n",
      "        y_acceleration = -(GM/(self.r.magnitude()**3)*self.r.y) + (other_body.Gmass/(other_body.r-self.r).magnitude()**3)*(other_body.r.y-self.r.y)\n",
      "        return Vector_2D(x_acceleration, y_acceleration)"
     ],
     "language": "python",
     "metadata": {},
     "outputs": [],
     "prompt_number": 58
    },
    {
     "cell_type": "code",
     "collapsed": false,
     "input": [
      "class Sun:\n",
      "    def __init__(self, mass):\n",
      "        self.mass = mass\n",
      "    def gravity(self):\n",
      "        # compute gravity?\n",
      "        pass"
     ],
     "language": "python",
     "metadata": {},
     "outputs": [],
     "prompt_number": 59
    },
    {
     "cell_type": "code",
     "collapsed": false,
     "input": [
      "class SolarSystem:\n",
      "    def __init__(self, body_1, body_2, sun):\n",
      "        self.body_1 = body_1\n",
      "        self.body_2 = body_2\n",
      "        self.sun = sun\n",
      "        self.state_list = [array([self.body_1.r, self.body_2.r, self.body_1.velocity, self.body_2.velocity])] # state_list = [array(r1, r2, v1, v2)]\n",
      "    def THIS_IS_THE_FUNCTION_TO_INTEGRATE(self):\n",
      "        body_1_accel = self.body_1.acceleration(self.body_2)\n",
      "        body_2_accel = self.body_2.acceleration(self.body_1)\n",
      "        # TODO: update body positions and velocities from runge kutta\n",
      "        return [self.body_1.acceleration(self.body_2), self.body_2.acceleration(self.body_1)]"
     ],
     "language": "python",
     "metadata": {},
     "outputs": [],
     "prompt_number": 60
    },
    {
     "cell_type": "code",
     "collapsed": false,
     "input": [
      "m1 = Body(location_vector=Vector_2D(2.52, 0.), velocity_vector=Vector_2D(0., sqrt(GM/2.52)), Gmass=Gm_1)"
     ],
     "language": "python",
     "metadata": {},
     "outputs": [],
     "prompt_number": 61
    },
    {
     "cell_type": "code",
     "collapsed": false,
     "input": [
      "m2 = Body(location_vector=Vector_2D(5.24, 0.), velocity_vector=Vector_2D(0., sqrt(GM/5.24)), Gmass=Gm_2)"
     ],
     "language": "python",
     "metadata": {},
     "outputs": [],
     "prompt_number": 62
    },
    {
     "cell_type": "code",
     "collapsed": false,
     "input": [
      "print m1.acceleration(m2)"
     ],
     "language": "python",
     "metadata": {},
     "outputs": [
      {
       "output_type": "stream",
       "stream": "stdout",
       "text": [
        "x: -6.00323903471 y: 0.0\n"
       ]
      }
     ],
     "prompt_number": 63
    },
    {
     "cell_type": "code",
     "collapsed": false,
     "input": [
      "#sun = Sun(M*G)"
     ],
     "language": "python",
     "metadata": {},
     "outputs": [],
     "prompt_number": 64
    },
    {
     "cell_type": "code",
     "collapsed": false,
     "input": [
      "#system = SolarSystem(m1, m2, sun)"
     ],
     "language": "python",
     "metadata": {},
     "outputs": [],
     "prompt_number": 65
    },
    {
     "cell_type": "code",
     "collapsed": false,
     "input": [
      "#system_vector = system.THIS_IS_THE_FUNCTION_TO_INTEGRATE()"
     ],
     "language": "python",
     "metadata": {},
     "outputs": [],
     "prompt_number": 66
    },
    {
     "cell_type": "code",
     "collapsed": false,
     "input": [
      "#print system_vector[0]\n",
      "#print system_vector[1]"
     ],
     "language": "python",
     "metadata": {},
     "outputs": [],
     "prompt_number": 67
    },
    {
     "cell_type": "code",
     "collapsed": false,
     "input": [
      "# state = [pos, velocity]\n",
      "#pos=array([\n",
      "x1=m1.r.x\n",
      "y1=m1.r.y\n",
      "vx1=m1.velocity.x\n",
      "vy1=m1.velocity.y\n",
      "x2=m2.r.x\n",
      "y2=m2.r.y\n",
      "vx2=m2.velocity.x\n",
      "vy2=m2.velocity.y\n",
      "\n",
      "initial=array([x1, y1, vx1, vy1, x2, y2, vx2, vy2])\n",
      "time = linspace(0.0, 100, 1000)\n",
      "state_list=array([x1, y1, vx1, vy1, x2, y2, vx2, vy2])\n",
      "def two_body_system(state, t):\n",
      "        accel_1 = m1.acceleration(m2)\n",
      "        accel_2 = m2.acceleration(m1)\n",
      "        m1.r=Vector_2D(vx1, vy1)\n",
      "        m1.velocity=Vector_2D(accel_1.x, accel_1.y)\n",
      "        m2.r=Vector_2D(vx2, vy2)\n",
      "        m2.velocity=Vector_2D(accel_2.x, accel_2.y)\n",
      "        return array([vx1, vy1, accel_1.x, accel_1.y, vx2, vy2, accel_2.x, accel_2.y])"
     ],
     "language": "python",
     "metadata": {},
     "outputs": [],
     "prompt_number": 68
    },
    {
     "cell_type": "code",
     "collapsed": false,
     "input": [
      "#y=odeint(two_body_system, initial, time)"
     ],
     "language": "python",
     "metadata": {},
     "outputs": [],
     "prompt_number": 69
    },
    {
     "cell_type": "code",
     "collapsed": false,
     "input": [
      "#plot(y[:,0], y[:,1])"
     ],
     "language": "python",
     "metadata": {},
     "outputs": [
      {
       "output_type": "pyout",
       "prompt_number": 72,
       "text": [
        "[<matplotlib.lines.Line2D at 0x104daa390>]"
       ]
      },
      {
       "output_type": "display_data",
       "png": "[encoded data removed]"
      }
     ],
     "prompt_number": 72
    },
    {
     "cell_type": "code",
     "collapsed": false,
     "input": [
      "print y"
     ],
     "language": "python",
     "metadata": {},
     "outputs": [
      {
       "output_type": "stream",
       "stream": "stdout",
       "text": [
        "[[  2.52000000e+00   0.00000000e+00   0.00000000e+00 ...,   0.00000000e+00\n",
        "    0.00000000e+00   2.74482225e+00]\n",
        " [  2.52000000e+00   3.96199670e-01   0.00000000e+00 ...,   2.74756982e-01\n",
        "    0.00000000e+00   2.22298257e+00]\n",
        " [  2.52000000e+00   7.92399340e-01   0.00000000e+00 ...,   5.49513963e-01\n",
        "    0.00000000e+00   1.70114290e+00]\n",
        " ..., \n",
        " [  2.52000000e+00   3.95011071e+02   0.00000000e+00 ...,   2.73932711e+02\n",
        "    0.00000000e+00  -5.17529330e+02]\n",
        " [  2.52000000e+00   3.95407271e+02   0.00000000e+00 ...,   2.74207468e+02\n",
        "    0.00000000e+00  -5.18051170e+02]\n",
        " [  2.52000000e+00   3.95803471e+02   0.00000000e+00 ...,   2.74482225e+02\n",
        "    0.00000000e+00  -5.18573010e+02]]\n"
       ]
      }
     ],
     "prompt_number": 73
    },
    {
     "cell_type": "code",
     "collapsed": false,
     "input": [
      "i=ode(two_body_system)\n",
      "i.set_integrator('vode', method='adams')\n",
      "i.set_initial_value(initial, 0.0)\n"
     ],
     "language": "python",
     "metadata": {},
     "outputs": [
      {
       "output_type": "pyout",
       "prompt_number": 75,
       "text": [
        "<scipy.integrate._ode.ode at 0x104cacf10>"
       ]
      }
     ],
     "prompt_number": 75
    },
    {
     "cell_type": "code",
     "collapsed": false,
     "input": [
      "tf=100\n",
      "dt = 0.001\n",
      "times = arange(0.0, tf, dt)\n",
      "yf=[]\n",
      "for t in times:\n",
      "    i.integrate(i.t+dt)\n",
      "    yf.append(i.y)"
     ],
     "language": "python",
     "metadata": {},
     "outputs": [],
     "prompt_number": 77
    },
    {
     "cell_type": "code",
     "collapsed": false,
     "input": [
      "yf = np.array(yf)\n",
      "x  = yf[:,0]\n",
      "y  = yf[:,1]\n",
      "x2 = yf[:,2]\n",
      "y2 = yf[:,3]\n",
      "\n",
      "clf()\n",
      "plot(x,y, label='Body 1', color='c')\n",
      "plot(x2,y2, label='Body 2', color='m')\n",
      "# Plot the results\n",
      "xlabel('Distance [AU]')\n",
      "ylabel('Distance [AU]')\n",
      "title('Planetary Motion')\n",
      "grid()\n",
      "show()"
     ],
     "language": "python",
     "metadata": {},
     "outputs": [
      {
       "output_type": "display_data",
       "png": "[encoded data removed]"
      }
     ],
     "prompt_number": 79
    },
    {
     "cell_type": "code",
     "collapsed": false,
     "input": [],
     "language": "python",
     "metadata": {},
     "outputs": []
    }
   ],
   "metadata": {}
  }
 ]
}