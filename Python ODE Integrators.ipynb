{
 "metadata": {
  "name": "Python ODE Integrators"
 },
 "nbformat": 3,
 "nbformat_minor": 0,
 "worksheets": [
  {
   "cells": [
    {
     "cell_type": "code",
     "collapsed": false,
     "input": [
      "G =2*3.14\n",
      "M = 0.00013\n",
      "from pylab import *\n",
      "import numpy as np\n"
     ],
     "language": "python",
     "metadata": {},
     "outputs": [],
     "prompt_number": 14
    },
    {
     "cell_type": "code",
     "collapsed": false,
     "input": [
      "\n",
      "\n",
      "class Vector_2D:\n",
      "    # override operators??? => *\n",
      "    def __init__(self, initial_x, initial_y):\n",
      "        self.x = initial_x\n",
      "        self.y = initial_y\n",
      "    def __str__(self):\n",
      "        return \"x: \" + str(self.x) + \" y: \"+str(self.y)\n",
      "    def __mul__(self, other):\n",
      "        x_product = self.x * other.x\n",
      "        y_product = self.y * other.y\n",
      "        return Vector_2D(x_product, y_product)\n",
      "    \n",
      "    def magnitude(self):\n",
      "        return sqrt(self.x**2+self.y**2)"
     ],
     "language": "python",
     "metadata": {},
     "outputs": [],
     "prompt_number": 1
    },
    {
     "cell_type": "code",
     "collapsed": false,
     "input": [],
     "language": "python",
     "metadata": {},
     "outputs": [],
     "prompt_number": 52
    },
    {
     "cell_type": "code",
     "collapsed": false,
     "input": [],
     "language": "python",
     "metadata": {},
     "outputs": [],
     "prompt_number": 52
    },
    {
     "cell_type": "code",
     "collapsed": false,
     "input": [],
     "language": "python",
     "metadata": {},
     "outputs": [],
     "prompt_number": 52
    },
    {
     "cell_type": "code",
     "collapsed": false,
     "input": [
      "r1 = Vector_2D(1., 2.)\n",
      "r2 = Vector_2D(2., 3.)\n",
      "r3 = r1*r2\n",
      "print r3"
     ],
     "language": "python",
     "metadata": {},
     "outputs": [
      {
       "output_type": "stream",
       "stream": "stdout",
       "text": [
        "x: 2.0 y: 6.0\n"
       ]
      }
     ],
     "prompt_number": 3
    },
    {
     "cell_type": "code",
     "collapsed": false,
     "input": [
      "r1.magnitude()"
     ],
     "language": "python",
     "metadata": {},
     "outputs": [
      {
       "output_type": "pyout",
       "prompt_number": 54,
       "text": [
        "2.54"
       ]
      }
     ],
     "prompt_number": 54
    },
    {
     "cell_type": "code",
     "collapsed": false,
     "input": [
      "class Body:\n",
      "    def __init__(self, location_vector, velocity_vector, mass):\n",
      "        self.r = location_vector\n",
      "        self.mass = mass\n",
      "        self.velocity = velocity_vector\n",
      "    def acceleration(self, other_body):\n",
      "        # computer my acceleration\n",
      "        x_acceleration = (G*M*self.mass/self.r.magnitude()*self.r.x) - (G*self.mass*other_body.mass/other_body.r.magnitude()**3)*(other_body.r.x-self.r.x)\n",
      "        y_acceleration = (G*M*self.mass/self.r.magnitude()*self.r.y) - (G*self.mass*other_body.mass/other_body.r.magnitude()**3)*(other_body.r.y-self.r.y)\n",
      "        return Vector_2D(x_acceleration, y_acceleration)"
     ],
     "language": "python",
     "metadata": {},
     "outputs": [],
     "prompt_number": 4
    },
    {
     "cell_type": "code",
     "collapsed": false,
     "input": [
      "class Sun:\n",
      "    def __init__(self, mass):\n",
      "        self.mass = mass\n",
      "    def gravity(self):\n",
      "        # compute gravity?\n",
      "        pass"
     ],
     "language": "python",
     "metadata": {},
     "outputs": [],
     "prompt_number": 5
    },
    {
     "cell_type": "code",
     "collapsed": false,
     "input": [
      "class SolarSystem:\n",
      "    def __init__(self, body_1, body_2, sun):\n",
      "        self.body_1 = body_1\n",
      "        self.body_2 = body_2\n",
      "        self.sun = sun\n",
      "        self.state_list = [array([self.body_1.r, self.body_2.r, self.body_1.velocity, self.body_2.velocity])] # state_list = [array(r1, r2, v1, v2)]\n",
      "    def THIS_IS_THE_FUNCTION_TO_INTEGRATE(self):\n",
      "        body_1_accel = self.body_1.acceleration(self.body_2)\n",
      "        body_2_accel = self.body_2.acceleration(self.body_1)\n",
      "        # TODO: update body positions and velocities from runge kutta\n",
      "        return [self.body_1.acceleration(self.body_2), self.body_2.acceleration(self.body_1)]"
     ],
     "language": "python",
     "metadata": {},
     "outputs": [],
     "prompt_number": 8
    },
    {
     "cell_type": "code",
     "collapsed": false,
     "input": [
      "m1 = Body(Vector_2D(2.52, 0.), .001*G*M)"
     ],
     "language": "python",
     "metadata": {},
     "outputs": [],
     "prompt_number": 95
    },
    {
     "cell_type": "code",
     "collapsed": false,
     "input": [
      "m2 = Body(Vector_2D(5.24, 0.), 0.04*G*M)"
     ],
     "language": "python",
     "metadata": {},
     "outputs": [],
     "prompt_number": 96
    },
    {
     "cell_type": "code",
     "collapsed": false,
     "input": [
      "print m1.acceleration(m1)"
     ],
     "language": "python",
     "metadata": {},
     "outputs": [
      {
       "output_type": "stream",
       "stream": "stdout",
       "text": [
        "x: 6.6650896e-10 y: 0.0\n"
       ]
      }
     ],
     "prompt_number": 107
    },
    {
     "cell_type": "code",
     "collapsed": false,
     "input": [
      "sun = Sun(M*G)"
     ],
     "language": "python",
     "metadata": {},
     "outputs": [],
     "prompt_number": 98
    },
    {
     "cell_type": "code",
     "collapsed": false,
     "input": [
      "system = SolarSystem(m1, m2, sun)"
     ],
     "language": "python",
     "metadata": {},
     "outputs": [],
     "prompt_number": 99
    },
    {
     "cell_type": "code",
     "collapsed": false,
     "input": [
      "system_vector = system.THIS_IS_THE_FUNCTION_TO_INTEGRATE()"
     ],
     "language": "python",
     "metadata": {},
     "outputs": [],
     "prompt_number": 105
    },
    {
     "cell_type": "code",
     "collapsed": false,
     "input": [
      "print system_vector[0]\n",
      "print system_vector[1]"
     ],
     "language": "python",
     "metadata": {},
     "outputs": [
      {
       "output_type": "stream",
       "stream": "stdout",
       "text": [
        "x: 6.63343763548e-10 y: 0.0\n",
        "x: 2.66888156487e-08 y: 0.0\n"
       ]
      }
     ],
     "prompt_number": 106
    },
    {
     "cell_type": "code",
     "collapsed": false,
     "input": [],
     "language": "python",
     "metadata": {},
     "outputs": []
    }
   ],
   "metadata": {}
  }
 ]
}