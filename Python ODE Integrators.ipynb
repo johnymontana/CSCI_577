{
 "metadata": {
  "name": "Python ODE Integrators"
 },
 "nbformat": 3,
 "nbformat_minor": 0,
 "worksheets": [
  {
   "cells": [
    {
     "cell_type": "code",
     "collapsed": false,
     "input": [
      "#G =2*3.14\n",
      "#M = 0.00013\n",
      "GM = 4*math.pi**2\n",
      "Gm_1 = 0.001*GM\n",
      "Gm_2 = 0.04*GM\n",
      "#m_1 = 0.001M\n",
      "#m_2 = 0.04M\n",
      "from pylab import *\n",
      "import numpy as np\n",
      "\n",
      "def runge_kutta(x, f, dt):\n",
      "    k1=f(x)*dt\n",
      "    k2=f(x+0.5*k1)*dt\n",
      "    k3=f(x+0.5*k2)*dt\n",
      "    k4=f(x+k3)*dt\n",
      "    return x + (k1+2*k2+2*k3+k4)/6.0"
     ],
     "language": "python",
     "metadata": {},
     "outputs": [],
     "prompt_number": 37
    },
    {
     "cell_type": "code",
     "collapsed": false,
     "input": [
      "\n",
      "\n",
      "class Vector_2D:\n",
      "    # override operators??? => *\n",
      "    def __init__(self, initial_x, initial_y):\n",
      "        self.x = initial_x\n",
      "        self.y = initial_y\n",
      "    def __str__(self):\n",
      "        return \"x: \" + str(self.x) + \" y: \"+str(self.y)\n",
      "    def __mul__(self, other):\n",
      "        x_product = self.x * other.x\n",
      "        y_product = self.y * other.y\n",
      "        return Vector_2D(x_product, y_product)\n",
      "    def __sub__(self, other):\n",
      "        x_sub = self.x - other.x\n",
      "        y_sub = self.y - other.y\n",
      "        return Vector_2D(x_sub, y_sub)\n",
      "    def magnitude(self):\n",
      "        return sqrt(self.x**2+self.y**2)"
     ],
     "language": "python",
     "metadata": {},
     "outputs": [],
     "prompt_number": 38
    },
    {
     "cell_type": "code",
     "collapsed": false,
     "input": [],
     "language": "python",
     "metadata": {},
     "outputs": [],
     "prompt_number": 38
    },
    {
     "cell_type": "code",
     "collapsed": false,
     "input": [],
     "language": "python",
     "metadata": {},
     "outputs": [],
     "prompt_number": 38
    },
    {
     "cell_type": "code",
     "collapsed": false,
     "input": [],
     "language": "python",
     "metadata": {},
     "outputs": [],
     "prompt_number": 38
    },
    {
     "cell_type": "code",
     "collapsed": false,
     "input": [
      "r1 = Vector_2D(1., 2.)\n",
      "r2 = Vector_2D(2., 3.)\n",
      "r3 = r1-r2\n",
      "print r3"
     ],
     "language": "python",
     "metadata": {},
     "outputs": [
      {
       "output_type": "stream",
       "stream": "stdout",
       "text": [
        "x: -1.0 y: -1.0\n"
       ]
      }
     ],
     "prompt_number": 39
    },
    {
     "cell_type": "code",
     "collapsed": false,
     "input": [
      "r1.magnitude()"
     ],
     "language": "python",
     "metadata": {},
     "outputs": [
      {
       "output_type": "pyout",
       "prompt_number": 40,
       "text": [
        "2.2360679774997898"
       ]
      }
     ],
     "prompt_number": 40
    },
    {
     "cell_type": "code",
     "collapsed": false,
     "input": [
      "class Body:\n",
      "    def __init__(self, location_vector, velocity_vector, Gmass):\n",
      "        self.r = location_vector\n",
      "        self.Gmass = Gmass\n",
      "        self.velocity = velocity_vector\n",
      "    def acceleration(self, other_body):\n",
      "        # computer my acceleration\n",
      "        x_acceleration = -(GM/(self.r.magnitude()**3)*self.r.x) + (other_body.Gmass/(other_body.r-self.r).magnitude()**3)*(other_body.r.x-self.r.x)\n",
      "        y_acceleration = -(GM/(self.r.magnitude()**3)*self.r.y) + (other_body.Gmass/(other_body.r-self.r).magnitude()**3)*(other_body.r.y-self.r.y)\n",
      "        return Vector_2D(x_acceleration, y_acceleration)"
     ],
     "language": "python",
     "metadata": {},
     "outputs": [],
     "prompt_number": 41
    },
    {
     "cell_type": "code",
     "collapsed": false,
     "input": [
      "class Sun:\n",
      "    def __init__(self, mass):\n",
      "        self.mass = mass\n",
      "    def gravity(self):\n",
      "        # compute gravity?\n",
      "        pass"
     ],
     "language": "python",
     "metadata": {},
     "outputs": [],
     "prompt_number": 42
    },
    {
     "cell_type": "code",
     "collapsed": false,
     "input": [
      "class SolarSystem:\n",
      "    def __init__(self, body_1, body_2, sun):\n",
      "        self.body_1 = body_1\n",
      "        self.body_2 = body_2\n",
      "        self.sun = sun\n",
      "        self.state_list = [array([self.body_1.r, self.body_2.r, self.body_1.velocity, self.body_2.velocity])] # state_list = [array(r1, r2, v1, v2)]\n",
      "    def THIS_IS_THE_FUNCTION_TO_INTEGRATE(self):\n",
      "        body_1_accel = self.body_1.acceleration(self.body_2)\n",
      "        body_2_accel = self.body_2.acceleration(self.body_1)\n",
      "        # TODO: update body positions and velocities from runge kutta\n",
      "        return [self.body_1.acceleration(self.body_2), self.body_2.acceleration(self.body_1)]"
     ],
     "language": "python",
     "metadata": {},
     "outputs": [],
     "prompt_number": 43
    },
    {
     "cell_type": "code",
     "collapsed": false,
     "input": [
      "m1 = Body(location_vector=Vector_2D(2.52, 0.), velocity_vector=Vector_2D(0., sqrt(GM/2.52)), Gmass=Gm_1)"
     ],
     "language": "python",
     "metadata": {},
     "outputs": [],
     "prompt_number": 44
    },
    {
     "cell_type": "code",
     "collapsed": false,
     "input": [
      "m2 = Body(location_vector=Vector_2D(5.24, 0.), velocity_vector=Vector_2D(0., sqrt(GM/5.24)), Gmass=Gm_2)"
     ],
     "language": "python",
     "metadata": {},
     "outputs": [],
     "prompt_number": 45
    },
    {
     "cell_type": "code",
     "collapsed": false,
     "input": [
      "print m1.acceleration(m2)"
     ],
     "language": "python",
     "metadata": {},
     "outputs": [
      {
       "output_type": "stream",
       "stream": "stdout",
       "text": [
        "x: -6.00323903471 y: 0.0\n"
       ]
      }
     ],
     "prompt_number": 46
    },
    {
     "cell_type": "code",
     "collapsed": false,
     "input": [
      "sun = Sun(M*G)"
     ],
     "language": "python",
     "metadata": {},
     "outputs": [],
     "prompt_number": 98
    },
    {
     "cell_type": "code",
     "collapsed": false,
     "input": [
      "system = SolarSystem(m1, m2, sun)"
     ],
     "language": "python",
     "metadata": {},
     "outputs": [],
     "prompt_number": 99
    },
    {
     "cell_type": "code",
     "collapsed": false,
     "input": [
      "system_vector = system.THIS_IS_THE_FUNCTION_TO_INTEGRATE()"
     ],
     "language": "python",
     "metadata": {},
     "outputs": [],
     "prompt_number": 105
    },
    {
     "cell_type": "code",
     "collapsed": false,
     "input": [
      "print system_vector[0]\n",
      "print system_vector[1]"
     ],
     "language": "python",
     "metadata": {},
     "outputs": [
      {
       "output_type": "stream",
       "stream": "stdout",
       "text": [
        "x: 6.63343763548e-10 y: 0.0\n",
        "x: 2.66888156487e-08 y: 0.0\n"
       ]
      }
     ],
     "prompt_number": 106
    },
    {
     "cell_type": "code",
     "collapsed": false,
     "input": [
      "# state = [pos, velocity]\n",
      "pos=array(["
     ],
     "language": "python",
     "metadata": {},
     "outputs": []
    }
   ],
   "metadata": {}
  }
 ]
}