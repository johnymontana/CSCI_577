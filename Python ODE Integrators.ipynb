{
 "metadata": {
  "name": "Python ODE Integrators"
 },
 "nbformat": 3,
 "nbformat_minor": 0,
 "worksheets": [
  {
   "cells": [
    {
     "cell_type": "code",
     "collapsed": false,
     "input": [
      "from scipy.integrate import odeint, ode\n",
      "from pylab import *\n",
      "import numpy as np"
     ],
     "language": "python",
     "metadata": {},
     "outputs": [],
     "prompt_number": 1
    },
    {
     "cell_type": "code",
     "collapsed": false,
     "input": [
      "#G =2*3.14\n",
      "#M = 0.00013\n",
      "GM = 4*math.pi**2\n",
      "Gm_1 = 0.001*GM\n",
      "Gm_2 = 0.04*GM\n",
      "#m_1 = 0.001M\n",
      "#m_2 = 0.04M\n",
      "\n",
      "DELTA_T=0.01\n",
      "\n",
      "def runge_kutta(x, f, dt):\n",
      "    k1=f(x)*dt\n",
      "    k2=f(x+0.5*k1)*dt\n",
      "    k3=f(x+0.5*k2)*dt\n",
      "    k4=f(x+k3)*dt\n",
      "    return x + (k1+2*k2+2*k3+k4)/6.0"
     ],
     "language": "python",
     "metadata": {},
     "outputs": [],
     "prompt_number": 48
    },
    {
     "cell_type": "code",
     "collapsed": false,
     "input": [
      "\n",
      "\n",
      "class Vector_2D:\n",
      "    # override operators??? => *\n",
      "    def __init__(self, initial_x, initial_y):\n",
      "        self.x = initial_x\n",
      "        self.y = initial_y\n",
      "    def __str__(self):\n",
      "        return \"x: \" + str(self.x) + \" y: \"+str(self.y)\n",
      "    def __mul__(self, other):\n",
      "        x_product = self.x * other.x\n",
      "        y_product = self.y * other.y\n",
      "        return Vector_2D(x_product, y_product)\n",
      "    def __sub__(self, other):\n",
      "        x_sub = self.x - other.x\n",
      "        y_sub = self.y - other.y\n",
      "        return Vector_2D(x_sub, y_sub)\n",
      "    def magnitude(self):\n",
      "        return sqrt(self.x**2+self.y**2)"
     ],
     "language": "python",
     "metadata": {},
     "outputs": [],
     "prompt_number": 3
    },
    {
     "cell_type": "code",
     "collapsed": false,
     "input": [],
     "language": "python",
     "metadata": {},
     "outputs": [],
     "prompt_number": 3
    },
    {
     "cell_type": "code",
     "collapsed": false,
     "input": [],
     "language": "python",
     "metadata": {},
     "outputs": [],
     "prompt_number": 3
    },
    {
     "cell_type": "code",
     "collapsed": false,
     "input": [],
     "language": "python",
     "metadata": {},
     "outputs": [],
     "prompt_number": 3
    },
    {
     "cell_type": "code",
     "collapsed": false,
     "input": [
      "r1 = Vector_2D(1., 2.)\n",
      "r2 = Vector_2D(2., 3.)\n",
      "r3 = r1-r2\n",
      "print r3"
     ],
     "language": "python",
     "metadata": {},
     "outputs": [
      {
       "output_type": "stream",
       "stream": "stdout",
       "text": [
        "x: -1.0 y: -1.0\n"
       ]
      }
     ],
     "prompt_number": 4
    },
    {
     "cell_type": "code",
     "collapsed": false,
     "input": [
      "r1.magnitude()"
     ],
     "language": "python",
     "metadata": {},
     "outputs": [
      {
       "output_type": "pyout",
       "prompt_number": 5,
       "text": [
        "2.2360679774997898"
       ]
      }
     ],
     "prompt_number": 5
    },
    {
     "cell_type": "code",
     "collapsed": false,
     "input": [
      "class Body:\n",
      "    def __init__(self, location_vector, velocity_vector, Gmass):\n",
      "        self.r = location_vector\n",
      "        self.Gmass = Gmass\n",
      "        self.velocity = velocity_vector\n",
      "    def acceleration(self, other_body):\n",
      "        # computer my acceleration\n",
      "        x_acceleration = -(GM/(self.r.magnitude()**3)*self.r.x) + (other_body.Gmass/(other_body.r-self.r).magnitude()**3)*(other_body.r.x-self.r.x)\n",
      "        y_acceleration = -(GM/(self.r.magnitude()**3)*self.r.y) + (other_body.Gmass/(other_body.r-self.r).magnitude()**3)*(other_body.r.y-self.r.y)\n",
      "        return Vector_2D(x_acceleration, y_acceleration)"
     ],
     "language": "python",
     "metadata": {},
     "outputs": [],
     "prompt_number": 6
    },
    {
     "cell_type": "code",
     "collapsed": false,
     "input": [
      "class Sun:\n",
      "    def __init__(self, mass):\n",
      "        self.mass = mass\n",
      "    def gravity(self):\n",
      "        # compute gravity?\n",
      "        pass"
     ],
     "language": "python",
     "metadata": {},
     "outputs": [],
     "prompt_number": 7
    },
    {
     "cell_type": "code",
     "collapsed": false,
     "input": [
      "class SolarSystem:\n",
      "    def __init__(self, body_1, body_2, sun):\n",
      "        self.body_1 = body_1\n",
      "        self.body_2 = body_2\n",
      "        self.sun = sun\n",
      "        self.state_list = [array([self.body_1.r, self.body_2.r, self.body_1.velocity, self.body_2.velocity])] # state_list = [array(r1, r2, v1, v2)]\n",
      "    def THIS_IS_THE_FUNCTION_TO_INTEGRATE(self):\n",
      "        body_1_accel = self.body_1.acceleration(self.body_2)\n",
      "        body_2_accel = self.body_2.acceleration(self.body_1)\n",
      "        # TODO: update body positions and velocities from runge kutta\n",
      "        return [self.body_1.acceleration(self.body_2), self.body_2.acceleration(self.body_1)]"
     ],
     "language": "python",
     "metadata": {},
     "outputs": [],
     "prompt_number": 8
    },
    {
     "cell_type": "code",
     "collapsed": false,
     "input": [
      "m1 = Body(location_vector=Vector_2D(2.52, 0.), velocity_vector=Vector_2D(0., sqrt(GM/2.52)), Gmass=Gm_1)"
     ],
     "language": "python",
     "metadata": {},
     "outputs": [],
     "prompt_number": 65
    },
    {
     "cell_type": "code",
     "collapsed": false,
     "input": [
      "m2 = Body(location_vector=Vector_2D(5.24, 0.), velocity_vector=Vector_2D(0., sqrt(GM/5.24)), Gmass=Gm_2)"
     ],
     "language": "python",
     "metadata": {},
     "outputs": [],
     "prompt_number": 66
    },
    {
     "cell_type": "code",
     "collapsed": false,
     "input": [
      "print m1.acceleration(m2)"
     ],
     "language": "python",
     "metadata": {},
     "outputs": [
      {
       "output_type": "stream",
       "stream": "stdout",
       "text": [
        "x: -6.00323903471 y: 0.0\n"
       ]
      }
     ],
     "prompt_number": 28
    },
    {
     "cell_type": "code",
     "collapsed": false,
     "input": [
      "#sun = Sun(M*G)"
     ],
     "language": "python",
     "metadata": {},
     "outputs": [],
     "prompt_number": 29
    },
    {
     "cell_type": "code",
     "collapsed": false,
     "input": [
      "#system = SolarSystem(m1, m2, sun)"
     ],
     "language": "python",
     "metadata": {},
     "outputs": [],
     "prompt_number": 30
    },
    {
     "cell_type": "code",
     "collapsed": false,
     "input": [
      "#system_vector = system.THIS_IS_THE_FUNCTION_TO_INTEGRATE()"
     ],
     "language": "python",
     "metadata": {},
     "outputs": [],
     "prompt_number": 31
    },
    {
     "cell_type": "code",
     "collapsed": false,
     "input": [
      "#print system_vector[0]\n",
      "#print system_vector[1]"
     ],
     "language": "python",
     "metadata": {},
     "outputs": [],
     "prompt_number": 32
    },
    {
     "cell_type": "code",
     "collapsed": false,
     "input": [
      "def acceleration(m1_location_vector, m2_location_vector):\n",
      "        # compute my acceleration\n",
      "        x_acceleration_m1 = -(GM/(m1_location_vector.magnitude()**3)*m1_location_vector.x) + (Gm_2/(m2_location_vector-m1_location_vector).magnitude()**3)*(m2_location_vector.x-m1_location_vector.x)\n",
      "        y_acceleration_m1 = -(GM/(m1_location_vector.magnitude()**3)*m1_location_vector.y) + (Gm_2/(m2_location_vector-m1_location_vector).magnitude()**3)*(m2_location_vector.y-m1_location_vector.y)\n",
      "        x_acceleration_m2 = -(GM/(m2_location_vector.magnitude()**3)*m2_location_vector.x) + (Gm_1/(m1_location_vector-m2_location_vector).magnitude()**3)*(m1_location_vector.x-m2_location_vector.x)\n",
      "        y_acceleration_m2 = -(GM/(m2_location_vector.magnitude()**3)*m2_location_vector.y) + (Gm_1/(m1_location_vector-m2_location_vector).magnitude()**3)*(m1_location_vector.y-m2_location_vector.y)\n",
      "        return Vector_2D(x_acceleration_m1, y_acceleration_m1), Vector_2D(x_acceleration_m1, y_acceleration_m2)"
     ],
     "language": "python",
     "metadata": {},
     "outputs": [],
     "prompt_number": 42
    },
    {
     "cell_type": "code",
     "collapsed": false,
     "input": [
      "# state = [pos, velocity]\n",
      "#pos=array([\n",
      "x1=m1.r.x\n",
      "y1=m1.r.y\n",
      "vx1=m1.velocity.x\n",
      "vy1=m1.velocity.y\n",
      "x2=m2.r.x\n",
      "y2=m2.r.y\n",
      "vx2=m2.velocity.x\n",
      "vy2=m2.velocity.y"
     ],
     "language": "python",
     "metadata": {},
     "outputs": []
    },
    {
     "cell_type": "code",
     "collapsed": false,
     "input": [
      "\n",
      "\n",
      "initial=array([x1, y1, vx1, vy1, x2, y2, vx2, vy2])\n",
      "time = linspace(0.0, 100, 10000)\n",
      "state_list=array([x1, y1, vx1, vy1, x2, y2, vx2, vy2])\n",
      "def two_body_system(state, t):\n",
      "        x1,y1,vx1,vy1,x2,y2,vx2,vy2 = state\n",
      "        #accel_1 = m1.acceleration(m2)\n",
      "        #accel_2 = m2.acceleration(m1)\n",
      "        #m1.r=Vector_2D(vx1, vy1)\n",
      "        #m1.velocity=Vector_2D(accel_1.x, accel_1.y)\n",
      "        #m2.r=Vector_2D(vx2, vy2)\n",
      "        #m2.velocity=Vector_2D(accel_2.x, accel_2.y)\n",
      "        accel_m1, accel_m2 = acceleration(Vector_2D(x1, y1), Vector_2D(x2,y2))\n",
      "        return array([vx1, vy1, accel_m1.x, accel_m1.y, vx2, vy2, accel_m2.x, accel_m2.y])"
     ],
     "language": "python",
     "metadata": {},
     "outputs": [],
     "prompt_number": 64
    },
    {
     "cell_type": "code",
     "collapsed": false,
     "input": [
      "x1=m1.r.x\n",
      "y1=m1.r.y\n",
      "vx1=m1.velocity.x\n",
      "vy1=m1.velocity.y\n",
      "x2=m2.r.x\n",
      "y2=m2.r.y\n",
      "vx2=m2.velocity.x\n",
      "vy2=m2.velocity.y\n",
      "initial=array([x1, y1, vx1, vy1, x2, y2, vx2, vy2])\n",
      "state_list=[initial]\n",
      "MAX_T=100\n",
      "t=0.0\n",
      "while t<MAX_T:\n",
      "    state_list.append(runge_kutta(state_list[-1], two_body_system, DELTA_T))\n",
      "    t += DELTA_T"
     ],
     "language": "python",
     "metadata": {},
     "outputs": [
      {
       "ename": "TypeError",
       "evalue": "two_body_system() takes exactly 2 arguments (1 given)",
       "output_type": "pyerr",
       "traceback": [
        "\u001b[0;31m---------------------------------------------------------------------------\u001b[0m\n\u001b[0;31mTypeError\u001b[0m                                 Traceback (most recent call last)",
        "\u001b[0;32m<ipython-input-67-44a6db350b29>\u001b[0m in \u001b[0;36m<module>\u001b[0;34m()\u001b[0m\n\u001b[1;32m     12\u001b[0m \u001b[0mt\u001b[0m\u001b[0;34m=\u001b[0m\u001b[0;36m0.0\u001b[0m\u001b[0;34m\u001b[0m\u001b[0m\n\u001b[1;32m     13\u001b[0m \u001b[0;32mwhile\u001b[0m \u001b[0mt\u001b[0m\u001b[0;34m<\u001b[0m\u001b[0mMAX_T\u001b[0m\u001b[0;34m:\u001b[0m\u001b[0;34m\u001b[0m\u001b[0m\n\u001b[0;32m---> 14\u001b[0;31m     \u001b[0mstate_list\u001b[0m\u001b[0;34m.\u001b[0m\u001b[0mappend\u001b[0m\u001b[0;34m(\u001b[0m\u001b[0mrunge_kutta\u001b[0m\u001b[0;34m(\u001b[0m\u001b[0mstate_list\u001b[0m\u001b[0;34m[\u001b[0m\u001b[0;34m-\u001b[0m\u001b[0;36m1\u001b[0m\u001b[0;34m]\u001b[0m\u001b[0;34m,\u001b[0m \u001b[0mtwo_body_system\u001b[0m\u001b[0;34m,\u001b[0m \u001b[0mDELTA_T\u001b[0m\u001b[0;34m)\u001b[0m\u001b[0;34m)\u001b[0m\u001b[0;34m\u001b[0m\u001b[0m\n\u001b[0m\u001b[1;32m     15\u001b[0m     \u001b[0mt\u001b[0m \u001b[0;34m+=\u001b[0m \u001b[0mDELTA_T\u001b[0m\u001b[0;34m\u001b[0m\u001b[0m\n",
        "\u001b[0;32m<ipython-input-48-4f044904ae3e>\u001b[0m in \u001b[0;36mrunge_kutta\u001b[0;34m(x, f, dt)\u001b[0m\n\u001b[1;32m     10\u001b[0m \u001b[0;34m\u001b[0m\u001b[0m\n\u001b[1;32m     11\u001b[0m \u001b[0;32mdef\u001b[0m \u001b[0mrunge_kutta\u001b[0m\u001b[0;34m(\u001b[0m\u001b[0mx\u001b[0m\u001b[0;34m,\u001b[0m \u001b[0mf\u001b[0m\u001b[0;34m,\u001b[0m \u001b[0mdt\u001b[0m\u001b[0;34m)\u001b[0m\u001b[0;34m:\u001b[0m\u001b[0;34m\u001b[0m\u001b[0m\n\u001b[0;32m---> 12\u001b[0;31m     \u001b[0mk1\u001b[0m\u001b[0;34m=\u001b[0m\u001b[0mf\u001b[0m\u001b[0;34m(\u001b[0m\u001b[0mx\u001b[0m\u001b[0;34m)\u001b[0m\u001b[0;34m*\u001b[0m\u001b[0mdt\u001b[0m\u001b[0;34m\u001b[0m\u001b[0m\n\u001b[0m\u001b[1;32m     13\u001b[0m     \u001b[0mk2\u001b[0m\u001b[0;34m=\u001b[0m\u001b[0mf\u001b[0m\u001b[0;34m(\u001b[0m\u001b[0mx\u001b[0m\u001b[0;34m+\u001b[0m\u001b[0;36m0.5\u001b[0m\u001b[0;34m*\u001b[0m\u001b[0mk1\u001b[0m\u001b[0;34m)\u001b[0m\u001b[0;34m*\u001b[0m\u001b[0mdt\u001b[0m\u001b[0;34m\u001b[0m\u001b[0m\n\u001b[1;32m     14\u001b[0m     \u001b[0mk3\u001b[0m\u001b[0;34m=\u001b[0m\u001b[0mf\u001b[0m\u001b[0;34m(\u001b[0m\u001b[0mx\u001b[0m\u001b[0;34m+\u001b[0m\u001b[0;36m0.5\u001b[0m\u001b[0;34m*\u001b[0m\u001b[0mk2\u001b[0m\u001b[0;34m)\u001b[0m\u001b[0;34m*\u001b[0m\u001b[0mdt\u001b[0m\u001b[0;34m\u001b[0m\u001b[0m\n",
        "\u001b[0;31mTypeError\u001b[0m: two_body_system() takes exactly 2 arguments (1 given)"
       ]
      }
     ],
     "prompt_number": 67
    },
    {
     "cell_type": "code",
     "collapsed": false,
     "input": [
      "print state_array"
     ],
     "language": "python",
     "metadata": {},
     "outputs": [
      {
       "output_type": "stream",
       "stream": "stdout",
       "text": [
        "[[  1.16914152e+00  -4.85999192e+01  -4.01647121e-04   1.66997212e-02\n",
        "    2.91306796e+02   1.73675956e+03  -2.10773533e-06  -1.25666051e-05]\n",
        " [  1.24103317e+01  -5.16094820e+02   2.24824213e+02  -9.34991499e+03\n",
        "    1.27836808e+08   7.62180461e+08   2.55673033e+09   1.52435745e+10]\n",
        " [  3.48927530e+01  -1.45108632e+03   2.24824213e+02  -9.34991499e+03\n",
        "    3.83509841e+08   2.28653791e+09   2.55673033e+09   1.52435745e+10]\n",
        " [  5.73751743e+01  -2.38607782e+03   2.24824213e+02  -9.34991499e+03\n",
        "    6.39182874e+08   3.81089536e+09   2.55673033e+09   1.52435745e+10]\n",
        " [  7.98575956e+01  -3.32106932e+03   2.24824213e+02  -9.34991499e+03\n",
        "    8.94855907e+08   5.33525281e+09   2.55673033e+09   1.52435745e+10]\n",
        " [  1.02340017e+02  -4.25606081e+03   2.24824213e+02  -9.34991499e+03\n",
        "    1.15052894e+09   6.85961025e+09   2.55673033e+09   1.52435745e+10]\n",
        " [  1.24822438e+02  -5.19105231e+03   2.24824213e+02  -9.34991499e+03\n",
        "    1.40620197e+09   8.38396770e+09   2.55673033e+09   1.52435745e+10]\n",
        " [  1.47304860e+02  -6.12604381e+03   2.24824213e+02  -9.34991499e+03\n",
        "    1.66187501e+09   9.90832515e+09   2.55673033e+09   1.52435745e+10]\n",
        " [  1.69787281e+02  -7.06103531e+03   2.24824213e+02  -9.34991499e+03\n",
        "    1.91754804e+09   1.14326826e+10   2.55673033e+09   1.52435745e+10]\n",
        " [  1.92269702e+02  -7.99602681e+03   2.24824213e+02  -9.34991499e+03\n",
        "    2.17322107e+09   1.29570400e+10   2.55673033e+09   1.52435745e+10]\n",
        " [  2.14752123e+02  -8.93101831e+03   2.24824213e+02  -9.34991499e+03\n",
        "    2.42889410e+09   1.44813975e+10   2.55673033e+09   1.52435745e+10]\n",
        " [  2.37234545e+02  -9.86600981e+03   2.24824213e+02  -9.34991499e+03\n",
        "    2.68456714e+09   1.60057549e+10   2.55673033e+09   1.52435745e+10]]\n"
       ]
      }
     ],
     "prompt_number": 45
    },
    {
     "cell_type": "code",
     "collapsed": false,
     "input": [
      "state_array=array(state_list)\n",
      "#print state_array[:,1]"
     ],
     "language": "python",
     "metadata": {},
     "outputs": [],
     "prompt_number": 56
    },
    {
     "cell_type": "code",
     "collapsed": false,
     "input": [
      "clf()\n",
      "scatter(state_array[:,0],state_array[:,1], label='Body 1', color='c')\n",
      "plot(state_array[:,2],state_array[:,3], label='Body 2', color='m')\n",
      "# Plot the results\n",
      "xlabel('Distance [AU]')\n",
      "ylabel('Distance [AU]')\n",
      "title('Planetary Motion')\n",
      "grid()\n",
      "show()"
     ],
     "language": "python",
     "metadata": {},
     "outputs": [
      {
       "output_type": "display_data",
       "png": "[encoded data removed]"
      }
     ],
     "prompt_number": 58
    },
    {
     "cell_type": "code",
     "collapsed": false,
     "input": [],
     "language": "python",
     "metadata": {},
     "outputs": []
    },
    {
     "cell_type": "code",
     "collapsed": false,
     "input": [
      "y=odeint(two_body_system, initial, time)"
     ],
     "language": "python",
     "metadata": {},
     "outputs": [],
     "prompt_number": 68
    },
    {
     "cell_type": "code",
     "collapsed": false,
     "input": [
      "plot(y[:,0], y[:,1])\n",
      "plot(y[:,2], y[:,3])"
     ],
     "language": "python",
     "metadata": {},
     "outputs": [
      {
       "output_type": "pyout",
       "prompt_number": 69,
       "text": [
        "[<matplotlib.lines.Line2D at 0x107338e90>]"
       ]
      },
      {
       "output_type": "display_data",
       "png": "[encoded data removed]"
      }
     ],
     "prompt_number": 69
    },
    {
     "cell_type": "code",
     "collapsed": false,
     "input": [
      "print y"
     ],
     "language": "python",
     "metadata": {},
     "outputs": [
      {
       "output_type": "stream",
       "stream": "stdout",
       "text": [
        "[[  2.52000000e+00   0.00000000e+00   0.00000000e+00 ...,   0.00000000e+00\n",
        "    0.00000000e+00   2.74482225e+00]\n",
        " [  2.52000000e+00   1.20864583e-02  -1.63809538e-20 ...,   8.36888817e-03\n",
        "    4.09344620e-20   2.72878864e+00]\n",
        " [  0.00000000e+00   0.00000000e+00   0.00000000e+00 ...,   0.00000000e+00\n",
        "    0.00000000e+00   0.00000000e+00]\n",
        " ..., \n",
        " [  0.00000000e+00   0.00000000e+00   0.00000000e+00 ...,   0.00000000e+00\n",
        "    0.00000000e+00   0.00000000e+00]\n",
        " [  0.00000000e+00   0.00000000e+00   0.00000000e+00 ...,   0.00000000e+00\n",
        "    0.00000000e+00   0.00000000e+00]\n",
        " [  0.00000000e+00   0.00000000e+00   0.00000000e+00 ...,   0.00000000e+00\n",
        "    0.00000000e+00   0.00000000e+00]]\n"
       ]
      }
     ],
     "prompt_number": 29
    },
    {
     "cell_type": "code",
     "collapsed": false,
     "input": [
      "i=ode(two_body_system)\n",
      "i.set_integrator('vode', method='adams')\n",
      "i.set_initial_value(initial, 0.0)\n"
     ],
     "language": "python",
     "metadata": {},
     "outputs": [
      {
       "output_type": "pyout",
       "prompt_number": 30,
       "text": [
        "<scipy.integrate._ode.ode at 0x106c28190>"
       ]
      }
     ],
     "prompt_number": 30
    },
    {
     "cell_type": "code",
     "collapsed": false,
     "input": [
      "tf=100\n",
      "dt = 0.001\n",
      "times = arange(0.0, tf, dt)\n",
      "yf=[]\n",
      "for t in times:\n",
      "    i.integrate(i.t+dt)\n",
      "    yf.append(i.y)"
     ],
     "language": "python",
     "metadata": {},
     "outputs": [
      {
       "ename": "TypeError",
       "evalue": "'float' object is not iterable",
       "output_type": "pyerr",
       "traceback": [
        "\u001b[0;31m---------------------------------------------------------------------------\u001b[0m\n\u001b[0;31mTypeError\u001b[0m                                 Traceback (most recent call last)",
        "\u001b[0;32m<ipython-input-32-a9e9b8ae06d4>\u001b[0m in \u001b[0;36m<module>\u001b[0;34m()\u001b[0m\n\u001b[1;32m      4\u001b[0m \u001b[0myf\u001b[0m\u001b[0;34m=\u001b[0m\u001b[0;34m[\u001b[0m\u001b[0;34m]\u001b[0m\u001b[0;34m\u001b[0m\u001b[0m\n\u001b[1;32m      5\u001b[0m \u001b[0;32mfor\u001b[0m \u001b[0mt\u001b[0m \u001b[0;32min\u001b[0m \u001b[0mtimes\u001b[0m\u001b[0;34m:\u001b[0m\u001b[0;34m\u001b[0m\u001b[0m\n\u001b[0;32m----> 6\u001b[0;31m     \u001b[0mi\u001b[0m\u001b[0;34m.\u001b[0m\u001b[0mintegrate\u001b[0m\u001b[0;34m(\u001b[0m\u001b[0mi\u001b[0m\u001b[0;34m.\u001b[0m\u001b[0mt\u001b[0m\u001b[0;34m+\u001b[0m\u001b[0mdt\u001b[0m\u001b[0;34m)\u001b[0m\u001b[0;34m\u001b[0m\u001b[0m\n\u001b[0m\u001b[1;32m      7\u001b[0m     \u001b[0myf\u001b[0m\u001b[0;34m.\u001b[0m\u001b[0mappend\u001b[0m\u001b[0;34m(\u001b[0m\u001b[0mi\u001b[0m\u001b[0;34m.\u001b[0m\u001b[0my\u001b[0m\u001b[0;34m)\u001b[0m\u001b[0;34m\u001b[0m\u001b[0m\n",
        "\u001b[0;32m/Library/Frameworks/EPD64.framework/Versions/7.3/lib/python2.7/site-packages/scipy/integrate/_ode.py\u001b[0m in \u001b[0;36mintegrate\u001b[0;34m(self, t, step, relax)\u001b[0m\n\u001b[1;32m    331\u001b[0m         self.y, self.t = mth(self.f, self.jac or (lambda: None),\n\u001b[1;32m    332\u001b[0m                             \u001b[0mself\u001b[0m\u001b[0;34m.\u001b[0m\u001b[0my\u001b[0m\u001b[0;34m,\u001b[0m \u001b[0mself\u001b[0m\u001b[0;34m.\u001b[0m\u001b[0mt\u001b[0m\u001b[0;34m,\u001b[0m \u001b[0mt\u001b[0m\u001b[0;34m,\u001b[0m\u001b[0;34m\u001b[0m\u001b[0m\n\u001b[0;32m--> 333\u001b[0;31m                             self.f_params, self.jac_params)\n\u001b[0m\u001b[1;32m    334\u001b[0m         \u001b[0;32mreturn\u001b[0m \u001b[0mself\u001b[0m\u001b[0;34m.\u001b[0m\u001b[0my\u001b[0m\u001b[0;34m\u001b[0m\u001b[0m\n\u001b[1;32m    335\u001b[0m \u001b[0;34m\u001b[0m\u001b[0m\n",
        "\u001b[0;32m/Library/Frameworks/EPD64.framework/Versions/7.3/lib/python2.7/site-packages/scipy/integrate/_ode.py\u001b[0m in \u001b[0;36mrun\u001b[0;34m(self, *args)\u001b[0m\n\u001b[1;32m    629\u001b[0m             \u001b[0mself\u001b[0m\u001b[0;34m.\u001b[0m\u001b[0macquire_new_handle\u001b[0m\u001b[0;34m(\u001b[0m\u001b[0;34m)\u001b[0m\u001b[0;34m\u001b[0m\u001b[0m\n\u001b[1;32m    630\u001b[0m         y1, t, istate = self.runner(*(args[:5] + tuple(self.call_args) +\n\u001b[0;32m--> 631\u001b[0;31m                                       args[5:]))\n\u001b[0m\u001b[1;32m    632\u001b[0m         \u001b[0;32mif\u001b[0m \u001b[0mistate\u001b[0m \u001b[0;34m<\u001b[0m \u001b[0;36m0\u001b[0m\u001b[0;34m:\u001b[0m\u001b[0;34m\u001b[0m\u001b[0m\n\u001b[1;32m    633\u001b[0m             warnings.warn('vode: ' +\n",
        "\u001b[0;32m<ipython-input-17-4eabf17b7560>\u001b[0m in \u001b[0;36mtwo_body_system\u001b[0;34m(state, t)\u001b[0m\n\u001b[1;32m     14\u001b[0m \u001b[0mstate_list\u001b[0m\u001b[0;34m=\u001b[0m\u001b[0marray\u001b[0m\u001b[0;34m(\u001b[0m\u001b[0;34m[\u001b[0m\u001b[0mx1\u001b[0m\u001b[0;34m,\u001b[0m \u001b[0my1\u001b[0m\u001b[0;34m,\u001b[0m \u001b[0mvx1\u001b[0m\u001b[0;34m,\u001b[0m \u001b[0mvy1\u001b[0m\u001b[0;34m,\u001b[0m \u001b[0mx2\u001b[0m\u001b[0;34m,\u001b[0m \u001b[0my2\u001b[0m\u001b[0;34m,\u001b[0m \u001b[0mvx2\u001b[0m\u001b[0;34m,\u001b[0m \u001b[0mvy2\u001b[0m\u001b[0;34m]\u001b[0m\u001b[0;34m)\u001b[0m\u001b[0;34m\u001b[0m\u001b[0m\n\u001b[1;32m     15\u001b[0m \u001b[0;32mdef\u001b[0m \u001b[0mtwo_body_system\u001b[0m\u001b[0;34m(\u001b[0m\u001b[0mstate\u001b[0m\u001b[0;34m,\u001b[0m \u001b[0mt\u001b[0m\u001b[0;34m)\u001b[0m\u001b[0;34m:\u001b[0m\u001b[0;34m\u001b[0m\u001b[0m\n\u001b[0;32m---> 16\u001b[0;31m         \u001b[0mx1\u001b[0m\u001b[0;34m,\u001b[0m\u001b[0my1\u001b[0m\u001b[0;34m,\u001b[0m\u001b[0mvx1\u001b[0m\u001b[0;34m,\u001b[0m\u001b[0mvy1\u001b[0m\u001b[0;34m,\u001b[0m\u001b[0mx2\u001b[0m\u001b[0;34m,\u001b[0m\u001b[0my2\u001b[0m\u001b[0;34m,\u001b[0m\u001b[0mvx2\u001b[0m\u001b[0;34m,\u001b[0m\u001b[0mvy2\u001b[0m \u001b[0;34m=\u001b[0m \u001b[0mstate\u001b[0m\u001b[0;34m\u001b[0m\u001b[0m\n\u001b[0m\u001b[1;32m     17\u001b[0m         \u001b[0maccel_1\u001b[0m \u001b[0;34m=\u001b[0m \u001b[0mm1\u001b[0m\u001b[0;34m.\u001b[0m\u001b[0macceleration\u001b[0m\u001b[0;34m(\u001b[0m\u001b[0mm2\u001b[0m\u001b[0;34m)\u001b[0m\u001b[0;34m\u001b[0m\u001b[0m\n\u001b[1;32m     18\u001b[0m         \u001b[0maccel_2\u001b[0m \u001b[0;34m=\u001b[0m \u001b[0mm2\u001b[0m\u001b[0;34m.\u001b[0m\u001b[0macceleration\u001b[0m\u001b[0;34m(\u001b[0m\u001b[0mm1\u001b[0m\u001b[0;34m)\u001b[0m\u001b[0;34m\u001b[0m\u001b[0m\n",
        "\u001b[0;31mTypeError\u001b[0m: 'float' object is not iterable"
       ]
      }
     ],
     "prompt_number": 32
    },
    {
     "cell_type": "code",
     "collapsed": false,
     "input": [
      "yf = np.array(yf)\n",
      "x  = yf[:,0]\n",
      "y  = yf[:,1]\n",
      "x2 = yf[:,2]\n",
      "y2 = yf[:,3]\n",
      "\n",
      "clf()\n",
      "plot(x,y, label='Body 1', color='c')\n",
      "plot(x2,y2, label='Body 2', color='m')\n",
      "# Plot the results\n",
      "xlabel('Distance [AU]')\n",
      "ylabel('Distance [AU]')\n",
      "title('Planetary Motion')\n",
      "grid()\n",
      "show()"
     ],
     "language": "python",
     "metadata": {},
     "outputs": [
      {
       "output_type": "display_data",
       "png": "[encoded data removed]"
      }
     ],
     "prompt_number": 79
    },
    {
     "cell_type": "code",
     "collapsed": false,
     "input": [],
     "language": "python",
     "metadata": {},
     "outputs": []
    }
   ],
   "metadata": {}
  }
 ]
}