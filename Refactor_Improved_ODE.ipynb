{
 "metadata": {
  "name": "Refactor_Improved_ODE"
 },
 "nbformat": 3,
 "nbformat_minor": 0,
 "worksheets": [
  {
   "cells": [
    {
     "cell_type": "code",
     "collapsed": false,
     "input": [
      "from pylab import *\n",
      "G = 9.8\n"
     ],
     "language": "python",
     "metadata": {},
     "outputs": [],
     "prompt_number": 1
    },
    {
     "cell_type": "heading",
     "level": 2,
     "metadata": {},
     "source": [
      "ODE Integrators"
     ]
    },
    {
     "cell_type": "code",
     "collapsed": false,
     "input": [
      "def euler(x, f, dt):\n",
      "    return x+f(x)*dt"
     ],
     "language": "python",
     "metadata": {},
     "outputs": [],
     "prompt_number": 2
    },
    {
     "cell_type": "code",
     "collapsed": false,
     "input": [
      "def euler_richardson(x, f, dt):\n",
      "    x_mid = x + f(x) * 0.5 *dt\n",
      "    return x + f(x_mid)*dt"
     ],
     "language": "python",
     "metadata": {},
     "outputs": [],
     "prompt_number": 3
    },
    {
     "cell_type": "code",
     "collapsed": false,
     "input": [
      "def runge_kutta(x, f, dt):\n",
      "    k1=f(x)*dt\n",
      "    k2=f(x+0.5*k1)*dt\n",
      "    k3=f(x+0.5*k2)*dt\n",
      "    k4=f(x+k3)*dt\n",
      "    return x + (k1+2*k2+2*k3+k4)/6.0"
     ],
     "language": "python",
     "metadata": {},
     "outputs": [],
     "prompt_number": 4
    },
    {
     "cell_type": "code",
     "collapsed": false,
     "input": [
      "def pc(x0, x, f, dt):\n",
      "    x_p = x0 + f(x) * 2 *dt\n",
      "    return x + f(x+x_p) * 0.5 * dt"
     ],
     "language": "python",
     "metadata": {},
     "outputs": [],
     "prompt_number": 5
    },
    {
     "cell_type": "heading",
     "level": 2,
     "metadata": {},
     "source": [
      "Harmonic Oscillation"
     ]
    },
    {
     "cell_type": "heading",
     "level": 4,
     "metadata": {},
     "source": [
      "Initial Setup"
     ]
    },
    {
     "cell_type": "code",
     "collapsed": false,
     "input": [
      "y0 = 1.\n",
      "v0 = 0.\n",
      "k = 1.\n",
      "m = 1.\n",
      "DELTA_T=0.003\n",
      "POS_INDEX = 0\n",
      "VEL_INDEX = 1"
     ],
     "language": "python",
     "metadata": {},
     "outputs": [],
     "prompt_number": 27
    },
    {
     "cell_type": "code",
     "collapsed": false,
     "input": [
      "def spring(x):\n",
      "    return array([x[VEL_INDEX], -k*x[POS_INDEX] / m])"
     ],
     "language": "python",
     "metadata": {},
     "outputs": [],
     "prompt_number": 28
    },
    {
     "cell_type": "code",
     "collapsed": false,
     "input": [
      "def spring_energy(x):\n",
      "    return 0.5 * k * x[POS_INDEX]**2 + 0.5 * m * x[VEL_INDEX]**2"
     ],
     "language": "python",
     "metadata": {},
     "outputs": [],
     "prompt_number": 29
    },
    {
     "cell_type": "code",
     "collapsed": false,
     "input": [
      "def analytic_spring(t):\n",
      "    return y0 * cos(sqrt((k/m))*t)"
     ],
     "language": "python",
     "metadata": {},
     "outputs": [],
     "prompt_number": 30
    },
    {
     "cell_type": "code",
     "collapsed": false,
     "input": [],
     "language": "python",
     "metadata": {},
     "outputs": [],
     "prompt_number": 30
    },
    {
     "cell_type": "code",
     "collapsed": false,
     "input": [
      "state_er = [array([y0,v0])]\n",
      "state_euler = [array([y0,v0])]\n",
      "state_rk = [array([y0, v0])]\n",
      "state_pc = [array([y0, v0])]\n",
      "state_pc.append(runge_kutta(state_pc[-1], spring, DELTA_T))\n",
      "period_count=0\n",
      "while True:\n",
      "    state_rk.append(runge_kutta(state_rk[-1], spring, DELTA_T))\n",
      "    state_er.append(euler_richardson(state_er[-1], spring, DELTA_T))\n",
      "    state_euler.append(euler(state_euler[-1], spring, DELTA_T))\n",
      "    \n",
      "    state_pc.append(pc(state_pc[-2],state_pc[-1], spring, DELTA_T))\n",
      "    if (state_rk[-1][0]<0 and state_rk[-2][0]>0) or (state_rk[-1][0]>0 and state_rk[-2][0]<0):\n",
      "        period_count+=1\n",
      "    if period_count > 10:\n",
      "        break\n",
      "state_er = array(state_er)\n",
      "euler_richardson_state_array = state_er\n",
      "state_er = state_er[:,0]\n",
      "\n",
      "state_euler = array(state_euler)\n",
      "euler_state_array = state_euler\n",
      "state_euler = state_euler[:,0]\n",
      "\n",
      "state_rk = array(state_rk)\n",
      "rk_state_array = state_rk\n",
      "state_rk = state_rk[:,0]\n",
      "#print state\n",
      "\n",
      "state_pc = array(state_pc)\n",
      "pc_state_array = state_pc\n",
      "state_pc = state_pc[:,0]\n",
      "plot(state_er, label=\"Euler-Richardson simulation\")\n",
      "plot(state_euler, label=\"Euler method simulation\")\n",
      "plot(state_rk, label=\"Runge-Kutta\")\n",
      "plot(state_pc, label=\"Predictor Corrector\")\n",
      "xlabel(\"Number of timesteps, dt=%f s\" % DELTA_T)\n",
      "ylabel(\"x position\")\n",
      "legend(loc='lower left')"
     ],
     "language": "python",
     "metadata": {},
     "outputs": [
      {
       "output_type": "pyout",
       "prompt_number": 31,
       "text": [
        "<matplotlib.legend.Legend at 0x10476df10>"
       ]
      },
      {
       "output_type": "display_data",
       "png": "[encoded data removed]"
      }
     ],
     "prompt_number": 31
    },
    {
     "cell_type": "code",
     "collapsed": false,
     "input": [],
     "language": "python",
     "metadata": {},
     "outputs": []
    },
    {
     "cell_type": "code",
     "collapsed": false,
     "input": [],
     "language": "python",
     "metadata": {},
     "outputs": []
    },
    {
     "cell_type": "code",
     "collapsed": false,
     "input": [],
     "language": "python",
     "metadata": {},
     "outputs": []
    },
    {
     "cell_type": "code",
     "collapsed": false,
     "input": [
      "total_energy_euler = energy_calc(euler_state_array)\n",
      "total_energy_ER = energy_calc(euler_richardson_state_array)\n",
      "total_energy_RK = energy_calc(rk_state_array)\n",
      "\n",
      "plot(total_energy_euler, label=\"Euler\")\n",
      "plot(total_energy_ER, label=\"Euler-Richardson\")\n",
      "plot(total_energy_RK, label=\"Runge Katta\")\n",
      "legend(loc='upper left')"
     ],
     "language": "python",
     "metadata": {},
     "outputs": []
    },
    {
     "cell_type": "code",
     "collapsed": false,
     "input": [],
     "language": "python",
     "metadata": {},
     "outputs": []
    },
    {
     "cell_type": "code",
     "collapsed": false,
     "input": [
      "def calc_error_in_energy(total_energy):\n",
      "    #print total_energy\n",
      "    begin_te = total_energy[0]\n",
      "    end_te = total_energy[-1]\n",
      "    #print \"begin: \" + str(begin_te)\n",
      "    #print \"end: \" + str(end_te)\n",
      "    percent_error = (end_te-begin_te)/begin_te\n",
      "    return percent_error\n",
      "\n"
     ],
     "language": "python",
     "metadata": {},
     "outputs": []
    },
    {
     "cell_type": "code",
     "collapsed": false,
     "input": [
      "for energy_list in [total_energy_ER, total_energy_RK, total_energy_euler]:\n",
      "    print calc_error_in_energy(energy_list)"
     ],
     "language": "python",
     "metadata": {},
     "outputs": []
    }
   ],
   "metadata": {}
  }
 ]
}