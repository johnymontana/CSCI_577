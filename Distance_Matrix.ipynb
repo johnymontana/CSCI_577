{
 "metadata": {
  "name": "Distance_Matrix"
 },
 "nbformat": 3,
 "nbformat_minor": 0,
 "worksheets": [
  {
   "cells": [
    {
     "cell_type": "code",
     "collapsed": false,
     "input": [
      "import numpy as np\n",
      "\n",
      "class Vector_2D:\n",
      "    # override operators??? => *\n",
      "    def __init__(self, initial_x, initial_y):\n",
      "        self.x = initial_x\n",
      "        self.y = initial_y\n",
      "    def __str__(self):\n",
      "        return \"x: \" + str(self.x) + \" y: \"+str(self.y) + \" | \"\n",
      "    \n",
      "    def __mul__(self, other):\n",
      "        x_product = self.x * other.x\n",
      "        y_product = self.y * other.y\n",
      "        return Vector_2D(x_product, y_product)\n",
      "    \n",
      "    def __mod__(self, other):\n",
      "        return self.magnitude_of_dist(self-other)\n",
      "    \n",
      "    def __sub__(self, other):\n",
      "        x_sub = self.x - other.x\n",
      "        y_sub = self.y - other.y\n",
      "        return Vector_2D(x_sub, y_sub)\n",
      "    \n",
      "    def __div__(self, other):\n",
      "        x_div = self.x / other.x\n",
      "        y_div = self.y / other.y\n",
      "        return Vector_2D(x_div, y_div)\n",
      "    \n",
      "    def __pow__(self, power):\n",
      "        x = self.x\n",
      "        y = self.y\n",
      "        for i in range(power-1):\n",
      "            self.x *= x\n",
      "            self.y *= y\n",
      "        return self\n",
      "    \n",
      "    def magnitude_of_dist(self, r):\n",
      "        return sqrt(r.x**2+r.y**2)\n",
      "    \n",
      "    def magnitude(self):\n",
      "        return sqrt(self.x**2+self.y**2)\n"
     ],
     "language": "python",
     "metadata": {},
     "outputs": [],
     "prompt_number": 34
    },
    {
     "cell_type": "code",
     "collapsed": false,
     "input": [
      "r1 = np.array([Vector_2D(1, 2), Vector_2D(3, 4), Vector_2D(1,5)])\n",
      "r2 = np.array([Vector_2D(6, 2), Vector_2D(7, 8), Vector_2D(8,1)])"
     ],
     "language": "python",
     "metadata": {},
     "outputs": [],
     "prompt_number": 35
    },
    {
     "cell_type": "code",
     "collapsed": false,
     "input": [
      "print r1"
     ],
     "language": "python",
     "metadata": {},
     "outputs": [
      {
       "output_type": "stream",
       "stream": "stdout",
       "text": [
        "[x: 1 y: 2 |  x: 3 y: 4 |  x: 1 y: 5 | ]\n"
       ]
      }
     ],
     "prompt_number": 36
    },
    {
     "cell_type": "code",
     "collapsed": false,
     "input": [
      "r3 = r1%r2"
     ],
     "language": "python",
     "metadata": {},
     "outputs": [],
     "prompt_number": 37
    },
    {
     "cell_type": "code",
     "collapsed": false,
     "input": [
      "print r3"
     ],
     "language": "python",
     "metadata": {},
     "outputs": [
      {
       "output_type": "stream",
       "stream": "stdout",
       "text": [
        "[5.0 5.65685424949 8.0622577483]\n"
       ]
      }
     ],
     "prompt_number": 38
    },
    {
     "cell_type": "code",
     "collapsed": false,
     "input": [],
     "language": "python",
     "metadata": {},
     "outputs": []
    }
   ],
   "metadata": {}
  }
 ]
}