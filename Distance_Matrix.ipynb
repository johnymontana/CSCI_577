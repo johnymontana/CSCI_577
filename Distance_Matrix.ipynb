{
 "metadata": {
  "name": "Distance_Matrix"
 },
 "nbformat": 3,
 "nbformat_minor": 0,
 "worksheets": [
  {
   "cells": [
    {
     "cell_type": "code",
     "collapsed": false,
     "input": [
      "import numpy as np\n",
      "\n",
      "class Vector_2D:\n",
      "    # override operators??? => *\n",
      "    def __init__(self, initial_x, initial_y):\n",
      "        self.x = initial_x\n",
      "        self.y = initial_y\n",
      "    def __str__(self):\n",
      "        return \"x: \" + str(self.x) + \" y: \"+str(self.y) + \" | \"\n",
      "    \n",
      "    def __mul__(self, other):\n",
      "        x_product = self.x * other.x\n",
      "        y_product = self.y * other.y\n",
      "        return Vector_2D(x_product, y_product)\n",
      "    \n",
      "    def __mod__(self, other):   # overload MOD operator to render magnitude of distance\n",
      "        return self.magnitude_of_dist(self-other)\n",
      "    \n",
      "    def __sub__(self, other):\n",
      "        x_sub = self.x - other.x\n",
      "        y_sub = self.y - other.y\n",
      "        return Vector_2D(x_sub, y_sub)\n",
      "    \n",
      "    def __div__(self, other):\n",
      "        x_div = self.x / other.x\n",
      "        y_div = self.y / other.y\n",
      "        return Vector_2D(x_div, y_div)\n",
      "    \n",
      "    def __pow__(self, power):\n",
      "        x = self.x\n",
      "        y = self.y\n",
      "        for i in range(power-1):\n",
      "            self.x *= x\n",
      "            self.y *= y\n",
      "        return self\n",
      "    \n",
      "    def magnitude_of_dist(self, r):\n",
      "        return sqrt(r.x**2+r.y**2)\n",
      "    \n",
      "    def magnitude(self):\n",
      "        return sqrt(self.x**2+self.y**2)\n"
     ],
     "language": "python",
     "metadata": {},
     "outputs": [],
     "prompt_number": 4
    },
    {
     "cell_type": "code",
     "collapsed": false,
     "input": [
      "#r1 = np.array([Vector_2D(1, 2), Vector_2D(3, 4), Vector_2D(1,5)])\n",
      "#r2 = np.array([Vector_2D(6, 2), Vector_2D(7, 8), Vector_2D(8,1)])\n"
     ],
     "language": "python",
     "metadata": {},
     "outputs": [],
     "prompt_number": 5
    },
    {
     "cell_type": "heading",
     "level": 3,
     "metadata": {},
     "source": [
      "Proof of concept"
     ]
    },
    {
     "cell_type": "code",
     "collapsed": false,
     "input": [
      "r1 = Vector_2D(1, 2)\n",
      "r2 = Vector_2D(3, 4)\n",
      "r3 = Vector_2D(5, 6)\n",
      "r4 = Vector_2D(8, 9)\n",
      "r5 = Vector_2D(2, 3)\n",
      "\n",
      "matrix_1 = np.array([[r1, r2, r3, r4, r5],[r1, r2, r3, r4, r5],[r1, r2, r3, r4, r5],[r1, r2, r3, r4, r5],[r1, r2, r3, r4, r5]])\n",
      "matrix_2 = np.array([[r1, r1, r1, r1, r1],[r2, r2, r2, r2, r2],[r3, r3, r3, r3, r3],[r4, r4, r4, r4, r4],[r5, r5, r5, r5, r5]])\n",
      "                    "
     ],
     "language": "python",
     "metadata": {},
     "outputs": [],
     "prompt_number": 6
    },
    {
     "cell_type": "code",
     "collapsed": false,
     "input": [
      "print matrix_1"
     ],
     "language": "python",
     "metadata": {},
     "outputs": [
      {
       "output_type": "stream",
       "stream": "stdout",
       "text": [
        "[[x: 1 y: 2 |  x: 3 y: 4 |  x: 5 y: 6 |  x: 8 y: 9 |  x: 2 y: 3 | ]\n",
        " [x: 1 y: 2 |  x: 3 y: 4 |  x: 5 y: 6 |  x: 8 y: 9 |  x: 2 y: 3 | ]\n",
        " [x: 1 y: 2 |  x: 3 y: 4 |  x: 5 y: 6 |  x: 8 y: 9 |  x: 2 y: 3 | ]\n",
        " [x: 1 y: 2 |  x: 3 y: 4 |  x: 5 y: 6 |  x: 8 y: 9 |  x: 2 y: 3 | ]\n",
        " [x: 1 y: 2 |  x: 3 y: 4 |  x: 5 y: 6 |  x: 8 y: 9 |  x: 2 y: 3 | ]]\n"
       ]
      }
     ],
     "prompt_number": 7
    },
    {
     "cell_type": "code",
     "collapsed": false,
     "input": [
      "distance_matrix = matrix_1 % matrix_2"
     ],
     "language": "python",
     "metadata": {},
     "outputs": [],
     "prompt_number": 8
    },
    {
     "cell_type": "code",
     "collapsed": false,
     "input": [
      "print distance_matrix"
     ],
     "language": "python",
     "metadata": {},
     "outputs": [
      {
       "output_type": "stream",
       "stream": "stdout",
       "text": [
        "[[0.0 2.82842712475 5.65685424949 9.89949493661 1.41421356237]\n",
        " [2.82842712475 0.0 2.82842712475 7.07106781187 1.41421356237]\n",
        " [5.65685424949 2.82842712475 0.0 4.24264068712 4.24264068712]\n",
        " [9.89949493661 7.07106781187 4.24264068712 0.0 8.48528137424]\n",
        " [1.41421356237 1.41421356237 4.24264068712 8.48528137424 0.0]]\n"
       ]
      }
     ],
     "prompt_number": 9
    },
    {
     "cell_type": "code",
     "collapsed": false,
     "input": [
      "my_list = [1, 2, 3, 4, 5]\n",
      "matrix1 = [item for item in my_list]"
     ],
     "language": "python",
     "metadata": {},
     "outputs": [],
     "prompt_number": 10
    },
    {
     "cell_type": "code",
     "collapsed": false,
     "input": [
      "matrix1"
     ],
     "language": "python",
     "metadata": {},
     "outputs": [
      {
       "output_type": "pyout",
       "prompt_number": 11,
       "text": [
        "[1, 2, 3, 4, 5]"
       ]
      }
     ],
     "prompt_number": 11
    },
    {
     "cell_type": "code",
     "collapsed": false,
     "input": [
      "my_list"
     ],
     "language": "python",
     "metadata": {},
     "outputs": [
      {
       "output_type": "pyout",
       "prompt_number": 12,
       "text": [
        "[1, 2, 3, 4, 5]"
       ]
      }
     ],
     "prompt_number": 12
    },
    {
     "cell_type": "code",
     "collapsed": false,
     "input": [
      "matrix1 = np.tile(np.array(my_list), (len(my_list),1))\n",
      "matrix1"
     ],
     "language": "python",
     "metadata": {},
     "outputs": [
      {
       "output_type": "pyout",
       "prompt_number": 19,
       "text": [
        "array([[1, 2, 3, 4, 5],\n",
        "       [1, 2, 3, 4, 5],\n",
        "       [1, 2, 3, 4, 5],\n",
        "       [1, 2, 3, 4, 5],\n",
        "       [1, 2, 3, 4, 5]])"
       ]
      }
     ],
     "prompt_number": 19
    },
    {
     "cell_type": "code",
     "collapsed": false,
     "input": [
      "matrix2 = np.tilenp.tile(my_list[0], len(my_list))\n",
      "matrix2"
     ],
     "language": "python",
     "metadata": {},
     "outputs": [
      {
       "output_type": "pyout",
       "prompt_number": 29,
       "text": [
        "array([1, 1, 1, 1, 1])"
       ]
      }
     ],
     "prompt_number": 29
    },
    {
     "cell_type": "code",
     "collapsed": false,
     "input": [
      "np.array([np.tile(item, len(my_list)) for item in my_list])"
     ],
     "language": "python",
     "metadata": {},
     "outputs": [
      {
       "output_type": "pyout",
       "prompt_number": 38,
       "text": [
        "array([[1, 1, 1, 1, 1],\n",
        "       [2, 2, 2, 2, 2],\n",
        "       [3, 3, 3, 3, 3],\n",
        "       [4, 4, 4, 4, 4],\n",
        "       [5, 5, 5, 5, 5]])"
       ]
      }
     ],
     "prompt_number": 38
    },
    {
     "cell_type": "heading",
     "level": 3,
     "metadata": {},
     "source": [
      "Distance Matrix Using Vector_2D objects"
     ]
    },
    {
     "cell_type": "code",
     "collapsed": false,
     "input": [
      "r1 = Vector_2D(1, 2)\n",
      "r2 = Vector_2D(3, 4)\n",
      "r3 = Vector_2D(5, 6)\n",
      "r4 = Vector_2D(8, 9)\n",
      "r5 = Vector_2D(2, 3)\n",
      "vector_list = [r1, r2, r3, r4, r5]"
     ],
     "language": "python",
     "metadata": {},
     "outputs": [],
     "prompt_number": 32
    },
    {
     "cell_type": "code",
     "collapsed": false,
     "input": [
      "matrix_1 = np.tile(vector_list, (len(vector_list),1))\n",
      "matrix_1"
     ],
     "language": "python",
     "metadata": {},
     "outputs": [
      {
       "output_type": "pyout",
       "prompt_number": 35,
       "text": [
        "array([[x: 1 y: 2 | , x: 3 y: 4 | , x: 5 y: 6 | , x: 8 y: 9 | , x: 2 y: 3 | ],\n",
        "       [x: 1 y: 2 | , x: 3 y: 4 | , x: 5 y: 6 | , x: 8 y: 9 | , x: 2 y: 3 | ],\n",
        "       [x: 1 y: 2 | , x: 3 y: 4 | , x: 5 y: 6 | , x: 8 y: 9 | , x: 2 y: 3 | ],\n",
        "       [x: 1 y: 2 | , x: 3 y: 4 | , x: 5 y: 6 | , x: 8 y: 9 | , x: 2 y: 3 | ],\n",
        "       [x: 1 y: 2 | , x: 3 y: 4 | , x: 5 y: 6 | , x: 8 y: 9 | , x: 2 y: 3 | ]], dtype=object)"
       ]
      }
     ],
     "prompt_number": 35
    },
    {
     "cell_type": "code",
     "collapsed": false,
     "input": [
      "matrix_2 = np.array([np.tile(item, len(vector_list)) for item in vector_list])\n",
      "matrix_2"
     ],
     "language": "python",
     "metadata": {},
     "outputs": [
      {
       "output_type": "pyout",
       "prompt_number": 36,
       "text": [
        "array([[x: 1 y: 2 | , x: 1 y: 2 | , x: 1 y: 2 | , x: 1 y: 2 | , x: 1 y: 2 | ],\n",
        "       [x: 3 y: 4 | , x: 3 y: 4 | , x: 3 y: 4 | , x: 3 y: 4 | , x: 3 y: 4 | ],\n",
        "       [x: 5 y: 6 | , x: 5 y: 6 | , x: 5 y: 6 | , x: 5 y: 6 | , x: 5 y: 6 | ],\n",
        "       [x: 8 y: 9 | , x: 8 y: 9 | , x: 8 y: 9 | , x: 8 y: 9 | , x: 8 y: 9 | ],\n",
        "       [x: 2 y: 3 | , x: 2 y: 3 | , x: 2 y: 3 | , x: 2 y: 3 | , x: 2 y: 3 | ]], dtype=object)"
       ]
      }
     ],
     "prompt_number": 36
    },
    {
     "cell_type": "code",
     "collapsed": false,
     "input": [
      "distance_matrix = matrix_1 % matrix_2\n",
      "distance_matrix"
     ],
     "language": "python",
     "metadata": {},
     "outputs": [
      {
       "output_type": "pyout",
       "prompt_number": 37,
       "text": [
        "array([[0.0, 2.82842712475, 5.65685424949, 9.89949493661, 1.41421356237],\n",
        "       [2.82842712475, 0.0, 2.82842712475, 7.07106781187, 1.41421356237],\n",
        "       [5.65685424949, 2.82842712475, 0.0, 4.24264068712, 4.24264068712],\n",
        "       [9.89949493661, 7.07106781187, 4.24264068712, 0.0, 8.48528137424],\n",
        "       [1.41421356237, 1.41421356237, 4.24264068712, 8.48528137424, 0.0]], dtype=object)"
       ]
      }
     ],
     "prompt_number": 37
    },
    {
     "cell_type": "code",
     "collapsed": false,
     "input": [],
     "language": "python",
     "metadata": {},
     "outputs": []
    }
   ],
   "metadata": {}
  }
 ]
}