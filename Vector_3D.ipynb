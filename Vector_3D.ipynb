{
 "metadata": {
  "name": "Vector_3D"
 },
 "nbformat": 3,
 "nbformat_minor": 0,
 "worksheets": [
  {
   "cells": [
    {
     "cell_type": "code",
     "collapsed": false,
     "input": [
      "class Vector_3D:\n",
      "    # override operators??? => *\n",
      "    def __class__(self):\n",
      "        return Vector_3D\n",
      "    def __init__(self, initial_x, initial_y, initial_z):\n",
      "        self.x = initial_x\n",
      "        self.y = initial_y\n",
      "        self.z = initial_z\n",
      "    def __str__(self):\n",
      "        return \"x: \" + str(self.x) + \" y: \" + str(self.y) + \" z: \" + str(self.z) + \" | \"\n",
      "    \n",
      "    def __mul__(self, other):\n",
      "        if isinstance(other, Vector_3D):\n",
      "            x_product = self.x * other.x\n",
      "            y_product = self.y * other.y\n",
      "            z_product = self.z * other.z\n",
      "            return Vector_3D(x_product, y_product, z_product)\n",
      "        elif isinstance(other, int) or isinstance(other, float):\n",
      "            x_product = self.x*other\n",
      "            y_product = self.y*other\n",
      "            z_product = self.z*other\n",
      "            return Vector_3D(x_product, y_product, z_product)\n",
      "    \n",
      "    def __mod__(self, other):   # overload MOD operator to render magnitude of distance\n",
      "        return self.magnitude_of_dist(self-other)\n",
      "    \n",
      "    def __add__(self, other):\n",
      "        return Vector_3D(self.x+other.x, self.y+other.y, self.z+other.z)\n",
      "    def __sub__(self, other):\n",
      "        x_sub = self.x - other.x\n",
      "        y_sub = self.y - other.y\n",
      "        z_sub = self.z - other.z\n",
      "        return Vector_3D(x_sub, y_sub, z_sub)\n",
      "    \n",
      "    def __div__(self, other):\n",
      "        x_div = float64(self.x) / other.x\n",
      "        y_div = float64(self.y) / other.y\n",
      "        z_div = float64(self.z) / other.z\n",
      "        return Vector_3D(x_div, y_div, z_div)\n",
      "    \n",
      "    def __pow__(self, power):\n",
      "        self.x = self.x**power\n",
      "        self.y = self.y**power\n",
      "        self.z = self.z**power\n",
      "        return self\n",
      "    \n",
      "    def magnitude_of_dist(self, r):\n",
      "        return sqrt(r.x**2 + r.y**2 + r.z**2)\n",
      "    \n",
      "    def magnitude(self):\n",
      "        return sqrt(self.x**2 + self.y**2 + self.z**2)\n",
      "    \n",
      "    def raw_mag(self, r):\n",
      "        return r.x**2 + r.y**2 + r.z**2"
     ],
     "language": "python",
     "metadata": {},
     "outputs": [],
     "prompt_number": 100
    },
    {
     "cell_type": "code",
     "collapsed": false,
     "input": [
      "#def is_vector_nan(vector_array):\n",
      "    #if vector.x == np.nan or vector.y == np.nan or vector.z == np.nan:\n",
      "    #    return True\n",
      "    #else:\n",
      "    #    return False\n",
      "    "
     ],
     "language": "python",
     "metadata": {},
     "outputs": [],
     "prompt_number": 102
    },
    {
     "cell_type": "code",
     "collapsed": false,
     "input": [
      "r1 = Vector_3D(1, 2, 3)\n",
      "print r1"
     ],
     "language": "python",
     "metadata": {},
     "outputs": [
      {
       "output_type": "stream",
       "stream": "stdout",
       "text": [
        "x: 1 y: 2 z: 3 | \n"
       ]
      }
     ],
     "prompt_number": 103
    },
    {
     "cell_type": "code",
     "collapsed": false,
     "input": [
      "print r1*5"
     ],
     "language": "python",
     "metadata": {},
     "outputs": [
      {
       "output_type": "stream",
       "stream": "stdout",
       "text": [
        "x: 5 y: 10 z: 15 | \n"
       ]
      }
     ],
     "prompt_number": 104
    },
    {
     "cell_type": "code",
     "collapsed": false,
     "input": [
      "#array_with_nan = np.array([1, 2, nan, 4])"
     ],
     "language": "python",
     "metadata": {},
     "outputs": [],
     "prompt_number": 107
    },
    {
     "cell_type": "code",
     "collapsed": false,
     "input": [
      "#array_with_nan[not isnan(array_with_nan)]"
     ],
     "language": "python",
     "metadata": {},
     "outputs": [],
     "prompt_number": 108
    },
    {
     "cell_type": "code",
     "collapsed": false,
     "input": [],
     "language": "python",
     "metadata": {},
     "outputs": [],
     "prompt_number": 108
    },
    {
     "cell_type": "code",
     "collapsed": false,
     "input": [
      "dat = np.array([[1,2,3], [4,5,nan], [nan,6,nan], [nan,nan,nan]])\n",
      "mdat = np.ma.masked_array(dat,np.isnan(dat))\n",
      "mm = np.mean(mdat,axis=1)\n",
      "print mm.filled(np.nan) # the desired answer"
     ],
     "language": "python",
     "metadata": {},
     "outputs": [
      {
       "output_type": "stream",
       "stream": "stdout",
       "text": [
        "[ 2.   4.5  6.   nan]\n"
       ]
      }
     ],
     "prompt_number": 109
    },
    {
     "cell_type": "code",
     "collapsed": false,
     "input": [
      "print dat"
     ],
     "language": "python",
     "metadata": {},
     "outputs": [
      {
       "output_type": "stream",
       "stream": "stdout",
       "text": [
        "[[  1.   2.   3.]\n",
        " [  4.   5.  nan]\n",
        " [ nan   6.  nan]\n",
        " [ nan  nan  nan]]\n"
       ]
      }
     ],
     "prompt_number": 110
    },
    {
     "cell_type": "code",
     "collapsed": false,
     "input": [],
     "language": "python",
     "metadata": {},
     "outputs": [],
     "prompt_number": 110
    },
    {
     "cell_type": "code",
     "collapsed": false,
     "input": [
      "r1 = Vector_3D(1, 2, 3)\n",
      "r2 = Vector_3D(3, 4, 5)\n",
      "r3 = Vector_3D(5, 6, 7)\n",
      "r4 = Vector_3D(7, 8, 9)\n",
      "r5 = Vector_3D(9, 0, 1)\n",
      "vector_list = [r1, r2, r3, r4, r5]\n",
      "\n",
      "rgPos = tile(vector_list, (len(vector_list),1))\n",
      "\n",
      "print rgPos"
     ],
     "language": "python",
     "metadata": {},
     "outputs": [
      {
       "output_type": "stream",
       "stream": "stdout",
       "text": [
        "[[x: 1 y: 2 z: 3 |  x: 3 y: 4 z: 5 |  x: 5 y: 6 z: 7 |  x: 7 y: 8 z: 9 |\n",
        "  x: 9 y: 0 z: 1 | ]\n",
        " [x: 1 y: 2 z: 3 |  x: 3 y: 4 z: 5 |  x: 5 y: 6 z: 7 |  x: 7 y: 8 z: 9 |\n",
        "  x: 9 y: 0 z: 1 | ]\n",
        " [x: 1 y: 2 z: 3 |  x: 3 y: 4 z: 5 |  x: 5 y: 6 z: 7 |  x: 7 y: 8 z: 9 |\n",
        "  x: 9 y: 0 z: 1 | ]\n",
        " [x: 1 y: 2 z: 3 |  x: 3 y: 4 z: 5 |  x: 5 y: 6 z: 7 |  x: 7 y: 8 z: 9 |\n",
        "  x: 9 y: 0 z: 1 | ]\n",
        " [x: 1 y: 2 z: 3 |  x: 3 y: 4 z: 5 |  x: 5 y: 6 z: 7 |  x: 7 y: 8 z: 9 |\n",
        "  x: 9 y: 0 z: 1 | ]]\n"
       ]
      }
     ],
     "prompt_number": 111
    },
    {
     "cell_type": "heading",
     "level": 2,
     "metadata": {},
     "source": [
      "Computing accelerations using Vector_3D distance matrix"
     ]
    },
    {
     "cell_type": "code",
     "collapsed": false,
     "input": [
      "mass_list = [1., 2., 3., 4., 5.]\n",
      "rgMass = tile(mass_list, (len(mass_list),1))\n",
      "\n",
      "print rgMass\n",
      "\n",
      "print sum(rgMass, axis = 1)"
     ],
     "language": "python",
     "metadata": {},
     "outputs": [
      {
       "output_type": "stream",
       "stream": "stdout",
       "text": [
        "[[ 1.  2.  3.  4.  5.]\n",
        " [ 1.  2.  3.  4.  5.]\n",
        " [ 1.  2.  3.  4.  5.]\n",
        " [ 1.  2.  3.  4.  5.]\n",
        " [ 1.  2.  3.  4.  5.]]\n",
        "[ 15.  15.  15.  15.  15.]\n"
       ]
      }
     ],
     "prompt_number": 112
    },
    {
     "cell_type": "code",
     "collapsed": false,
     "input": [
      "# Given the above Vector_3D class and a tiled matrix rgMass,\n",
      "# which is made up of the position vectors of particles, we can create\n",
      "# a distance matrix by taking:\n",
      "#    rgPos - transpose(rgPos)\n",
      "# We can create a somewhat similarly defined mass matrix, where we have some\n",
      "# initially tiled matrix created from a vector of masses, and the mass matrix \n",
      "# is then:\n",
      "#    rgMass * transpose(rgMass)\n",
      "# where the multiplication is elementwise. Then M_{ij} = m_i * m_j.\n",
      "# So using the force equation from the most recent assignment, we can calculate\n",
      "# the accelerations as follows:\n",
      "\n",
      "G = 1.  # some scaled gravitational constant\n",
      "\n",
      "mass_list = [1., 2., 3., 4., 5.]\n",
      "rgMass = tile(mass_list, (len(mass_list),1)) # tiled array of masses for the 5 particles\n",
      "\n",
      "rgBuild = G * rgMass * transpose(rgMass) / float64((rgPos % transpose(rgPos))**3) \n",
      "\n",
      "rgBuild = triu(rgBuild) + tril(rgBuild)\n",
      "\n",
      "# need to modify Vector_3D class so that we can multiply an array of Vector_3D objects by\n",
      "# a scalar. i.e. we need to be able to do:\n",
      "#    rgBuild = rgBuild * (rgPos - transpose(rgPos))\n",
      "# and then the acceleration can be calculated like so:\n",
      "#    rgAcc = array(mass_list) * sum(rgBuild, axis = 1)"
     ],
     "language": "python",
     "metadata": {},
     "outputs": [],
     "prompt_number": 113
    },
    {
     "cell_type": "code",
     "collapsed": false,
     "input": [
      "print rgMass"
     ],
     "language": "python",
     "metadata": {},
     "outputs": [
      {
       "output_type": "stream",
       "stream": "stdout",
       "text": [
        "[[ 1.  2.  3.  4.  5.]\n",
        " [ 1.  2.  3.  4.  5.]\n",
        " [ 1.  2.  3.  4.  5.]\n",
        " [ 1.  2.  3.  4.  5.]\n",
        " [ 1.  2.  3.  4.  5.]]\n"
       ]
      }
     ],
     "prompt_number": 114
    },
    {
     "cell_type": "code",
     "collapsed": false,
     "input": [
      "print rgBuild"
     ],
     "language": "python",
     "metadata": {},
     "outputs": [
      {
       "output_type": "stream",
       "stream": "stdout",
       "text": [
        "[[        inf  0.04811252  0.0090211   0.00356389  0.00818411]\n",
        " [ 0.04811252         inf  0.14433757  0.02405626  0.0178335 ]\n",
        " [ 0.0090211   0.14433757         inf  0.28867513  0.01817052]\n",
        " [ 0.00356389  0.02405626  0.28867513         inf  0.0131877 ]\n",
        " [ 0.00818411  0.0178335   0.01817052  0.0131877          inf]]\n"
       ]
      }
     ],
     "prompt_number": 115
    },
    {
     "cell_type": "code",
     "collapsed": false,
     "input": [
      "rgBuild[rgBuild==np.inf]=0 #change inf to zero"
     ],
     "language": "python",
     "metadata": {},
     "outputs": [],
     "prompt_number": 116
    },
    {
     "cell_type": "code",
     "collapsed": false,
     "input": [
      "print rgBuild"
     ],
     "language": "python",
     "metadata": {},
     "outputs": [
      {
       "output_type": "stream",
       "stream": "stdout",
       "text": [
        "[[ 0.          0.04811252  0.0090211   0.00356389  0.00818411]\n",
        " [ 0.04811252  0.          0.14433757  0.02405626  0.0178335 ]\n",
        " [ 0.0090211   0.14433757  0.          0.28867513  0.01817052]\n",
        " [ 0.00356389  0.02405626  0.28867513  0.          0.0131877 ]\n",
        " [ 0.00818411  0.0178335   0.01817052  0.0131877   0.        ]]\n"
       ]
      }
     ],
     "prompt_number": 117
    },
    {
     "cell_type": "code",
     "collapsed": false,
     "input": [
      "rgBuild = (rgPos-transpose(rgPos))*rgBuild"
     ],
     "language": "python",
     "metadata": {},
     "outputs": [],
     "prompt_number": 118
    },
    {
     "cell_type": "code",
     "collapsed": false,
     "input": [
      "print rgBuild"
     ],
     "language": "python",
     "metadata": {},
     "outputs": [
      {
       "output_type": "stream",
       "stream": "stdout",
       "text": [
        "[[x: 0.0 y: 0.0 z: 0.0 |\n",
        "  x: 0.0962250448649 y: 0.0962250448649 z: 0.0962250448649 |\n",
        "  x: 0.0360843918244 y: 0.0360843918244 z: 0.0360843918244 |\n",
        "  x: 0.0213833433033 y: 0.0213833433033 z: 0.0213833433033 |\n",
        "  x: 0.0654728501099 y: -0.0163682125275 z: -0.0163682125275 | ]\n",
        " [x: -0.0962250448649 y: -0.0962250448649 z: -0.0962250448649 |\n",
        "  x: 0.0 y: 0.0 z: 0.0 |\n",
        "  x: 0.288675134595 y: 0.288675134595 z: 0.288675134595 |\n",
        "  x: 0.0962250448649 y: 0.0962250448649 z: 0.0962250448649 |\n",
        "  x: 0.107001011045 y: -0.0713340073636 z: -0.0713340073636 | ]\n",
        " [x: -0.0360843918244 y: -0.0360843918244 z: -0.0360843918244 |\n",
        "  x: -0.288675134595 y: -0.288675134595 z: -0.288675134595 |\n",
        "  x: 0.0 y: 0.0 z: 0.0 |\n",
        "  x: 0.57735026919 y: 0.57735026919 z: 0.57735026919 |\n",
        "  x: 0.072682062394 y: -0.109023093591 z: -0.109023093591 | ]\n",
        " [x: -0.0213833433033 y: -0.0213833433033 z: -0.0213833433033 |\n",
        "  x: -0.0962250448649 y: -0.0962250448649 z: -0.0962250448649 |\n",
        "  x: -0.57735026919 y: -0.57735026919 z: -0.57735026919 |\n",
        "  x: 0.0 y: 0.0 z: 0.0 |\n",
        "  x: 0.0263754024175 y: -0.10550160967 z: -0.10550160967 | ]\n",
        " [x: -0.0654728501099 y: 0.0163682125275 z: 0.0163682125275 |\n",
        "  x: -0.107001011045 y: 0.0713340073636 z: 0.0713340073636 |\n",
        "  x: -0.072682062394 y: 0.109023093591 z: 0.109023093591 |\n",
        "  x: -0.0263754024175 y: 0.10550160967 z: 0.10550160967 |\n",
        "  x: 0.0 y: 0.0 z: 0.0 | ]]\n"
       ]
      }
     ],
     "prompt_number": 119
    },
    {
     "cell_type": "code",
     "collapsed": false,
     "input": [
      "#rgBuild_masked= np.ma.masked_array(rgBuild, np.isnan(rgBuild))"
     ],
     "language": "python",
     "metadata": {},
     "outputs": [],
     "prompt_number": 120
    },
    {
     "cell_type": "code",
     "collapsed": false,
     "input": [
      "rgAcc = sum(rgBuild, axis = 1) * array(mass_list)"
     ],
     "language": "python",
     "metadata": {},
     "outputs": [],
     "prompt_number": 121
    },
    {
     "cell_type": "code",
     "collapsed": false,
     "input": [
      "print rgAcc # this should be the accelerations..."
     ],
     "language": "python",
     "metadata": {},
     "outputs": [
      {
       "output_type": "stream",
       "stream": "stdout",
       "text": [
        "[x: 0.219165630102 y: 0.137324567465 z: 0.137324567465 |\n",
        " x: 0.791352291281 y: 0.434682254462 z: 0.434682254462 |\n",
        " x: 0.975818415493 y: 0.430702947539 z: 0.430702947539 |\n",
        " x: -2.67433301976 y: -3.20184106811 z: -3.20184106811 |\n",
        " x: -1.35765662983 y: 1.51113461576 z: 1.51113461576 | ]\n"
       ]
      }
     ],
     "prompt_number": 122
    },
    {
     "cell_type": "code",
     "collapsed": false,
     "input": [
      "#mdat = np.ma.masked_array(dat,np.isnan(dat))"
     ],
     "language": "python",
     "metadata": {},
     "outputs": []
    },
    {
     "cell_type": "code",
     "collapsed": false,
     "input": [],
     "language": "python",
     "metadata": {},
     "outputs": [],
     "prompt_number": 15
    },
    {
     "cell_type": "code",
     "collapsed": false,
     "input": [],
     "language": "python",
     "metadata": {},
     "outputs": [],
     "prompt_number": 15
    },
    {
     "cell_type": "code",
     "collapsed": false,
     "input": [],
     "language": "python",
     "metadata": {},
     "outputs": []
    }
   ],
   "metadata": {}
  }
 ]
}