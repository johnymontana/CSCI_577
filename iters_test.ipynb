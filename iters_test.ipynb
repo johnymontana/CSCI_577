{
 "metadata": {
  "name": "iters_test"
 },
 "nbformat": 3,
 "nbformat_minor": 0,
 "worksheets": [
  {
   "cells": [
    {
     "cell_type": "code",
     "collapsed": false,
     "input": [
      "import itertools as it\n",
      "def pairwise(iterable):\n",
      "    \"s -> (s0,s1), (s1,s2), (s2, s3), ...\"\n",
      "    a, b = it.tee(iterable)\n",
      "    next(b, None)\n",
      "    return zip(a, b)"
     ],
     "language": "python",
     "metadata": {},
     "outputs": [],
     "prompt_number": 8
    },
    {
     "cell_type": "code",
     "collapsed": false,
     "input": [
      "my_list = [1, 2, 3, 4, 5]\n",
      "\n",
      "for thing1, thing2 in pairwise(my_list):\n",
      "    print str(thing1) + str(thing2)"
     ],
     "language": "python",
     "metadata": {},
     "outputs": [
      {
       "output_type": "stream",
       "stream": "stdout",
       "text": [
        "12\n",
        "23\n",
        "34\n",
        "45\n"
       ]
      }
     ],
     "prompt_number": 9
    },
    {
     "cell_type": "code",
     "collapsed": false,
     "input": [
      "for thing1, thing2 in it.combinations(my_list, 2):\n",
      "    print str(thing1) + str(thing2)"
     ],
     "language": "python",
     "metadata": {},
     "outputs": [
      {
       "output_type": "stream",
       "stream": "stdout",
       "text": [
        "12\n",
        "13\n",
        "14\n",
        "15\n",
        "23\n",
        "24\n",
        "25\n",
        "34\n",
        "35\n",
        "45\n"
       ]
      }
     ],
     "prompt_number": 11
    },
    {
     "cell_type": "code",
     "collapsed": false,
     "input": [],
     "language": "python",
     "metadata": {},
     "outputs": []
    }
   ],
   "metadata": {}
  }
 ]
}