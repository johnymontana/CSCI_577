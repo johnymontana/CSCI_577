{
 "metadata": {
  "name": "Molecular_Dynamics"
 },
 "nbformat": 3,
 "nbformat_minor": 0,
 "worksheets": [
  {
   "cells": [
    {
     "cell_type": "code",
     "collapsed": false,
     "input": [
      "from Vector import Vector_3D\n",
      "import numpy as np"
     ],
     "language": "python",
     "metadata": {},
     "outputs": [],
     "prompt_number": 1
    },
    {
     "cell_type": "code",
     "collapsed": false,
     "input": [
      "class Container:\n",
      "    \n",
      "    def __init__(self, part_locations, part_velocities, part_masses, part_diameter, Lx, Ly, Lz=0):\n",
      "        self.part_locations = part_locations\n",
      "        self.part_velocities = part_velocities\n",
      "        self.part_masses = part_masses\n",
      "        self.part_diameter\n",
      "        self.Lx = Lx\n",
      "        self.Ly = Ly\n",
      "        self.Lz = Lz\n",
      "        \n",
      "    def add_particle(self, location, velocity, mass):\n",
      "        self.part_locations = np.hstack((self.part_locations, location))\n",
      "        self.part_velocities = np.hstack((self.part_velocities, velocity))\n",
      "        self.mass = np.hstack((self.mass, mass))\n",
      "        \n",
      "    \n",
      "        "
     ],
     "language": "python",
     "metadata": {},
     "outputs": []
    },
    {
     "cell_type": "code",
     "collapsed": false,
     "input": [
      "class Force:\n",
      "    \n",
      "    def __init__(self, container):\n",
      "        \n",
      "        pass\n",
      "    \n",
      "    def __call__(self):\n",
      "        pass\n",
      "    \n",
      "    def calc_accelerations(self):\n",
      "        # return array of accelerations (Vector_3D objects)\n",
      "    "
     ],
     "language": "python",
     "metadata": {},
     "outputs": []
    },
    {
     "cell_type": "code",
     "collapsed": false,
     "input": [
      "class Integrator():\n",
      "    def __init_(self, "
     ],
     "language": "python",
     "metadata": {},
     "outputs": []
    },
    {
     "cell_type": "code",
     "collapsed": false,
     "input": [],
     "language": "python",
     "metadata": {},
     "outputs": []
    }
   ],
   "metadata": {}
  }
 ]
}