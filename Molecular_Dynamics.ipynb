{
 "metadata": {
  "name": "Molecular_Dynamics"
 },
 "nbformat": 3,
 "nbformat_minor": 0,
 "worksheets": [
  {
   "cells": [
    {
     "cell_type": "heading",
     "level": 1,
     "metadata": {},
     "source": [
      "Molecular Dymanics - CSCI 577"
     ]
    },
    {
     "cell_type": "heading",
     "level": 3,
     "metadata": {},
     "source": [
      "Team Heracles: William Lyon & Jesse Adams"
     ]
    },
    {
     "cell_type": "code",
     "collapsed": false,
     "input": [
      "#from Vector import Vector_3D\n",
      "import numpy as np\n",
      "from pylab import * #ugh\n",
      "from math import sqrt"
     ],
     "language": "python",
     "metadata": {},
     "outputs": [],
     "prompt_number": 216
    },
    {
     "cell_type": "code",
     "collapsed": false,
     "input": [
      "import math\n",
      "\n",
      "\n",
      "class Vector_3D:\n",
      "    \n",
      "    def __class__(self):\n",
      "        return Vector_3D\n",
      "    \n",
      "    def __init__(self, initial_x, initial_y, initial_z):\n",
      "        self.x = initial_x\n",
      "        self.y = initial_y\n",
      "        self.z = initial_z\n",
      "        \n",
      "    def __str__(self):\n",
      "        return \"x: \" + str(self.x) + \" y: \" + str(self.y) + \" z: \" + str(self.z) + \" | \"\n",
      "\n",
      "    def __mul__(self, other):\n",
      "        if isinstance(other, Vector_3D):\n",
      "            x_product = self.x * other.x\n",
      "            y_product = self.y * other.y\n",
      "            z_product = self.z * other.z\n",
      "            return Vector_3D(x_product, y_product, z_product)\n",
      "        elif isinstance(other, int) or isinstance(other, float):\n",
      "            x_product = self.x*other\n",
      "            y_product = self.y*other\n",
      "            z_product = self.z*other\n",
      "            return Vector_3D(x_product, y_product, z_product)\n",
      "            \n",
      "            \n",
      "    def __floordiv__(self, other):   # overload // operator to return sum of squares of (Vector1 - Vector2)\n",
      "        #power = vector_tuple[1]\n",
      "\t\t#vector = vector_tuple[0]\n",
      "\t\t#return self.magnitude_of_dist(self-vector, power)\n",
      "\t\t#return self.magnitude_of_dist(self-other)\n",
      "\t\treturn self.magnitude_of_dist(self-other)\n",
      "        \n",
      "    def __mod__(self, other):\n",
      "        if other.x == 0:\n",
      "            x_mod = self.x\n",
      "        else:\n",
      "            x_mod = self.x % other.x\n",
      "        \n",
      "        if other.y == 0:\n",
      "            y_mod = self.y\n",
      "        else:\n",
      "            y_mod = self.y % other.y\n",
      "        if other.z == 0:\n",
      "            z_mod = self.z\n",
      "        else:\n",
      "            z_mod = self.z % other.z\n",
      "        return Vector_3D(x_mod, y_mod, z_mod)\n",
      "    \n",
      "    def __add__(self, other):\n",
      "        return Vector_3D(self.x+other.x, self.y+other.y, self.z+other.z)\n",
      "    \n",
      "    def __sub__(self, other):\n",
      "        x_sub = self.x - other.x\n",
      "        y_sub = self.y - other.y\n",
      "        z_sub = self.z - other.z\n",
      "        return Vector_3D(x_sub, y_sub, z_sub)\n",
      "\n",
      "    def __div__(self, other):\n",
      "        if isinstance(other, Vector_3D):\n",
      "            x_div = math.float64(self.x) / other.x\n",
      "            y_div = math.float64(self.y) / other.y\n",
      "            z_div = math.float64(self.z) / other.z\n",
      "            return Vector_3D(x_div, y_div, z_div)\n",
      "        elif isinstance(other, int) or isinstance(other, float):\n",
      "            x_div = self.x / other\n",
      "            y_div = self.y / other\n",
      "            z_div = self.z / other\n",
      "            return Vector_3D(x_div, y_div, z_div)\n",
      "        \n",
      "    def __pow__(self, power):\n",
      "        self.x = self.x**power\n",
      "        self.y = self.y**power\n",
      "        self.z = self.z**power\n",
      "        return self\n",
      "\n",
      "    def magnitude_of_dist(self, r):\n",
      "        # distance boundary conditions are enforced here\n",
      "        #if r.x > self.boundVector.x / 2.:\n",
      "        #    r.x -= self.boundVector.x\n",
      "        #if r.x < -self.boundVector.x / 2.:\n",
      "        #    r.x += self.boundVector.x\n",
      "        #if r.y > self.boundVector.y / 2.:\n",
      "        #    r.y -= self.boundVector.y\n",
      "        #if r.y < -self.boundVector.y / 2.:\n",
      "        #    r.y += self.boundVector.y\n",
      "        #if r.z > self.boundVector.z / 2.:\n",
      "        #    r.z -= self.boundVector.z\n",
      "        #if r.z < -self.boundVector.z / 2.:\n",
      "        #    r.z += self.boundVector.z\n",
      "        return (r.x**2 + r.y**2 + r.z**2)\n",
      "        \n",
      "    \n",
      "    def magnitude(self):\n",
      "        return math.sqrt(self.x**2 + self.y**2 + self.z**2)\n",
      "\n",
      "    def raw_mag(self, r):\n",
      "        return r.x**2 + r.y**2 + r.z**2\n",
      "    \n",
      "    def magitude_of_matrix(self):\n",
      "        return (r.x**2 + r.y**2 + r.z**2)\n",
      "    "
     ],
     "language": "python",
     "metadata": {},
     "outputs": [],
     "prompt_number": 217
    },
    {
     "cell_type": "code",
     "collapsed": false,
     "input": [
      "# enfoce distance boundary conditions, this should be added to Container class\n",
      "def enforceBoundary(vector, bounds):\n",
      "    #bounds = Vector_3D(1, 2, 3)\n",
      "    if vector.x > bounds.x / 2.:\n",
      "        vector.x -= bounds.x\n",
      "    elif vector.x < - bounds.x / 2.:\n",
      "        vector.x += bounds.x\n",
      "        \n",
      "    if vector.y > bounds.y / 2.:\n",
      "        vector.y -= bounds.y\n",
      "    elif vector.y < - bounds.y / 2.:\n",
      "        vector.y += bounds.y\n",
      "        \n",
      "    if vector.z > bounds.z / 2.:\n",
      "        vector.z -= bounds.z\n",
      "    elif vector.z < - bounds.z / 2.:\n",
      "        vector.z += bounds.z\n",
      "    return vector\n",
      "vBounds = np.vectorize(enforceBoundary)\n",
      "\n",
      "# sum of squares \n",
      "def sum_of_squares(vector):\n",
      "    return (vector.x**2 + vector.y**2 + vector.z**2)\n",
      "vSumSquares = np.vectorize(sum_of_squares)"
     ],
     "language": "python",
     "metadata": {},
     "outputs": [],
     "prompt_number": 218
    },
    {
     "cell_type": "code",
     "collapsed": false,
     "input": [
      "class Container(object):\n",
      "    \n",
      "    def __init__(self, part_locations=None, part_velocities=None, part_accels=None, part_masses=None, part_diameter=None, Lx=None, Ly=None, Lz=None):\n",
      "        self._part_locations = np.array([])\n",
      "        self.part_velocities = np.array([])\n",
      "        self.part_accelerations = np.array([])\n",
      "        self.part_masses = np.array([])\n",
      "        self.part_diameter = None\n",
      "        self.Lx = None #Lx\n",
      "        self.Ly = None #Ly\n",
      "        self.Lz = None #Lz\n",
      "        self.L = Vector_3D(0., 0., 0.)    # L vector MUST be set in ContainerInitializer\n",
      "    \n",
      "    @property\n",
      "    def part_locations(self):\n",
      "        return self._part_locations\n",
      "        \n",
      "    @part_locations.setter\n",
      "    def part_locations(self, value):\n",
      "        self._part_locations = value % self.L\n",
      "        \n",
      "    def add_particle(self, location, velocity, mass):\n",
      "        self.part_locations = np.hstack((self.part_locations, location))\n",
      "        self.part_velocities = np.hstack((self.part_velocities, velocity))\n",
      "        #self.part_accelerations = np.hstack((self.part_accelerations, acceleration))\n",
      "        self.part_masses = np.hstack((self.part_masses, mass))\n",
      "        \n",
      "    def get_dist_matrix(self):\n",
      "        # this is actually implemented in acceleration function\n",
      "        pass\n",
      "        \n",
      "    \n",
      "        "
     ],
     "language": "python",
     "metadata": {},
     "outputs": [],
     "prompt_number": 219
    },
    {
     "cell_type": "code",
     "collapsed": false,
     "input": [
      "class Force:\n",
      "    \n",
      "    def __init__(self, container):\n",
      "        self.container = container\n",
      "        pass\n",
      "    \n",
      "    def __call__(self):\n",
      "        return self.fnrgAcc(self.container.part_locations, self.container.part_masses)\n",
      "    \n",
      "    # Acceleration calculation\n",
      "    # input:\n",
      "    #    vector_list: list of position vectors. e.g.\n",
      "    #           [r1 r2 r3]\n",
      "    #    mass_list: list of masses corresponding to the position vectors above. e.g.\n",
      "    #           [m1 m2 m3]\n",
      "    #    G: gravitational constant (perhaps this should be a global instead?)\n",
      "    # output:\n",
      "    #    array of accelerations (in same order as the inputs). e.g.\n",
      "    #           [a1 a2 a3]\n",
      "    #def fnrgAcc(self, vector_list, mass_list, G=1):\n",
      "    #    rgPos = np.tile(vector_list, (len(vector_list),1))\n",
      "    #    rgMass = np.tile(mass_list, (len(mass_list),1))\n",
      "    #\n",
      "    #    rgBuild = G * rgMass * transpose(rgMass) / float64((rgPos % (transpose(rgPos), 0.5))**3) \n",
      "    #    rgBuild[rgBuild==np.inf]=0 #change inf to zero\n",
      "    #    rgBuild = (rgPos - transpose(rgPos)) * rgBuild\n",
      "    #    return sum(rgBuild, axis = 1) * array(mass_list)\n",
      "    def fnrgAcc(self, vector_list, mass_list, eps = 1, sig = 1):\n",
      "        rgPos = tile(vector_list, (len(vector_list),1))\n",
      "        rgMass = tile(mass_list, (len(mass_list),1))\n",
      "        b = transpose(rgPos)\n",
      "        #print b\n",
      "        #print \"rgPos\"\n",
      "        #print rgPos\n",
      "        #print \"rgPos // transpose(rgPos)\"\n",
      "        #print rgPos // transpose(rgPos)\n",
      "        #distanceMatrix = (rgPos // transpose(rgPos)) % self.container.L\n",
      "        #distanceMatrix = rgPos-transpose(rgPos)\n",
      "        #distanceMatrix = \n",
      "        distanceMatrix = rgPos - transpose(rgPos)\n",
      "        #enforceBounds(self.container.L, distanceMatrix)\n",
      "        distanceMatrix = vBounds(distanceMatrix, self.container.L)\n",
      "        dMatrixSumSqs = vSumSquares(distanceMatrix)\n",
      "        #rgBuild = (24 * eps / float64(rgPos // transpose(rgPos))) * \\\n",
      "        #        (2 * (sig**12 / float64(rgPos // transpose(rgPos))**6) - \\\n",
      "        #        (sig**6 / float64(rgPos // transpose(rgPos))**3))\n",
      "        rgBuild = (24 * eps / dMatrixSumSqs) * (2 * (sig**12 / dMatrixSumSqs**6)) - (sig**6 / dMatrixSumSqs**3)\n",
      "        rgBuild = np.nan_to_num(rgBuild) #change inf to zero\n",
      "        #print rgBuild\n",
      "        \n",
      "        \n",
      "        #rgBuild = (rgPos - transpose(rgPos)) * rgBuild\n",
      "        rgBuild = distanceMatrix * rgBuild\n",
      "        #print rgBuild\n",
      "        \n",
      "        return sum(rgBuild, axis = 1)  / array(mass_list) "
     ],
     "language": "python",
     "metadata": {},
     "outputs": [],
     "prompt_number": 220
    },
    {
     "cell_type": "code",
     "collapsed": false,
     "input": [
      "class Integrator:\n",
      "    def __init__(self, dt, container, force):\n",
      "        self.dt = dt\n",
      "        self.container = container\n",
      "        self.force = force\n",
      "        self.container.part_accelerations = self.force()\n",
      "        \n",
      "    def integrate(self):\n",
      "        self.container.part_locations = self.container.part_locations + self.container.part_velocities*self.dt + self.container.part_accelerations * 0.5 * self.dt**2\n",
      "        accel = self.container.part_accelerations   # store accelerations\n",
      "        self.container.accelerations = self.force() # step accelerations forward\n",
      "        self.container.part_velocities = self.container.part_velocities + (self.container.part_accelerations + accel) * 0.5 * self.dt\n",
      "        # return new state -> update ivars"
     ],
     "language": "python",
     "metadata": {},
     "outputs": [],
     "prompt_number": 221
    },
    {
     "cell_type": "code",
     "collapsed": false,
     "input": [
      "class ContainerInitializer:\n",
      "    def __init__(self, init_string):\n",
      "        c = Container()\n",
      "        lx = 10.\n",
      "        ly = 10.\n",
      "        dist = lx / 5.\n",
      "        vel = dist / 5.\n",
      "        \n",
      "        if init_string == 'square_lattice':\n",
      "            N = 8             # Particles per row\n",
      "            c.Ly = c.Lx       # Extents determined by Lx input\n",
      "            # TODO: set L\n",
      "            d = 2.**(1/6.)    # Particle diameter\n",
      "            x = linspace(-c.L.x/2+d/2.,c.L.x/2-d/2,N)\n",
      "            y = linspace(-c.L.x/2+d/2.,c.L.x/2-d/2,N)\n",
      "            for i in range(x.size):\n",
      "                for j in range(y.size):\n",
      "                    c.add_particle(Vector_3D(x[i],y[j],0.), Vector_3D(0.,0.,0.) , Vector_3D(0., 0., 0.) , 1.)\n",
      "                    #c.addParticle(x, y, z, vx, vy, ax, ay, mass)\n",
      "                    \n",
      "        elif init_string == 'one':\n",
      "            c.L = Vector_3D(10., 10., 0.)\n",
      "            c.add_particle(Vector_3D(0., dist, 0.), Vector_3D(0., 0., 0.), 1.)\n",
      "        \n",
      "        elif init_string == 'two':\n",
      "            c.L = Vector_3D(10., 10., 0.)\n",
      "            c.add_particle(location=Vector_3D(-dist, 0., 0.), velocity=Vector_3D(vel, 0., 0.), mass=1)\n",
      "            c.add_particle(location=Vector_3D(dist, 0., 0.), velocity=Vector_3D(-vel, 0., 0.), mass=1)   \n",
      "            \n",
      "        elif init_string == 'three':\n",
      "            c.L = Vector_3D(10., 10., 0.)\n",
      "            c.add_particle(location=Vector_3D(0., dist*sqrt(3)/2., 0.), velocity=Vector_3D(0., -vel, 0.), mass=1)\n",
      "            c.add_particle(location=Vector_3D(-dist, 0., 0.), velocity=Vector_3D(vel, 0., 0.), mass=1)\n",
      "            c.add_particle(location=Vector_3D(dist, 0., 0.), velocity=Vector_3D(vel, 0., 0.), mass=1)\n",
      "        \n",
      "        elif init_string == 'four':\n",
      "            c.L = Vector_3D(10., 10., 0.)\n",
      "            c.add_particle(location=Vector_3D(-dist, 0., 0.), velocity=Vector_3D(vel, 0., 0.), mass=1)\n",
      "            c.add_particle(location=Vector_3D(dist, 0., 0.), velocity=Vector_3D(-vel, 0., 0.), mass=1)   \n",
      "            c.add_particle(location=Vector_3D(0., dist, 0.), velocity=Vector_3D(0., -vel, 0.), mass=1)\n",
      "            c.add_particle(location=Vector_3D(0., -dist, 0.), velocity=Vector_3D(0., vel, 0.), mass=1)\n",
      "            \n",
      "        elif init_string == 'line':\n",
      "            #gamma = 0.1\n",
      "            gamma = 0.\n",
      "            #c.Lx = 10.\n",
      "            #c.Ly = 10.\n",
      "            c.L = Vector_3D(10., 10., 0.)\n",
      "            \n",
      "            for i in range(11):\n",
      "                if i ==5:\n",
      "                    #c.addParticle(location, velocity, acceleration, mass)\n",
      "                    c.add_particle(Vector_3D(c.L.x / 2., (i-.5) * c.L.y / 11., 0.), Vector_3D(1.-gamma,gamma,0.) ,1.)\n",
      "                else:\n",
      "                    c.add_particle(Vector_3D(c.L.x / 2., (i-.5) * c.L.y / 11., 0.), Vector_3D(1.,0., 0.), 1.)\n",
      "        self.container = c\n",
      "    def getContainer(self):\n",
      "        return self.container"
     ],
     "language": "python",
     "metadata": {},
     "outputs": [],
     "prompt_number": 222
    },
    {
     "cell_type": "code",
     "collapsed": false,
     "input": [],
     "language": "python",
     "metadata": {},
     "outputs": [],
     "prompt_number": 239
    },
    {
     "cell_type": "code",
     "collapsed": false,
     "input": [],
     "language": "python",
     "metadata": {},
     "outputs": [],
     "prompt_number": 239
    },
    {
     "cell_type": "code",
     "collapsed": false,
     "input": [
      "c = ContainerInitializer(\"two\").getContainer()"
     ],
     "language": "python",
     "metadata": {},
     "outputs": [],
     "prompt_number": 240
    },
    {
     "cell_type": "code",
     "collapsed": false,
     "input": [
      "#print c.part_locations[0].boundVector"
     ],
     "language": "python",
     "metadata": {},
     "outputs": [],
     "prompt_number": 241
    },
    {
     "cell_type": "code",
     "collapsed": false,
     "input": [
      "print c.part_locations"
     ],
     "language": "python",
     "metadata": {},
     "outputs": [
      {
       "output_type": "stream",
       "stream": "stdout",
       "text": [
        "[x: 8.0 y: 0.0 z: 0.0 |  x: 2.0 y: 0.0 z: 0.0 | ]\n"
       ]
      }
     ],
     "prompt_number": 242
    },
    {
     "cell_type": "code",
     "collapsed": false,
     "input": [
      "f = Force(c)"
     ],
     "language": "python",
     "metadata": {},
     "outputs": [],
     "prompt_number": 243
    },
    {
     "cell_type": "code",
     "collapsed": false,
     "input": [
      "f()"
     ],
     "language": "python",
     "metadata": {},
     "outputs": [
      {
       "output_type": "pyout",
       "prompt_number": 244,
       "text": [
        "array([x: -0.000975847244263 y: 0.0 z: 0.0 | ,\n",
        "       x: 0.000975847244263 y: 0.0 z: 0.0 | ], dtype=object)"
       ]
      }
     ],
     "prompt_number": 244
    },
    {
     "cell_type": "code",
     "collapsed": false,
     "input": [
      "i = Integrator(0.01, c, f)"
     ],
     "language": "python",
     "metadata": {},
     "outputs": [],
     "prompt_number": 245
    },
    {
     "cell_type": "code",
     "collapsed": false,
     "input": [
      "i.integrate()"
     ],
     "language": "python",
     "metadata": {},
     "outputs": [],
     "prompt_number": 246
    },
    {
     "cell_type": "code",
     "collapsed": false,
     "input": [
      "print c.part_locations"
     ],
     "language": "python",
     "metadata": {},
     "outputs": [
      {
       "output_type": "stream",
       "stream": "stdout",
       "text": [
        "[x: 8.00399995121 y: 0.0 z: 0.0 |  x: 1.99600004879 y: 0.0 z: 0.0 | ]\n"
       ]
      }
     ],
     "prompt_number": 247
    },
    {
     "cell_type": "code",
     "collapsed": false,
     "input": [
      "state_list = []\n",
      "count = 0\n",
      "while count < 550:\n",
      "    i.integrate()\n",
      "    state_list.append(c.part_locations)\n",
      "    count += 1"
     ],
     "language": "python",
     "metadata": {},
     "outputs": [],
     "prompt_number": 248
    },
    {
     "cell_type": "code",
     "collapsed": false,
     "input": [
      "state_array = np.array(state_list)"
     ],
     "language": "python",
     "metadata": {},
     "outputs": [],
     "prompt_number": 249
    },
    {
     "cell_type": "code",
     "collapsed": false,
     "input": [
      "#m1_x = []\n",
      "#m1_y = []\n",
      "#m2_x = []\n",
      "#m2_y = []\n",
      "#m3_x = []\n",
      "#m3_y = []\n",
      "#for vector in state_array[:,0]:\n",
      "#    m1_x.append(vector.x)\n",
      "#    m1_y.append(vector.y)\n",
      "#for vector in state_array[:,1]:\n",
      "#    m2_x.append(vector.x)\n",
      "#    m2_y.append(vector.y)\n",
      "#for vector in state_array[:,2]:\n",
      "#    m3_x.append(vector.x)\n",
      "#    m3_y.append(vector.y)"
     ],
     "language": "python",
     "metadata": {},
     "outputs": [],
     "prompt_number": 250
    },
    {
     "cell_type": "code",
     "collapsed": false,
     "input": [
      "#plot(m1_x, m1_y)\n",
      "#plot(m2_x, m2_y)\n",
      "#plot(m3_x, m3_y)"
     ],
     "language": "python",
     "metadata": {},
     "outputs": [],
     "prompt_number": 251
    },
    {
     "cell_type": "code",
     "collapsed": false,
     "input": [
      "#print state_list\n",
      "#plot(state_list[])"
     ],
     "language": "python",
     "metadata": {},
     "outputs": [],
     "prompt_number": 252
    },
    {
     "cell_type": "code",
     "collapsed": false,
     "input": [
      "#print state_array"
     ],
     "language": "python",
     "metadata": {},
     "outputs": [],
     "prompt_number": 253
    },
    {
     "cell_type": "code",
     "collapsed": false,
     "input": [
      "#map(get_y,state_array[:,0])"
     ],
     "language": "python",
     "metadata": {},
     "outputs": [],
     "prompt_number": 254
    },
    {
     "cell_type": "code",
     "collapsed": false,
     "input": [
      "def get_x(vector):\n",
      "    return vector.x\n",
      "def get_y(vector):\n",
      "    return vector.y\n",
      "def get_z(vector):\n",
      "    return vector.z"
     ],
     "language": "python",
     "metadata": {},
     "outputs": [],
     "prompt_number": 255
    },
    {
     "cell_type": "code",
     "collapsed": false,
     "input": [
      "for count in range(len(c.part_masses)):\n",
      "    vector_list=state_array[:,count]\n",
      "    plot(map(get_x, vector_list), map(get_y, vector_list))"
     ],
     "language": "python",
     "metadata": {},
     "outputs": [
      {
       "output_type": "display_data",
       "png": "[encoded data removed]"
      }
     ],
     "prompt_number": 256
    },
    {
     "cell_type": "raw",
     "metadata": {},
     "source": [
      "Particles move to the right"
     ]
    },
    {
     "cell_type": "code",
     "collapsed": false,
     "input": [
      "#r1 = Vector_3D(2, 3, 20)\n",
      "#r2 = Vector_3D(5, 10, 12)\n",
      "#r3 = Vector_3D(2, 3, 4)\n",
      "#r4 = Vector_3D(1, 2, 3)\n",
      "#r5 = Vector_3D(2, 3, 3)\n",
      "#r1.setBoundary(r1)\n",
      "#r2.setBoundary(r1)\n",
      "#r3.setBoundary(r1)"
     ],
     "language": "python",
     "metadata": {},
     "outputs": [],
     "prompt_number": 50
    },
    {
     "cell_type": "code",
     "collapsed": false,
     "input": [
      "#vector_array = array([r1, r2, r3])\n",
      "#mass_list = [1, 2, 3]"
     ],
     "language": "python",
     "metadata": {},
     "outputs": [],
     "prompt_number": 51
    },
    {
     "cell_type": "code",
     "collapsed": false,
     "input": [
      "#myMatrix = np.array([[r1, r2], [r3, r4]])\n",
      "#print myMatrix"
     ],
     "language": "python",
     "metadata": {},
     "outputs": [],
     "prompt_number": 52
    },
    {
     "cell_type": "code",
     "collapsed": false,
     "input": [
      "#vector_array = np.tile(vector_array, (5,1))\n",
      "#print vector_array"
     ],
     "language": "python",
     "metadata": {},
     "outputs": [],
     "prompt_number": 53
    },
    {
     "cell_type": "code",
     "collapsed": false,
     "input": [
      "#def enforceBoundary(vector, bounds):\n",
      "#    #bounds = Vector_3D(1, 2, 3)\n",
      "#    if vector.x > bounds.x / 2.:\n",
      "#        vector.x -= bounds.x\n",
      "#    elif vector.x < - bounds.x / 2.:\n",
      "#        vector.x += bounds.x\n",
      "#        \n",
      "#    if vector.y > bounds.y / 2.:\n",
      "#        vector.y -= bounds.y\n",
      "#    elif vector.y < - bounds.y / 2.:\n",
      "#        vector.y += bounds.y\n",
      "#        \n",
      "#    if vector.z > bounds.z / 2.:\n",
      "#        vector.z -= bounds.z\n",
      "#    elif vector.z < - bounds.z / 2.:\n",
      "#        vector.z += bounds.z\n",
      "#    return vector\n",
      "#vBounds = np.vectorize(enforceBoundary)\n",
      "#array(np.vectorize(enforceBoundary, vector_array))"
     ],
     "language": "python",
     "metadata": {},
     "outputs": [],
     "prompt_number": 54
    },
    {
     "cell_type": "code",
     "collapsed": false,
     "input": [
      "#vfunc(myMatrix)"
     ],
     "language": "python",
     "metadata": {},
     "outputs": [],
     "prompt_number": 55
    },
    {
     "cell_type": "code",
     "collapsed": false,
     "input": [
      "#def enforceBounds(bounds, matrix):\n",
      "#    #bounds = Vector_3D(1, 2, 3)\n",
      "#    for row in matrix:\n",
      "#        for vector in row:\n",
      "#            if vector.x > bounds.x / 2.:\n",
      "#                #print \"vector.x: \" + str(vector.x)\n",
      "#                vector.x = vector.x - bounds.x\n",
      "#                #print \"vector.x - bounds.x is now: \" + str(vector.x)\n",
      "#            elif vector.x < - bounds.x / 2.:\n",
      "#                vector.x = vector.x + bounds.x\n",
      "#            \n",
      "#            if vector.y > bounds.y / 2.:\n",
      "#                vector.y -= bounds.y\n",
      "#            elif vector.y < - bounds.y / 2.:\n",
      "#                vector.y += bounds.y\n",
      "#            \n",
      "#            if vector.z > bounds.z / 2.:\n",
      "#                vector.z -= bounds.z\n",
      "#            elif vector.z < - bounds.z / 2.:\n",
      "#                vector.z += bounds.z\n"
     ],
     "language": "python",
     "metadata": {},
     "outputs": [],
     "prompt_number": 56
    },
    {
     "cell_type": "code",
     "collapsed": false,
     "input": [
      "#print myMatrix"
     ],
     "language": "python",
     "metadata": {},
     "outputs": [],
     "prompt_number": 57
    },
    {
     "cell_type": "code",
     "collapsed": false,
     "input": [
      "#enforceBoundary(vector_array[0][0])"
     ],
     "language": "python",
     "metadata": {},
     "outputs": [],
     "prompt_number": 58
    },
    {
     "cell_type": "code",
     "collapsed": false,
     "input": [
      "#print vector_array"
     ],
     "language": "python",
     "metadata": {},
     "outputs": [],
     "prompt_number": 59
    },
    {
     "cell_type": "code",
     "collapsed": false,
     "input": [
      "#vecSum = sum(vector_array, axis=1)\n",
      "#print vecSum\n",
      "#for vector in vecSum:\n",
      "#    print vector.boundVector"
     ],
     "language": "python",
     "metadata": {},
     "outputs": [],
     "prompt_number": 60
    },
    {
     "cell_type": "code",
     "collapsed": false,
     "input": [
      "#def Acc(vector_list, mass_list, eps = 1, sig = 1):\n",
      "#        rgPos = tile(vector_list, (len(vector_list),1))\n",
      "#        rgMass = tile(mass_list, (len(mass_list),1))\n",
      "#        b = transpose(rgPos)\n",
      "#        #print b\n",
      "#        #print \"rgPos\"\n",
      "#        #print rgPos\n",
      "#        #print \"rgPos // transpose(rgPos)\"\n",
      "#        #print rgPos // transpose(rgPos)\n",
      "#        #distanceMatrix = (rgPos // transpose(rgPos)) % self.container.L\n",
      "#        rgBuild = (24 * eps / float64(rgPos // transpose(rgPos))) * \\\n",
      "#                (2 * (sig**12 / float64(rgPos // transpose(rgPos))**6) - \\\n",
      "#                (sig**6 / float64(rgPos // transpose(rgPos))**3))\n",
      "#        #rgBuild = (24 * eps / distanceMatrix) * (2 * (sig**12 / distanceMatrix**6)) - (sig**6 / distanceMatrix**3)\n",
      "#        rgBuild = np.nan_to_num(rgBuild) #change inf to zero\n",
      "#        #print rgBuild\n",
      "#        rgBuild = (rgPos - transpose(rgPos)) * rgBuild\n",
      "#        #print rgBuild\n",
      "#        # TODO: where is the actual distance matrix? It needs to be modded: distanceMatrix = distanceMatrix % self.container.L (not quite a mod?: if dx > Lx/2 -> dx -= Lx)\n",
      "#        return sum(rgBuild, axis = 1)  / array(mass_list) "
     ],
     "language": "python",
     "metadata": {},
     "outputs": [],
     "prompt_number": 61
    },
    {
     "cell_type": "code",
     "collapsed": false,
     "input": [
      "#accels= Acc(vector_array, mass_list)"
     ],
     "language": "python",
     "metadata": {},
     "outputs": [],
     "prompt_number": 639
    },
    {
     "cell_type": "code",
     "collapsed": false,
     "input": [
      "#print accels"
     ],
     "language": "python",
     "metadata": {},
     "outputs": [],
     "prompt_number": 641
    },
    {
     "cell_type": "code",
     "collapsed": false,
     "input": [
      "#for accel in accels:\n",
      "#    print accel.boundVector"
     ],
     "language": "python",
     "metadata": {},
     "outputs": [],
     "prompt_number": 642
    },
    {
     "cell_type": "code",
     "collapsed": false,
     "input": [],
     "language": "python",
     "metadata": {},
     "outputs": []
    }
   ],
   "metadata": {}
  }
 ]
}