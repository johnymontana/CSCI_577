{
 "metadata": {
  "name": "Molecular_Dynamics"
 },
 "nbformat": 3,
 "nbformat_minor": 0,
 "worksheets": [
  {
   "cells": [
    {
     "cell_type": "heading",
     "level": 1,
     "metadata": {},
     "source": [
      "Molecular Dymanics - CSCI 577"
     ]
    },
    {
     "cell_type": "heading",
     "level": 3,
     "metadata": {},
     "source": [
      "Team Heracles: William Lyon & Jesse Adams"
     ]
    },
    {
     "cell_type": "code",
     "collapsed": false,
     "input": [
      "#from Vector import Vector_3D\n",
      "import numpy as np\n",
      "from pylab import * #ugh\n",
      "from math import sqrt"
     ],
     "language": "python",
     "metadata": {},
     "outputs": [],
     "prompt_number": 665
    },
    {
     "cell_type": "code",
     "collapsed": false,
     "input": [
      "import math\n",
      "\n",
      "\n",
      "class Vector_3D:\n",
      "    \n",
      "    def __class__(self):\n",
      "        return Vector_3D\n",
      "    def __init__(self, initial_x, initial_y, initial_z):\n",
      "        self.x = initial_x\n",
      "        self.y = initial_y\n",
      "        self.z = initial_z\n",
      "        self.boundVector = None\n",
      "    def __str__(self):\n",
      "        return \"x: \" + str(self.x) + \" y: \" + str(self.y) + \" z: \" + str(self.z) + \" | \"\n",
      "\n",
      "    def __mul__(self, other):\n",
      "        if isinstance(other, Vector_3D):\n",
      "            x_product = self.x * other.x\n",
      "            y_product = self.y * other.y\n",
      "            z_product = self.z * other.z\n",
      "            rtnVector = Vector_3D(x_product, y_product, z_product)\n",
      "            rtnVector.setBoundary(self.boundVector)\n",
      "            return rtnVector\n",
      "        elif isinstance(other, int) or isinstance(other, float):\n",
      "            x_product = self.x*other\n",
      "            y_product = self.y*other\n",
      "            z_product = self.z*other\n",
      "            rtnVector = Vector_3D(x_product, y_product, z_product)\n",
      "            rtnVector.setBoundary(self.boundVector)\n",
      "            return rtnVector\n",
      "            \n",
      "    def __floordiv__(self, other):   # overload // operator to return sum of squares of (Vector1 - Vector2)\n",
      "        #power = vector_tuple[1]\n",
      "\t\t#vector = vector_tuple[0]\n",
      "\t\t#return self.magnitude_of_dist(self-vector, power)\n",
      "\t\t#return self.magnitude_of_dist(self-other)\n",
      "\t\treturn self.magnitude_of_dist(self-other)\n",
      "    \n",
      "    def setBoundary(self, boundVector):\n",
      "        #print \"boundary set to: \" + str(boundVector)\n",
      "        self.boundVector = boundVector\n",
      "        \n",
      "    def __mod__(self, other):\n",
      "        if other.x == 0:\n",
      "            x_mod = self.x\n",
      "        else:\n",
      "            x_mod = self.x % other.x\n",
      "        \n",
      "        if other.y == 0:\n",
      "            y_mod = self.y\n",
      "        else:\n",
      "            y_mod = self.y % other.y\n",
      "        if other.z == 0:\n",
      "            z_mod = self.z\n",
      "        else:\n",
      "            z_mod = self.z % other.z\n",
      "        rtnVector = Vector_3D(x_mod, y_mod, z_mod)\n",
      "        rtnVector.setBoundary(self.boundVector)\n",
      "        return rtnVector\n",
      "    \n",
      "    def __add__(self, other):\n",
      "        addVector = Vector_3D(self.x+other.x, self.y+other.y, self.z+other.z)\n",
      "        addVector.setBoundary(self.boundVector)\n",
      "        return addVector\n",
      "    \n",
      "    def __sub__(self, other):\n",
      "        x_sub = self.x - other.x\n",
      "        y_sub = self.y - other.y\n",
      "        z_sub = self.z - other.z\n",
      "        rtnVector = Vector_3D(x_sub, y_sub, z_sub)\n",
      "        rtnVector.setBoundary(self.boundVector)\n",
      "        return rtnVector\n",
      "\n",
      "    def __div__(self, other):\n",
      "        if isinstance(other, Vector_3D):\n",
      "            x_div = math.float64(self.x) / other.x\n",
      "            y_div = math.float64(self.y) / other.y\n",
      "            z_div = math.float64(self.z) / other.z\n",
      "            rtnVector = Vector_3D(x_div, y_div, z_div)\n",
      "            rtnVector.setBoundary(self.boundVector)\n",
      "            return rtnVector\n",
      "        elif isinstance(other, int) or isinstance(other, float):\n",
      "            x_div = self.x / other\n",
      "            y_div = self.y / other\n",
      "            z_div = self.z / other\n",
      "            rtnVector = Vector_3D(x_div, y_div, z_div)\n",
      "            rtnVector.setBoundary(self.boundVector)\n",
      "            return rtnVector\n",
      "        \n",
      "    def __pow__(self, power):\n",
      "        self.x = self.x**power\n",
      "        self.y = self.y**power\n",
      "        self.z = self.z**power\n",
      "        return self\n",
      "\n",
      "    def magnitude_of_dist(self, r):\n",
      "        # distance boundary conditions are enforced here\n",
      "        if r.x > self.boundVector.x / 2.:\n",
      "            r.x -= self.boundVector.x\n",
      "        if r.x < -self.boundVector.x / 2.:\n",
      "            r.x += self.boundVector.x\n",
      "        if r.y > self.boundVector.y / 2.:\n",
      "            r.y -= self.boundVector.y\n",
      "        if r.y < -self.boundVector.y / 2.:\n",
      "            r.y += self.boundVector.y\n",
      "        if r.z > self.boundVector.z / 2.:\n",
      "            r.z -= self.boundVector.z\n",
      "        if r.z < -self.boundVector.z / 2.:\n",
      "            r.z += self.boundVector.z\n",
      "        return (r.x**2 + r.y**2 + r.z**2)\n",
      "        \n",
      "    \n",
      "    def magnitude(self):\n",
      "        return math.sqrt(self.x**2 + self.y**2 + self.z**2)\n",
      "\n",
      "    def raw_mag(self, r):\n",
      "        return r.x**2 + r.y**2 + r.z**2\n",
      "    "
     ],
     "language": "python",
     "metadata": {},
     "outputs": [],
     "prompt_number": 666
    },
    {
     "cell_type": "code",
     "collapsed": false,
     "input": [
      "class Container(object):\n",
      "    \n",
      "    def __init__(self, part_locations=None, part_velocities=None, part_accels=None, part_masses=None, part_diameter=None, Lx=None, Ly=None, Lz=None):\n",
      "        self._part_locations = np.array([])\n",
      "        self.part_velocities = np.array([])\n",
      "        self.part_accelerations = np.array([])\n",
      "        self.part_masses = np.array([])\n",
      "        self.part_diameter = None\n",
      "        self.Lx = None #Lx\n",
      "        self.Ly = None #Ly\n",
      "        self.Lz = None #Lz\n",
      "        self.L = Vector_3D(0., 0., 0.)    # L vector MUST be set in ContainerInitializer\n",
      "    \n",
      "    @property\n",
      "    def part_locations(self):\n",
      "        return self._part_locations\n",
      "        \n",
      "    @part_locations.setter\n",
      "    def part_locations(self, value):\n",
      "        self._part_locations = value % self.L\n",
      "        \n",
      "    def add_particle(self, location, velocity, mass):\n",
      "        location.setBoundary(self.L)\n",
      "        self.part_locations = np.hstack((self.part_locations, location))\n",
      "        self.part_velocities = np.hstack((self.part_velocities, velocity))\n",
      "        #self.part_accelerations = np.hstack((self.part_accelerations, acceleration))\n",
      "        self.part_masses = np.hstack((self.part_masses, mass))\n",
      "        \n",
      "    def get_dist_matrix(self):\n",
      "        # this is actually implemented in Vector_3D class def and acceleration function\n",
      "        pass\n",
      "        \n",
      "    \n",
      "        "
     ],
     "language": "python",
     "metadata": {},
     "outputs": [],
     "prompt_number": 667
    },
    {
     "cell_type": "code",
     "collapsed": false,
     "input": [
      "class Force:\n",
      "    \n",
      "    def __init__(self, container):\n",
      "        self.container = container\n",
      "        pass\n",
      "    \n",
      "    def __call__(self):\n",
      "        return self.fnrgAcc(self.container.part_locations, self.container.part_masses)\n",
      "    \n",
      "    # Acceleration calculation\n",
      "    # input:\n",
      "    #    vector_list: list of position vectors. e.g.\n",
      "    #           [r1 r2 r3]\n",
      "    #    mass_list: list of masses corresponding to the position vectors above. e.g.\n",
      "    #           [m1 m2 m3]\n",
      "    #    G: gravitational constant (perhaps this should be a global instead?)\n",
      "    # output:\n",
      "    #    array of accelerations (in same order as the inputs). e.g.\n",
      "    #           [a1 a2 a3]\n",
      "    #def fnrgAcc(self, vector_list, mass_list, G=1):\n",
      "    #    rgPos = np.tile(vector_list, (len(vector_list),1))\n",
      "    #    rgMass = np.tile(mass_list, (len(mass_list),1))\n",
      "    #\n",
      "    #    rgBuild = G * rgMass * transpose(rgMass) / float64((rgPos % (transpose(rgPos), 0.5))**3) \n",
      "    #    rgBuild[rgBuild==np.inf]=0 #change inf to zero\n",
      "    #    rgBuild = (rgPos - transpose(rgPos)) * rgBuild\n",
      "    #    return sum(rgBuild, axis = 1) * array(mass_list)\n",
      "    def fnrgAcc(self, vector_list, mass_list, eps = 1, sig = 1):\n",
      "        rgPos = tile(vector_list, (len(vector_list),1))\n",
      "        rgMass = tile(mass_list, (len(mass_list),1))\n",
      "        b = transpose(rgPos)\n",
      "        #print b\n",
      "        #print \"rgPos\"\n",
      "        #print rgPos\n",
      "        #print \"rgPos // transpose(rgPos)\"\n",
      "        #print rgPos // transpose(rgPos)\n",
      "        #distanceMatrix = (rgPos // transpose(rgPos)) % self.container.L\n",
      "        rgBuild = (24 * eps / float64(rgPos // transpose(rgPos))) * \\\n",
      "                (2 * (sig**12 / float64(rgPos // transpose(rgPos))**6) - \\\n",
      "                (sig**6 / float64(rgPos // transpose(rgPos))**3))\n",
      "        #rgBuild = (24 * eps / distanceMatrix) * (2 * (sig**12 / distanceMatrix**6)) - (sig**6 / distanceMatrix**3)\n",
      "        rgBuild = np.nan_to_num(rgBuild) #change inf to zero\n",
      "        #print rgBuild\n",
      "        rgBuild = (rgPos - transpose(rgPos)) * rgBuild\n",
      "        #print rgBuild\n",
      "        # TODO: where is the actual distance matrix? It needs to be modded: distanceMatrix = distanceMatrix % self.container.L (not quite a mod?: if dx > Lx/2 -> dx -= Lx)\n",
      "        return sum(rgBuild, axis = 1)  / array(mass_list) "
     ],
     "language": "python",
     "metadata": {},
     "outputs": [],
     "prompt_number": 668
    },
    {
     "cell_type": "code",
     "collapsed": false,
     "input": [
      "class Integrator:\n",
      "    def __init__(self, dt, container, force):\n",
      "        self.dt = dt\n",
      "        self.container = container\n",
      "        self.force = force\n",
      "        self.container.part_accelerations = self.force()\n",
      "        \n",
      "    def integrate(self):\n",
      "        self.container.part_locations = self.container.part_locations + self.container.part_velocities*self.dt + self.container.part_accelerations * 0.5 * self.dt**2\n",
      "        accel = self.container.part_accelerations   # store accelerations\n",
      "        self.container.accelerations = self.force() # step accelerations forward\n",
      "        self.container.part_velocities = self.container.part_velocities + (self.container.part_accelerations + accel) * 0.5 * self.dt\n",
      "        # return new state -> update ivars"
     ],
     "language": "python",
     "metadata": {},
     "outputs": [],
     "prompt_number": 669
    },
    {
     "cell_type": "code",
     "collapsed": false,
     "input": [
      "class ContainerInitializer:\n",
      "    def __init__(self, init_string):\n",
      "        c = Container()\n",
      "        if init_string == 'square_lattice':\n",
      "            N = 8             # Particles per row\n",
      "            c.Ly = c.Lx       # Extents determined by Lx input\n",
      "            # TODO: set L\n",
      "            d = 2.**(1/6.)    # Particle diameter\n",
      "            x = linspace(-c.L.x/2+d/2.,c.L.x/2-d/2,N)\n",
      "            y = linspace(-c.L.x/2+d/2.,c.L.x/2-d/2,N)\n",
      "            for i in range(x.size):\n",
      "                for j in range(y.size):\n",
      "                    c.add_particle(Vector_3D(x[i],y[j],0.), Vector_3D(0.,0.,0.) , Vector_3D(0., 0., 0.) , 1.)\n",
      "                    #c.addParticle(x, y, z, vx, vy, ax, ay, mass)\n",
      "                    \n",
      "        elif init_string == 'line':\n",
      "            #gamma = 1e-6\n",
      "            gamma = 0.\n",
      "            #c.Lx = 10.\n",
      "            #c.Ly = 10.\n",
      "            c.L = Vector_3D(10, 10, 0)\n",
      "            \n",
      "            for i in range(11):\n",
      "                if i ==5:\n",
      "                    #c.addParticle(location, velocity, acceleration, mass)\n",
      "                    c.add_particle(Vector_3D(c.L.x / 2., (i-.5) * c.L.y / 11., 0.), Vector_3D(1.-gamma,gamma,0.) ,1.)\n",
      "                else:\n",
      "                    c.add_particle(Vector_3D(c.L.x / 2., (i-.5) * c.L.y / 11., 0.), Vector_3D(1.,0., 0.), 1.)\n",
      "        self.container = c\n",
      "    def getContainer(self):\n",
      "        return self.container"
     ],
     "language": "python",
     "metadata": {},
     "outputs": [],
     "prompt_number": 670
    },
    {
     "cell_type": "code",
     "collapsed": false,
     "input": [],
     "language": "python",
     "metadata": {},
     "outputs": [],
     "prompt_number": 670
    },
    {
     "cell_type": "code",
     "collapsed": false,
     "input": [],
     "language": "python",
     "metadata": {},
     "outputs": [],
     "prompt_number": 670
    },
    {
     "cell_type": "code",
     "collapsed": false,
     "input": [
      "c = ContainerInitializer(\"line\").getContainer()"
     ],
     "language": "python",
     "metadata": {},
     "outputs": [],
     "prompt_number": 671
    },
    {
     "cell_type": "code",
     "collapsed": false,
     "input": [
      "print c.part_locations[0].boundVector"
     ],
     "language": "python",
     "metadata": {},
     "outputs": [
      {
       "output_type": "stream",
       "stream": "stdout",
       "text": [
        "x: 10 y: 10 z: 0 | \n"
       ]
      }
     ],
     "prompt_number": 672
    },
    {
     "cell_type": "code",
     "collapsed": false,
     "input": [
      "print c.part_locations"
     ],
     "language": "python",
     "metadata": {},
     "outputs": [
      {
       "output_type": "stream",
       "stream": "stdout",
       "text": [
        "[x: 5.0 y: 9.54545454545 z: 0.0 |  x: 5.0 y: 0.454545454545 z: 0.0 |\n",
        " x: 5.0 y: 1.36363636364 z: 0.0 |  x: 5.0 y: 2.27272727273 z: 0.0 |\n",
        " x: 5.0 y: 3.18181818182 z: 0.0 |  x: 5.0 y: 4.09090909091 z: 0.0 |\n",
        " x: 5.0 y: 5.0 z: 0.0 |  x: 5.0 y: 5.90909090909 z: 0.0 |\n",
        " x: 5.0 y: 6.81818181818 z: 0.0 |  x: 5.0 y: 7.72727272727 z: 0.0 |\n",
        " x: 5.0 y: 8.63636363636 z: 0.0 | ]\n"
       ]
      }
     ],
     "prompt_number": 673
    },
    {
     "cell_type": "code",
     "collapsed": false,
     "input": [
      "f = Force(c)"
     ],
     "language": "python",
     "metadata": {},
     "outputs": [],
     "prompt_number": 674
    },
    {
     "cell_type": "code",
     "collapsed": false,
     "input": [
      "f()"
     ],
     "language": "python",
     "metadata": {},
     "outputs": [
      {
       "output_type": "pyout",
       "prompt_number": 675,
       "text": [
        "array([x: 0.0 y: -1306.35233621 z: 0.0 | ,\n",
        "       x: 0.0 y: 1306.35233621 z: 0.0 | ,\n",
        "       x: 0.0 y: -1.98555058963 z: 0.0 | ,\n",
        "       x: 0.0 y: -0.0871909143066 z: 0.0 | ,\n",
        "       x: 0.0 y: -0.00915998853941 z: 0.0 | ,\n",
        "       x: 0.0 y: -0.00131672231744 z: 0.0 | ,\n",
        "       x: 0.0 y: 4.77829581458e-15 z: 0.0 | ,\n",
        "       x: 0.0 y: 0.00131672231745 z: 0.0 | ,\n",
        "       x: 0.0 y: 0.00915998853851 z: 0.0 | ,\n",
        "       x: 0.0 y: 0.0871909143079 z: 0.0 | ,\n",
        "       x: 0.0 y: 1.98555058963 z: 0.0 | ], dtype=object)"
       ]
      }
     ],
     "prompt_number": 675
    },
    {
     "cell_type": "code",
     "collapsed": false,
     "input": [
      "i = Integrator(0.01, c, f)"
     ],
     "language": "python",
     "metadata": {},
     "outputs": [],
     "prompt_number": 676
    },
    {
     "cell_type": "code",
     "collapsed": false,
     "input": [
      "i.integrate()"
     ],
     "language": "python",
     "metadata": {},
     "outputs": [],
     "prompt_number": 677
    },
    {
     "cell_type": "code",
     "collapsed": false,
     "input": [
      "print c.part_locations"
     ],
     "language": "python",
     "metadata": {},
     "outputs": [
      {
       "output_type": "stream",
       "stream": "stdout",
       "text": [
        "[x: 5.01 y: 9.48013692864 z: 0.0 |  x: 5.01 y: 0.519863071356 z: 0.0 |\n",
        " x: 5.01 y: 1.36353708611 z: 0.0 |  x: 5.01 y: 2.27272291318 z: 0.0 |\n",
        " x: 5.01 y: 3.18181772382 z: 0.0 |  x: 5.01 y: 4.09090902507 z: 0.0 |\n",
        " x: 5.01 y: 5.0 z: 0.0 |  x: 5.01 y: 5.90909097493 z: 0.0 |\n",
        " x: 5.01 y: 6.81818227618 z: 0.0 |  x: 5.01 y: 7.72727708682 z: 0.0 |\n",
        " x: 5.01 y: 8.63646291389 z: 0.0 | ]\n"
       ]
      }
     ],
     "prompt_number": 678
    },
    {
     "cell_type": "code",
     "collapsed": false,
     "input": [
      "state_list = []\n",
      "count = 0\n",
      "while count < 20:\n",
      "    i.integrate()\n",
      "    state_list.append(c.part_locations)\n",
      "    count += 1"
     ],
     "language": "python",
     "metadata": {},
     "outputs": [],
     "prompt_number": 679
    },
    {
     "cell_type": "code",
     "collapsed": false,
     "input": [
      "state_array = np.array(state_list)"
     ],
     "language": "python",
     "metadata": {},
     "outputs": [],
     "prompt_number": 680
    },
    {
     "cell_type": "code",
     "collapsed": false,
     "input": [
      "#m1_x = []\n",
      "#m1_y = []\n",
      "#m2_x = []\n",
      "#m2_y = []\n",
      "#m3_x = []\n",
      "#m3_y = []\n",
      "#for vector in state_array[:,0]:\n",
      "#    m1_x.append(vector.x)\n",
      "#    m1_y.append(vector.y)\n",
      "#for vector in state_array[:,1]:\n",
      "#    m2_x.append(vector.x)\n",
      "#    m2_y.append(vector.y)\n",
      "#for vector in state_array[:,2]:\n",
      "#    m3_x.append(vector.x)\n",
      "#    m3_y.append(vector.y)"
     ],
     "language": "python",
     "metadata": {},
     "outputs": [],
     "prompt_number": 681
    },
    {
     "cell_type": "code",
     "collapsed": false,
     "input": [
      "#plot(m1_x, m1_y)\n",
      "#plot(m2_x, m2_y)\n",
      "#plot(m3_x, m3_y)"
     ],
     "language": "python",
     "metadata": {},
     "outputs": [],
     "prompt_number": 682
    },
    {
     "cell_type": "code",
     "collapsed": false,
     "input": [
      "#print state_list\n",
      "#plot(state_list[])"
     ],
     "language": "python",
     "metadata": {},
     "outputs": [],
     "prompt_number": 683
    },
    {
     "cell_type": "code",
     "collapsed": false,
     "input": [
      "map(get_y,state_array[:,0])"
     ],
     "language": "python",
     "metadata": {},
     "outputs": [
      {
       "output_type": "pyout",
       "prompt_number": 684,
       "text": [
        "[9.284184078212562,\n",
        " 8.957595994160084,\n",
        " 8.500372676486613,\n",
        " 7.9125141251921525,\n",
        " 7.194020340276701,\n",
        " 6.344891321740259,\n",
        " 5.365127069582825,\n",
        " 4.2547275838044,\n",
        " 3.0136928644049843,\n",
        " 1.642022911384577,\n",
        " 0.13971772474317873,\n",
        " 8.506777304480789,\n",
        " 6.743201650597408,\n",
        " 4.8489907630930364,\n",
        " 2.8241446419676732,\n",
        " 0.668663287221319,\n",
        " 8.382546698853973,\n",
        " 5.965794876865637,\n",
        " 3.418407821256309,\n",
        " 0.74038553202599]"
       ]
      }
     ],
     "prompt_number": 684
    },
    {
     "cell_type": "code",
     "collapsed": false,
     "input": [
      "def get_x(vector):\n",
      "    return vector.x\n",
      "def get_y(vector):\n",
      "    return vector.y\n",
      "def get_z(vector):\n",
      "    return vector.z"
     ],
     "language": "python",
     "metadata": {},
     "outputs": [],
     "prompt_number": 685
    },
    {
     "cell_type": "code",
     "collapsed": false,
     "input": [
      "for count in range(len(c.part_masses)):\n",
      "    vector_list=state_array[:,count]\n",
      "    plot(map(get_x, vector_list), map(get_y, vector_list))"
     ],
     "language": "python",
     "metadata": {},
     "outputs": [
      {
       "output_type": "display_data",
       "png": "[encoded data removed]"
      }
     ],
     "prompt_number": 686
    },
    {
     "cell_type": "raw",
     "metadata": {},
     "source": [
      "Particles move to the right"
     ]
    },
    {
     "cell_type": "code",
     "collapsed": false,
     "input": [
      "#r1 = Vector_3D(2, 3, 20)\n",
      "#r2 = Vector_3D(5, 10, 12)\n",
      "#r3 = Vector_3D(2, 3, 4)\n",
      "#r1.setBoundary(r1)\n",
      "#r2.setBoundary(r1)\n",
      "#r3.setBoundary(r1)"
     ],
     "language": "python",
     "metadata": {},
     "outputs": [],
     "prompt_number": 633
    },
    {
     "cell_type": "code",
     "collapsed": false,
     "input": [
      "#vector_array = array([r1, r2, r3])\n",
      "#mass_list = [1, 2, 3]"
     ],
     "language": "python",
     "metadata": {},
     "outputs": [],
     "prompt_number": 634
    },
    {
     "cell_type": "code",
     "collapsed": false,
     "input": [
      "#print vector_array"
     ],
     "language": "python",
     "metadata": {},
     "outputs": [],
     "prompt_number": 635
    },
    {
     "cell_type": "code",
     "collapsed": false,
     "input": [
      "#vector_array = np.tile(vector_array, (5,1))"
     ],
     "language": "python",
     "metadata": {},
     "outputs": [],
     "prompt_number": 636
    },
    {
     "cell_type": "code",
     "collapsed": false,
     "input": [
      "#print vector_array"
     ],
     "language": "python",
     "metadata": {},
     "outputs": [],
     "prompt_number": 637
    },
    {
     "cell_type": "code",
     "collapsed": false,
     "input": [
      "#vecSum = sum(vector_array, axis=1)\n",
      "#print vecSum\n",
      "#for vector in vecSum:\n",
      "#    print vector.boundVector"
     ],
     "language": "python",
     "metadata": {},
     "outputs": [],
     "prompt_number": 638
    },
    {
     "cell_type": "code",
     "collapsed": false,
     "input": [
      "#def Acc(vector_list, mass_list, eps = 1, sig = 1):\n",
      "#        rgPos = tile(vector_list, (len(vector_list),1))\n",
      "#        rgMass = tile(mass_list, (len(mass_list),1))\n",
      "#        b = transpose(rgPos)\n",
      "#        #print b\n",
      "#        #print \"rgPos\"\n",
      "#        #print rgPos\n",
      "#        #print \"rgPos // transpose(rgPos)\"\n",
      "#        #print rgPos // transpose(rgPos)\n",
      "#        #distanceMatrix = (rgPos // transpose(rgPos)) % self.container.L\n",
      "#        rgBuild = (24 * eps / float64(rgPos // transpose(rgPos))) * \\\n",
      "#                (2 * (sig**12 / float64(rgPos // transpose(rgPos))**6) - \\\n",
      "#                (sig**6 / float64(rgPos // transpose(rgPos))**3))\n",
      "#        #rgBuild = (24 * eps / distanceMatrix) * (2 * (sig**12 / distanceMatrix**6)) - (sig**6 / distanceMatrix**3)\n",
      "#        rgBuild = np.nan_to_num(rgBuild) #change inf to zero\n",
      "#        #print rgBuild\n",
      "#        rgBuild = (rgPos - transpose(rgPos)) * rgBuild\n",
      "#        #print rgBuild\n",
      "#        # TODO: where is the actual distance matrix? It needs to be modded: distanceMatrix = distanceMatrix % self.container.L (not quite a mod?: if dx > Lx/2 -> dx -= Lx)\n",
      "#        return sum(rgBuild, axis = 1)  / array(mass_list) "
     ],
     "language": "python",
     "metadata": {},
     "outputs": [],
     "prompt_number": 640
    },
    {
     "cell_type": "code",
     "collapsed": false,
     "input": [
      "#accels= Acc(vector_array, mass_list)"
     ],
     "language": "python",
     "metadata": {},
     "outputs": [],
     "prompt_number": 639
    },
    {
     "cell_type": "code",
     "collapsed": false,
     "input": [
      "#print accels"
     ],
     "language": "python",
     "metadata": {},
     "outputs": [],
     "prompt_number": 641
    },
    {
     "cell_type": "code",
     "collapsed": false,
     "input": [
      "#for accel in accels:\n",
      "#    print accel.boundVector"
     ],
     "language": "python",
     "metadata": {},
     "outputs": [],
     "prompt_number": 642
    },
    {
     "cell_type": "code",
     "collapsed": false,
     "input": [],
     "language": "python",
     "metadata": {},
     "outputs": []
    }
   ],
   "metadata": {}
  }
 ]
}