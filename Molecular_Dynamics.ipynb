{
 "metadata": {
  "name": "Molecular_Dynamics"
 },
 "nbformat": 3,
 "nbformat_minor": 0,
 "worksheets": [
  {
   "cells": [
    {
     "cell_type": "code",
     "collapsed": false,
     "input": [
      "from Vector import Vector_3D\n",
      "import numpy as np\n",
      "from pylab import * #ugh\n",
      "from math import sqrt"
     ],
     "language": "python",
     "metadata": {},
     "outputs": [],
     "prompt_number": 2
    },
    {
     "cell_type": "code",
     "collapsed": false,
     "input": [
      "class Container:\n",
      "    \n",
      "    def __init__(self, part_locations=None, part_velocities=None, part_accels=None, part_masses=None, part_diameter=None, Lx=None, Ly=None, Lz=None):\n",
      "        self.part_locations = np.array([])\n",
      "        self.part_velocities = np.array([])\n",
      "        self.part_accelerations = np.array([])\n",
      "        self.part_masses = np.array([])\n",
      "        self.part_diameter = None\n",
      "        self.Lx = None #Lx\n",
      "        self.Ly = None #Ly\n",
      "        self.Lz = None #Lz\n",
      "        \n",
      "    def add_particle(self, location, velocity, acceleration, mass):\n",
      "        self.part_locations = np.hstack((self.part_locations, location))\n",
      "        self.part_velocities = np.hstack((self.part_velocities, velocity))\n",
      "        self.part_accelerations = np.hstack((self.part_accelerations, acceleration))\n",
      "        self.part_masses = np.hstack((self.part_masses, mass))\n",
      "        \n",
      "    def get_dist_matrix(self):\n",
      "        # return dist_matrix\n",
      "        pass\n",
      "        \n",
      "    \n",
      "        "
     ],
     "language": "python",
     "metadata": {},
     "outputs": [],
     "prompt_number": 3
    },
    {
     "cell_type": "code",
     "collapsed": false,
     "input": [
      "class Force:\n",
      "    \n",
      "    def __init__(self, container):\n",
      "        self.container = container\n",
      "        pass\n",
      "    \n",
      "    def __call__(self):\n",
      "        return self.fnrgAcc(self.container.part_locations, self.container.part_masses)\n",
      "    \n",
      "    # Acceleration calculation\n",
      "    # input:\n",
      "    #    vector_list: list of position vectors. e.g.\n",
      "    #           [r1 r2 r3]\n",
      "    #    mass_list: list of masses corresponding to the position vectors above. e.g.\n",
      "    #           [m1 m2 m3]\n",
      "    #    G: gravitational constant (perhaps this should be a global instead?)\n",
      "    # output:\n",
      "    #    array of accelerations (in same order as the inputs). e.g.\n",
      "    #           [a1 a2 a3]\n",
      "    def fnrgAcc(self, vector_list, mass_list, G=1):\n",
      "        rgPos = np.tile(vector_list, (len(vector_list),1))\n",
      "        rgMass = np.tile(mass_list, (len(mass_list),1))\n",
      "    \n",
      "        rgBuild = G * rgMass * transpose(rgMass) / float64((rgPos % transpose(rgPos))**3) \n",
      "        rgBuild[rgBuild==np.inf]=0 #change inf to zero\n",
      "    \n",
      "        rgBuild = (rgPos - transpose(rgPos)) * rgBuild\n",
      "        return sum(rgBuild, axis = 1) * array(mass_list)\n",
      "    "
     ],
     "language": "python",
     "metadata": {},
     "outputs": [],
     "prompt_number": 4
    },
    {
     "cell_type": "code",
     "collapsed": false,
     "input": [
      "class Integrator:\n",
      "    def __init__(self, dt, container, force):\n",
      "        self.dt = dt\n",
      "        self.container = container\n",
      "        self.force = force\n",
      "        \n",
      "    def integrate(self):\n",
      "        self.container.part_locations = self.container.part_locations + self.container.part_velocities*self.dt + self.container.part_accelerations * 0.5 * self.dt**2\n",
      "        accel = self.container.part_accelerations   # store accelerations\n",
      "        self.container.accelerations = self.force() # step accelerations forward\n",
      "        self.container.part_velocities = self.container.part_velocities + (self.container.part_accelerations + accel) * 0.5 * self.dt\n",
      "        # return new state -> update ivars"
     ],
     "language": "python",
     "metadata": {},
     "outputs": [],
     "prompt_number": 5
    },
    {
     "cell_type": "code",
     "collapsed": false,
     "input": [
      "class ContainerInitializer:\n",
      "    def __init__(self, init_string):\n",
      "        c = Container()\n",
      "        if init_string == 'square_lattice':\n",
      "            N = 8             # Particles per row\n",
      "            c.Ly = c.Lx       # Extents determined by Lx input\n",
      "            d = 2.**(1/6.)    # Particle diameter\n",
      "            x = linspace(-c.Lx/2+d/2.,c.Lx/2-d/2,N)\n",
      "            y = linspace(-c.Lx/2+d/2.,c.Lx/2-d/2,N)\n",
      "            for i in range(x.size):\n",
      "                for j in range(y.size):\n",
      "                    c.add_particle(Vector_3D(x[i],y[j],0.), Vector_3D(0.,0.,0.) , Vector_3D(0., 0., 0.) , 1.)\n",
      "                    #c.addParticle(x, y, z, vx, vy, ax, ay, mass)\n",
      "                    \n",
      "        elif init_string == 'line':\n",
      "            #gamma = 1e-6\n",
      "            gamma = 0.\n",
      "            c.Lx = 10.\n",
      "            c.Ly = 10.\n",
      "            for i in range(11):\n",
      "                if i ==5:\n",
      "                    #c.addParticle(location, velocity, acceleration, mass)\n",
      "                    c.add_particle(Vector_3D(c.Lx / 2., (i-.5) * c.Ly / 11., 0.), Vector_3D(0., 1., 0.), Vector_3D(-gamma,gamma,0.) ,1.)\n",
      "                else:\n",
      "                    c.add_particle(Vector_3D(c.Lx / 2., (i-.5) * c.Ly / 11., 0.), Vector_3D(0.,1., 0.), Vector_3D(0.,0., 0.), 1.)\n",
      "        self.container = c\n",
      "    def getContainer(self):\n",
      "        return self.container"
     ],
     "language": "python",
     "metadata": {},
     "outputs": [],
     "prompt_number": 6
    },
    {
     "cell_type": "code",
     "collapsed": false,
     "input": [],
     "language": "python",
     "metadata": {},
     "outputs": [],
     "prompt_number": 6
    },
    {
     "cell_type": "code",
     "collapsed": false,
     "input": [],
     "language": "python",
     "metadata": {},
     "outputs": [],
     "prompt_number": 6
    },
    {
     "cell_type": "code",
     "collapsed": false,
     "input": [
      "c = ContainerInitializer(\"line\").getContainer()"
     ],
     "language": "python",
     "metadata": {},
     "outputs": [],
     "prompt_number": 7
    },
    {
     "cell_type": "code",
     "collapsed": false,
     "input": [
      "c"
     ],
     "language": "python",
     "metadata": {},
     "outputs": [
      {
       "output_type": "pyout",
       "prompt_number": 8,
       "text": [
        "<__main__.Container instance at 0x1024adbd8>"
       ]
      }
     ],
     "prompt_number": 8
    },
    {
     "cell_type": "code",
     "collapsed": false,
     "input": [
      "print c.part_locations"
     ],
     "language": "python",
     "metadata": {},
     "outputs": [
      {
       "output_type": "stream",
       "stream": "stdout",
       "text": [
        "[x: 5.0 y: -0.454545454545 z: 0.0 |  x: 5.0 y: 0.454545454545 z: 0.0 |\n",
        " x: 5.0 y: 1.36363636364 z: 0.0 |  x: 5.0 y: 2.27272727273 z: 0.0 |\n",
        " x: 5.0 y: 3.18181818182 z: 0.0 |  x: 5.0 y: 4.09090909091 z: 0.0 |\n",
        " x: 5.0 y: 5.0 z: 0.0 |  x: 5.0 y: 5.90909090909 z: 0.0 |\n",
        " x: 5.0 y: 6.81818181818 z: 0.0 |  x: 5.0 y: 7.72727272727 z: 0.0 |\n",
        " x: 5.0 y: 8.63636363636 z: 0.0 | ]\n"
       ]
      }
     ],
     "prompt_number": 9
    },
    {
     "cell_type": "code",
     "collapsed": false,
     "input": [
      "f = Force(c)"
     ],
     "language": "python",
     "metadata": {},
     "outputs": [],
     "prompt_number": 10
    },
    {
     "cell_type": "code",
     "collapsed": false,
     "input": [
      "f()"
     ],
     "language": "python",
     "metadata": {},
     "outputs": [
      {
       "output_type": "stream",
       "stream": "stderr",
       "text": [
        "-c:24: RuntimeWarning: divide by zero encountered in divide\n"
       ]
      },
      {
       "output_type": "pyout",
       "prompt_number": 11,
       "text": [
        "array([x: 0.0 y: 1.87521895471 z: 0.0 | ,\n",
        "       x: 0.0 y: 0.653118954712 z: 0.0 | ,\n",
        "       x: 0.0 y: 0.335680683107 z: 0.0 | ,\n",
        "       x: 0.0 y: 0.182329988662 z: 0.0 | ,\n",
        "       x: 0.0 y: 0.0820111111111 z: 0.0 | ,\n",
        "       x: 0.0 y: -3.05311331772e-16 z: 0.0 | ,\n",
        "       x: 0.0 y: -0.0820111111111 z: 0.0 | ,\n",
        "       x: 0.0 y: -0.182329988662 z: 0.0 | ,\n",
        "       x: 0.0 y: -0.335680683107 z: 0.0 | ,\n",
        "       x: 0.0 y: -0.653118954712 z: 0.0 | ,\n",
        "       x: 0.0 y: -1.87521895471 z: 0.0 | ], dtype=object)"
       ]
      }
     ],
     "prompt_number": 11
    },
    {
     "cell_type": "code",
     "collapsed": false,
     "input": [
      "i = Integrator(0.01, c, f)"
     ],
     "language": "python",
     "metadata": {},
     "outputs": [],
     "prompt_number": 12
    },
    {
     "cell_type": "code",
     "collapsed": false,
     "input": [
      "i.integrate()"
     ],
     "language": "python",
     "metadata": {},
     "outputs": [],
     "prompt_number": 13
    },
    {
     "cell_type": "code",
     "collapsed": false,
     "input": [
      "print c.part_locations"
     ],
     "language": "python",
     "metadata": {},
     "outputs": [
      {
       "output_type": "stream",
       "stream": "stdout",
       "text": [
        "[x: 5.0 y: -0.444545454545 z: 0.0 |  x: 5.0 y: 0.464545454545 z: 0.0 |\n",
        " x: 5.0 y: 1.37363636364 z: 0.0 |  x: 5.0 y: 2.28272727273 z: 0.0 |\n",
        " x: 5.0 y: 3.19181818182 z: 0.0 |  x: 5.0 y: 4.10090909091 z: 0.0 |\n",
        " x: 5.0 y: 5.01 z: 0.0 |  x: 5.0 y: 5.91909090909 z: 0.0 |\n",
        " x: 5.0 y: 6.82818181818 z: 0.0 |  x: 5.0 y: 7.73727272727 z: 0.0 |\n",
        " x: 5.0 y: 8.64636363636 z: 0.0 | ]\n"
       ]
      }
     ],
     "prompt_number": 14
    },
    {
     "cell_type": "code",
     "collapsed": false,
     "input": [
      "state_list = []\n",
      "count = 0\n",
      "while count < 10:\n",
      "    i.integrate()\n",
      "    state_list.append(c.part_locations)\n",
      "    count += 1"
     ],
     "language": "python",
     "metadata": {},
     "outputs": [],
     "prompt_number": 16
    },
    {
     "cell_type": "code",
     "collapsed": false,
     "input": [
      "state_array = np.array(state_list)"
     ],
     "language": "python",
     "metadata": {},
     "outputs": [],
     "prompt_number": 34
    },
    {
     "cell_type": "code",
     "collapsed": false,
     "input": [
      "m1_x = []\n",
      "m1_y = []\n",
      "m2_x = []\n",
      "m2_y = []\n",
      "m3_x = []\n",
      "m3_y = []\n",
      "for vector in state_array[:,0]:\n",
      "    m1_x.append(vector.x)\n",
      "    m1_y.append(vector.y)\n",
      "for vector in state_array[:,1]:\n",
      "    m2_x.append(vector.x)\n",
      "    m2_y.append(vector.y)\n",
      "for vector in state_array[:,2]:\n",
      "    m3_x.append(vector.x)\n",
      "    m3_y.append(vector.y)"
     ],
     "language": "python",
     "metadata": {},
     "outputs": [],
     "prompt_number": 40
    },
    {
     "cell_type": "code",
     "collapsed": false,
     "input": [
      "plot(m1_x, m1_y)\n",
      "plot(m2_x, m2_y)\n",
      "plot(m3_x, m3_y)"
     ],
     "language": "python",
     "metadata": {},
     "outputs": [
      {
       "output_type": "pyout",
       "prompt_number": 41,
       "text": [
        "[<matplotlib.lines.Line2D at 0x105d44810>]"
       ]
      },
      {
       "output_type": "display_data",
       "png": "[encoded data removed]"
      }
     ],
     "prompt_number": 41
    },
    {
     "cell_type": "code",
     "collapsed": false,
     "input": [
      "#print state_list\n",
      "#plot(state_list[])"
     ],
     "language": "python",
     "metadata": {},
     "outputs": [],
     "prompt_number": 42
    },
    {
     "cell_type": "code",
     "collapsed": false,
     "input": [],
     "language": "python",
     "metadata": {},
     "outputs": []
    }
   ],
   "metadata": {}
  }
 ]
}