{
 "metadata": {
  "name": "Object_Oriented_nBody"
 },
 "nbformat": 3,
 "nbformat_minor": 0,
 "worksheets": [
  {
   "cells": [
    {
     "cell_type": "heading",
     "level": 1,
     "metadata": {},
     "source": [
      "Object Oriented n-Body Simulation"
     ]
    },
    {
     "cell_type": "heading",
     "level": 4,
     "metadata": {},
     "source": [
      "CSCI 577 - Team Heracles (Jesse Adams & William Lyon)"
     ]
    },
    {
     "cell_type": "heading",
     "level": 2,
     "metadata": {},
     "source": [
      "Initial Setup"
     ]
    },
    {
     "cell_type": "code",
     "collapsed": false,
     "input": [
      "from scipy.integrate import odeint, ode\n",
      "from pylab import *\n",
      "import numpy as np\n",
      "\n",
      "#G =2*3.14\n",
      "#M = 0.00013\n",
      "GM = 4*math.pi**2\n",
      "Gm_1 = 0.001*GM\n",
      "Gm_2 = 0.04*GM\n",
      "#m_1 = 0.001M\n",
      "#m_2 = 0.04M\n",
      "\n",
      "DELTA_T=0.01\n",
      "\n",
      "def runge_kutta(x, f, dt):\n",
      "    t=None\n",
      "    k1=f(x, t)*dt\n",
      "    k2=f(x+0.5*k1, t)*dt\n",
      "    k3=f(x+0.5*k2, t)*dt\n",
      "    k4=f(x+k3, t)*dt\n",
      "    return x + (k1+2*k2+2*k3+k4)/6.0\n",
      "\n",
      "class Vector_2D:\n",
      "    # override operators??? => *\n",
      "    def __init__(self, initial_x, initial_y):\n",
      "        self.x = initial_x\n",
      "        self.y = initial_y\n",
      "    def __str__(self):\n",
      "        return \"x: \" + str(self.x) + \" y: \"+str(self.y)\n",
      "    def __mul__(self, other):\n",
      "        x_product = self.x * other.x\n",
      "        y_product = self.y * other.y\n",
      "        return Vector_2D(x_product, y_product)\n",
      "    def __sub__(self, other):\n",
      "        x_sub = self.x - other.x\n",
      "        y_sub = self.y - other.y\n",
      "        return Vector_2D(x_sub, y_sub)\n",
      "    def magnitude(self):\n",
      "        return sqrt(self.x**2+self.y**2)\n",
      "    \n",
      "def acceleration(m1_location_vector, m2_location_vector):\n",
      "        # compute my acceleration\n",
      "        x_acceleration_m1 = -(GM/(m1_location_vector.magnitude()**3)*m1_location_vector.x) + (Gm_2/(m2_location_vector-m1_location_vector).magnitude()**3)*(m2_location_vector.x-m1_location_vector.x)\n",
      "        y_acceleration_m1 = -(GM/(m1_location_vector.magnitude()**3)*m1_location_vector.y) + (Gm_2/(m2_location_vector-m1_location_vector).magnitude()**3)*(m2_location_vector.y-m1_location_vector.y)\n",
      "        x_acceleration_m2 = -(GM/(m2_location_vector.magnitude()**3)*m2_location_vector.x) + (Gm_1/(m1_location_vector-m2_location_vector).magnitude()**3)*(m1_location_vector.x-m2_location_vector.x)\n",
      "        y_acceleration_m2 = -(GM/(m2_location_vector.magnitude()**3)*m2_location_vector.y) + (Gm_1/(m1_location_vector-m2_location_vector).magnitude()**3)*(m1_location_vector.y-m2_location_vector.y)\n",
      "        return Vector_2D(x_acceleration_m1, y_acceleration_m1), Vector_2D(x_acceleration_m2, y_acceleration_m2)\n"
     ],
     "language": "python",
     "metadata": {},
     "outputs": []
    },
    {
     "cell_type": "code",
     "collapsed": false,
     "input": [],
     "language": "python",
     "metadata": {},
     "outputs": []
    }
   ],
   "metadata": {}
  }
 ]
}