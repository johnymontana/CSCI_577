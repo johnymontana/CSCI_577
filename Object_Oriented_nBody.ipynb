{
 "metadata": {
  "name": "Object_Oriented_nBody"
 },
 "nbformat": 3,
 "nbformat_minor": 0,
 "worksheets": [
  {
   "cells": [
    {
     "cell_type": "heading",
     "level": 1,
     "metadata": {},
     "source": [
      "Object Oriented n-Body Simulation"
     ]
    },
    {
     "cell_type": "heading",
     "level": 4,
     "metadata": {},
     "source": [
      "CSCI 577 - Team Heracles (Jesse Adams & William Lyon)"
     ]
    },
    {
     "cell_type": "heading",
     "level": 2,
     "metadata": {},
     "source": [
      "Initial Setup"
     ]
    },
    {
     "cell_type": "code",
     "collapsed": false,
     "input": [
      "from scipy.integrate import odeint, ode\n",
      "from pylab import *\n",
      "import numpy as np\n",
      "\n",
      "#G =2*3.14\n",
      "#M = 0.00013\n",
      "GM = 4*math.pi**2\n",
      "Gm_1 = 0.001*GM\n",
      "Gm_2 = 0.04*GM\n",
      "#m_1 = 0.001M\n",
      "#m_2 = 0.04M\n",
      "\n",
      "DELTA_T=0.01\n",
      "\n",
      "def runge_kutta(x, f, dt):\n",
      "    t=None\n",
      "    k1=f(x, t)*dt\n",
      "    k2=f(x+0.5*k1, t)*dt\n",
      "    k3=f(x+0.5*k2, t)*dt\n",
      "    k4=f(x+k3, t)*dt\n",
      "    return x + (k1+2*k2+2*k3+k4)/6.0\n",
      "\n",
      "class Vector_2D:\n",
      "    # override operators??? => *\n",
      "    def __init__(self, initial_x, initial_y):\n",
      "        self.x = initial_x\n",
      "        self.y = initial_y\n",
      "    def __str__(self):\n",
      "        return \"x: \" + str(self.x) + \" y: \"+str(self.y)\n",
      "    def __mul__(self, other):\n",
      "        x_product = self.x * other.x\n",
      "        y_product = self.y * other.y\n",
      "        return Vector_2D(x_product, y_product)\n",
      "    def __sub__(self, other):\n",
      "        x_sub = self.x - other.x\n",
      "        y_sub = self.y - other.y\n",
      "        return Vector_2D(x_sub, y_sub)\n",
      "    def magnitude(self):\n",
      "        return sqrt(self.x**2+self.y**2)\n",
      "    \n",
      "def acceleration(m1_location_vector, m2_location_vector):\n",
      "        # compute my acceleration\n",
      "        x_acceleration_m1 = -(GM/(m1_location_vector.magnitude()**3)*m1_location_vector.x) + (Gm_2/(m2_location_vector-m1_location_vector).magnitude()**3)*(m2_location_vector.x-m1_location_vector.x)\n",
      "        y_acceleration_m1 = -(GM/(m1_location_vector.magnitude()**3)*m1_location_vector.y) + (Gm_2/(m2_location_vector-m1_location_vector).magnitude()**3)*(m2_location_vector.y-m1_location_vector.y)\n",
      "        x_acceleration_m2 = -(GM/(m2_location_vector.magnitude()**3)*m2_location_vector.x) + (Gm_1/(m1_location_vector-m2_location_vector).magnitude()**3)*(m1_location_vector.x-m2_location_vector.x)\n",
      "        y_acceleration_m2 = -(GM/(m2_location_vector.magnitude()**3)*m2_location_vector.y) + (Gm_1/(m1_location_vector-m2_location_vector).magnitude()**3)*(m1_location_vector.y-m2_location_vector.y)\n",
      "        return Vector_2D(x_acceleration_m1, y_acceleration_m1), Vector_2D(x_acceleration_m2, y_acceleration_m2)\n",
      "\n",
      "#initial=array([x1, y1, vx1, vy1, x2, y2, vx2, vy2])\n",
      "#time = linspace(0.0, 100, 1000)\n",
      "#state_list=array([x1, y1, vx1, vy1, x2, y2, vx2, vy2])\n",
      "def two_body_system(state, t):\n",
      "        x1,y1,vx1,vy1,x2,y2,vx2,vy2 = state\n",
      "        #accel_1 = m1.acceleration(m2)\n",
      "        #accel_2 = m2.acceleration(m1)\n",
      "        #m1.r=Vector_2D(vx1, vy1)\n",
      "        #m1.velocity=Vector_2D(accel_1.x, accel_1.y)\n",
      "        #m2.r=Vector_2D(vx2, vy2)\n",
      "        #m2.velocity=Vector_2D(accel_2.x, accel_2.y)\n",
      "        accel_m1, accel_m2 = acceleration(Vector_2D(x1, y1), Vector_2D(x2,y2))\n",
      "        return array([vx1, vy1, accel_m1.x, accel_m1.y, vx2, vy2, accel_m2.x, accel_m2.y])"
     ],
     "language": "python",
     "metadata": {},
     "outputs": [],
     "prompt_number": 18
    },
    {
     "cell_type": "code",
     "collapsed": false,
     "input": [
      "class Body:\n",
      "    # ivars: location_vector, velocity_vector, accel_vector, state_list(?)\n",
      "    def __init__(self, location_vector, velocity_vector, mass):\n",
      "        self.location = location_vector\n",
      "        self.velocity = velocity_vector\n",
      "        self.mass = mass\n",
      "    # methods: acceleration(other_body), update_state(acceleration_vector)\n",
      "    \n",
      "    def acceleration(self, m2):\n",
      "        # compute my acceleration\n",
      "        x_acceleration_m1 = -(GM/(self.location.magnitude()**3)*self.location.x) + (m2.mass/(m2.location-self.location).magnitude()**3)*(m2.location.x-self.location.x)\n",
      "        y_acceleration_m1 = -(GM/(self.location.magnitude()**3)*self.location.y) + (m2.mass/(m2.location-self.location).magnitude()**3)*(m2.location.y-self.location.y)\n",
      "        x_acceleration_m2 = -(GM/(m2.location.magnitude()**3)*m2.location.x) + (self.mass/(self.location-m2.location).magnitude()**3)*(self.location.x-m2.location.x)\n",
      "        y_acceleration_m2 = -(GM/(m2.location.magnitude()**3)*m2.location.y) + (self.mass/(self.location-m2.location).magnitude()**3)*(self.location.y-m2.location.y)\n",
      "        return Vector_2D(x_acceleration_m1, y_acceleration_m1), Vector_2D(x_acceleration_m2, y_acceleration_m2)\n",
      "\n",
      "    pass\n",
      "\n",
      "\n",
      "class System:\n",
      "    def __init__(self, body_list):\n",
      "        self.body_list = body_list\n",
      "    # ivars: body_list\n",
      "    # state_array(?) - here or in Body?\n",
      "    # methods: \n",
      "    \n",
      "    def __str__(self):\n",
      "        to_string = \"Soloar system: \\n\"\n",
      "        body_num = 1\n",
      "        for body in self.body_list:\n",
      "            to_string = to_string + \"Body \" + str(body_num) + \":\\n\"\n",
      "            to_string = to_string + \"Location vector: \" + str(body.location) + \"\\n\"\n",
      "            to_string = to_string + \"Velocity vector: \" + str(body.velocity) + \"\\n\"\n",
      "            to_string = to_string + \"Mass: \" + str(body.mass) + \"\\n\"\n",
      "            body_num = body_num + 1\n",
      "        return to_string\n",
      "\n",
      "\n",
      "class Force:\n",
      "    # ivars: System?\n",
      "    # methods: derivatives of state() -> __call__(state, t): return derivatives of location_vector & velocity_vector\n",
      "    pass\n",
      "\n",
      "\n",
      "class BigBang:\n",
      "    # read the initial state file, instantiate bodies, instantiate System(body_list), instantiate Force(system_instance)\n",
      "    def __init__(self, file_name):\n",
      "        body_data_list = []\n",
      "        body_list = []\n",
      "        \n",
      "        f = open(file_name, 'r+')\n",
      "        num_bodies = int(f.readline())\n",
      "        for i in range(1, num_bodies+1):\n",
      "            body_data_list.append(f.readline().strip().split(\" \"))\n",
      "        for body_data in body_data_list:\n",
      "            print body_data\n",
      "            x = double(body_data[0])\n",
      "            y = double(body_data[1])\n",
      "            vx = double(body_data[2])\n",
      "            vy = double(body_data[3])\n",
      "            mass = double(body_data[4])\n",
      "            body_list.append(Body(Vector_2D(x,y), Vector_2D(vx, vy), mass))\n",
      "        print body_list\n",
      "        self.solar_system = System(body_list)\n",
      "            "
     ],
     "language": "python",
     "metadata": {},
     "outputs": [],
     "prompt_number": 47
    },
    {
     "cell_type": "code",
     "collapsed": false,
     "input": [
      "#"
     ],
     "language": "python",
     "metadata": {},
     "outputs": [],
     "prompt_number": 48
    },
    {
     "cell_type": "code",
     "collapsed": false,
     "input": [
      "world = BigBang(\"lagrange.dat\")"
     ],
     "language": "python",
     "metadata": {},
     "outputs": [
      {
       "output_type": "stream",
       "stream": "stdout",
       "text": [
        "['1.', '0.', '0.', '0.8', '1.']\n",
        "['-0.5', '0.866025403784439', '-0.692820323027551', '-0.4', '1.']\n",
        "['-0.5', '-0.866025403784439', '0.692820323027551', '-0.4', '1.']\n",
        "[<__main__.Body instance at 0xb0b8bec>, <__main__.Body instance at 0xb0b8acc>, <__main__.Body instance at 0xb0b8aec>]\n"
       ]
      }
     ],
     "prompt_number": 55
    },
    {
     "cell_type": "code",
     "collapsed": false,
     "input": [
      "print world.solar_system"
     ],
     "language": "python",
     "metadata": {},
     "outputs": [
      {
       "output_type": "stream",
       "stream": "stdout",
       "text": [
        "Soloar system: \n",
        "Body 1:\n",
        "Location vector: x: 1.0 y: 0.0\n",
        "Velocity vector: x: 0.0 y: 0.8\n",
        "Mass: 1.0\n",
        "Body 2:\n",
        "Location vector: x: -0.5 y: 0.866025403784\n",
        "Velocity vector: x: -0.692820323028 y: -0.4\n",
        "Mass: 1.0\n",
        "Body 3:\n",
        "Location vector: x: -0.5 y: -0.866025403784\n",
        "Velocity vector: x: 0.692820323028 y: -0.4\n",
        "Mass: 1.0\n",
        "\n"
       ]
      }
     ],
     "prompt_number": 56
    },
    {
     "cell_type": "code",
     "collapsed": false,
     "input": [
      "my_list = \"0. 0. 0. 0. 1.\\n\".strip().split(\" \")"
     ],
     "language": "python",
     "metadata": {},
     "outputs": [],
     "prompt_number": 12
    },
    {
     "cell_type": "code",
     "collapsed": false,
     "input": [
      "double(my_list[-1])"
     ],
     "language": "python",
     "metadata": {},
     "outputs": [
      {
       "output_type": "pyout",
       "prompt_number": 14,
       "text": [
        "1.0"
       ]
      }
     ],
     "prompt_number": 14
    },
    {
     "cell_type": "code",
     "collapsed": false,
     "input": [],
     "language": "python",
     "metadata": {},
     "outputs": []
    }
   ],
   "metadata": {}
  }
 ]
}