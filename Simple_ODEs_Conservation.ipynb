{
 "metadata": {
  "name": "Simple_ODEs_Conservation"
 },
 "nbformat": 3,
 "nbformat_minor": 0,
 "worksheets": [
  {
   "cells": [
    {
     "cell_type": "heading",
     "level": 1,
     "metadata": {},
     "source": [
      "Simple ODEs and Conservation"
     ]
    },
    {
     "cell_type": "code",
     "collapsed": false,
     "input": [
      "from pylab import *"
     ],
     "language": "python",
     "metadata": {},
     "outputs": [],
     "prompt_number": 1
    },
    {
     "cell_type": "heading",
     "level": 2,
     "metadata": {},
     "source": [
      "Falling Body"
     ]
    },
    {
     "cell_type": "code",
     "collapsed": false,
     "input": [
      "def y_prime(yn, vn, dt):\n",
      "    return yn+vn*dt"
     ],
     "language": "python",
     "metadata": {},
     "outputs": [],
     "prompt_number": 2
    },
    {
     "cell_type": "code",
     "collapsed": false,
     "input": [
      "def v_prime(vn, dt, an=-9.8):\n",
      "    return vn+an*dt"
     ],
     "language": "python",
     "metadata": {},
     "outputs": [],
     "prompt_number": 3
    },
    {
     "cell_type": "code",
     "collapsed": false,
     "input": [
      "def euler(x, dt, f=None):\n",
      "    # takes state x(y, velocity), returns new y, velocity\n",
      "    return array([y_prime(yn=x[0], vn=x[1], dt=dt), v_prime(vn=x[1], dt=dt)])"
     ],
     "language": "python",
     "metadata": {},
     "outputs": [],
     "prompt_number": 4
    },
    {
     "cell_type": "code",
     "collapsed": false,
     "input": [
      "state=[array([10, 0])]\n",
      "while True:\n",
      "    state.append(euler(dt=0.1, x=state[-1]))\n",
      "    if state[-1][0]<0:\n",
      "        break"
     ],
     "language": "python",
     "metadata": {},
     "outputs": [],
     "prompt_number": 5
    },
    {
     "cell_type": "code",
     "collapsed": false,
     "input": [
      "array_state=array(state)"
     ],
     "language": "python",
     "metadata": {},
     "outputs": [],
     "prompt_number": 6
    },
    {
     "cell_type": "code",
     "collapsed": false,
     "input": [
      "euler_method_falling_list = array_state[:,0]\n",
      "print euler_method_falling_list"
     ],
     "language": "python",
     "metadata": {},
     "outputs": [
      {
       "output_type": "stream",
       "stream": "stdout",
       "text": [
        "[ 10.     10.      9.902   9.706   9.412   9.02    8.53    7.942   7.256\n",
        "   6.472   5.59    4.61    3.532   2.356   1.082  -0.29 ]\n"
       ]
      }
     ],
     "prompt_number": 7
    },
    {
     "cell_type": "code",
     "collapsed": false,
     "input": [
      "def analytic_sol(y0, t, g=9.8):\n",
      "    return -0.5*g*(t*t)+y0"
     ],
     "language": "python",
     "metadata": {},
     "outputs": [],
     "prompt_number": 8
    },
    {
     "cell_type": "code",
     "collapsed": false,
     "input": [
      "#drop_list=[]\n",
      "#for i in xrange(0,145):\n",
      "#    drop_list.append(i*0.1)"
     ],
     "language": "python",
     "metadata": {},
     "outputs": [],
     "prompt_number": 9
    },
    {
     "cell_type": "code",
     "collapsed": false,
     "input": [
      "drop_list=arange(0, 10, 0.1)"
     ],
     "language": "python",
     "metadata": {},
     "outputs": [],
     "prompt_number": 10
    },
    {
     "cell_type": "code",
     "collapsed": false,
     "input": [
      "drop_list"
     ],
     "language": "python",
     "metadata": {},
     "outputs": [
      {
       "output_type": "pyout",
       "prompt_number": 11,
       "text": [
        "array([ 0. ,  0.1,  0.2,  0.3,  0.4,  0.5,  0.6,  0.7,  0.8,  0.9,  1. ,\n",
        "        1.1,  1.2,  1.3,  1.4,  1.5,  1.6,  1.7,  1.8,  1.9,  2. ,  2.1,\n",
        "        2.2,  2.3,  2.4,  2.5,  2.6,  2.7,  2.8,  2.9,  3. ,  3.1,  3.2,\n",
        "        3.3,  3.4,  3.5,  3.6,  3.7,  3.8,  3.9,  4. ,  4.1,  4.2,  4.3,\n",
        "        4.4,  4.5,  4.6,  4.7,  4.8,  4.9,  5. ,  5.1,  5.2,  5.3,  5.4,\n",
        "        5.5,  5.6,  5.7,  5.8,  5.9,  6. ,  6.1,  6.2,  6.3,  6.4,  6.5,\n",
        "        6.6,  6.7,  6.8,  6.9,  7. ,  7.1,  7.2,  7.3,  7.4,  7.5,  7.6,\n",
        "        7.7,  7.8,  7.9,  8. ,  8.1,  8.2,  8.3,  8.4,  8.5,  8.6,  8.7,\n",
        "        8.8,  8.9,  9. ,  9.1,  9.2,  9.3,  9.4,  9.5,  9.6,  9.7,  9.8,\n",
        "        9.9])"
       ]
      }
     ],
     "prompt_number": 11
    },
    {
     "cell_type": "code",
     "collapsed": false,
     "input": [
      "def falling(x):\n",
      "    # input: x[position, velocity]\n",
      "    # returns [velocity, acceleration] or [dy/dt, dv/dt]\n",
      "    return array([x[1], -9.8])"
     ],
     "language": "python",
     "metadata": {},
     "outputs": [],
     "prompt_number": 12
    },
    {
     "cell_type": "code",
     "collapsed": false,
     "input": [
      "#state = "
     ],
     "language": "python",
     "metadata": {},
     "outputs": [],
     "prompt_number": 13
    },
    {
     "cell_type": "code",
     "collapsed": false,
     "input": [
      "analytic_data=[]\n",
      "for time_period in drop_list:\n",
      "    analytic_data.append(analytic_sol(y0=10, t=time_period))\n",
      "    if analytic_data[-1]<0:\n",
      "        break"
     ],
     "language": "python",
     "metadata": {},
     "outputs": [],
     "prompt_number": 14
    },
    {
     "cell_type": "code",
     "collapsed": false,
     "input": [
      "zero_list=[0.0]*len(analytic_data)"
     ],
     "language": "python",
     "metadata": {},
     "outputs": [],
     "prompt_number": 15
    },
    {
     "cell_type": "code",
     "collapsed": false,
     "input": [],
     "language": "python",
     "metadata": {},
     "outputs": [],
     "prompt_number": 15
    },
    {
     "cell_type": "code",
     "collapsed": false,
     "input": [],
     "language": "python",
     "metadata": {},
     "outputs": [],
     "prompt_number": 15
    },
    {
     "cell_type": "code",
     "collapsed": false,
     "input": [
      "plot(analytic_data,label='analytic solution')\n",
      "plot(euler_method_falling_list, label='euler method')\n",
      "plot(zero_list)\n",
      "legend(loc='upper right')\n",
      "xlabel(r'Number of timesteps, dt=0.1s')\n",
      "ylabel(r'Height of object (m)')"
     ],
     "language": "python",
     "metadata": {},
     "outputs": [
      {
       "output_type": "pyout",
       "prompt_number": 16,
       "text": [
        "<matplotlib.text.Text at 0x1047ff5d0>"
       ]
      },
      {
       "output_type": "display_data",
       "png": "[encoded data removed]"
      }
     ],
     "prompt_number": 16
    },
    {
     "cell_type": "heading",
     "level": 3,
     "metadata": {},
     "source": [
      "Energy"
     ]
    },
    {
     "cell_type": "code",
     "collapsed": false,
     "input": [
      "potential_energy = -9.8*euler_method_falling_list\n",
      "kinetic_energy = 0.5*array_state[:,1]**2"
     ],
     "language": "python",
     "metadata": {},
     "outputs": [],
     "prompt_number": 21
    },
    {
     "cell_type": "code",
     "collapsed": false,
     "input": [
      "scatter(potential_energy, kinetic_energy, label='energy conservation')\n",
      "xlabel(\"Potential Energy\")\n",
      "ylabel(\"Kinetic Energy\")"
     ],
     "language": "python",
     "metadata": {},
     "outputs": [
      {
       "output_type": "pyout",
       "prompt_number": 22,
       "text": [
        "<matplotlib.text.Text at 0x1077c16d0>"
       ]
      },
      {
       "output_type": "display_data",
       "png": "[encoded data removed]"
      }
     ],
     "prompt_number": 22
    },
    {
     "cell_type": "heading",
     "level": 2,
     "metadata": {},
     "source": [
      "Harmonic Oscillator"
     ]
    },
    {
     "cell_type": "code",
     "collapsed": false,
     "input": [
      "def spring_analytic_sol(t, x_0=1.0,k=1.0, m=1.0):\n",
      "    return x_0*math.cos(math.sqrt((k/m))*t)"
     ],
     "language": "python",
     "metadata": {},
     "outputs": [],
     "prompt_number": 23
    },
    {
     "cell_type": "code",
     "collapsed": false,
     "input": [
      "spring_analytic_x_list = []\n",
      "for timestep in drop_list:\n",
      "    spring_analytic_x_list.append(spring_analytic_sol(t=timestep))"
     ],
     "language": "python",
     "metadata": {},
     "outputs": [],
     "prompt_number": 24
    },
    {
     "cell_type": "code",
     "collapsed": false,
     "input": [
      "print spring_analytic_x_list\n"
     ],
     "language": "python",
     "metadata": {},
     "outputs": [
      {
       "output_type": "stream",
       "stream": "stdout",
       "text": [
        "[1.0, 0.9950041652780257, 0.9800665778412416, 0.955336489125606, 0.9210609940028851, 0.8775825618903728, 0.8253356149096782, 0.7648421872844884, 0.6967067093471655, 0.6216099682706645, 0.5403023058681398, 0.4535961214255773, 0.3623577544766734, 0.26749882862458735, 0.16996714290024081, 0.0707372016677029, -0.029199522301288815, -0.12884449429552486, -0.2272020946930871, -0.3232895668635036, -0.4161468365471424, -0.5048461045998575, -0.5885011172553458, -0.6662760212798243, -0.7373937155412458, -0.8011436155469337, -0.8568887533689473, -0.9040721420170612, -0.9422223406686583, -0.9709581651495907, -0.9899924966004454, -0.9991351502732795, -0.9982947757947531, -0.9874797699088649, -0.9667981925794609, -0.9364566872907963, -0.896758416334147, -0.848100031710408, -0.7909677119144165, -0.7259323042001399, -0.6536436208636119, -0.5748239465332685, -0.4902608213406995, -0.40079917207997545, -0.30733286997841935, -0.21079579943077972, -0.11215252693505398, -0.01238866346289056, 0.08749898343944729, 0.18651236942257574, 0.2836621854632263, 0.37797774271298107, 0.4685166713003771, 0.5543743361791615, 0.6346928759426346, 0.70866977429126, 0.7755658785102502, 0.8347127848391598, 0.8855195169413194, 0.9274784307440359, 0.9601702866503661, 0.9832684384425847, 0.9965420970232175, 0.9998586363834151, 0.9931849187581926, 0.9765876257280235, 0.9502325919585293, 0.9143831482353193, 0.8693974903498248, 0.8157251001253568, 0.7539022543433046, 0.6845466664428059, 0.6083513145322546, 0.5260775173811046, 0.43854732757439036, 0.3466353178350258, 0.25125984258225487, 0.15337386203786435, 0.05395542056264886, -0.04600212563953695, -0.14550003380861354, -0.2435441537357911, -0.3391548609838362, -0.4313768449706208, -0.5192886541166856, -0.6020119026848236, -0.6787200473200125, -0.7486466455973999, -0.811093014061656, -0.8654352092411123, -0.9111302618846769, -0.9477216021311119, -0.974843621404164, -0.9922253254526034, -0.9996930420352065, -0.9971721561963784, -0.9846878557941267, -0.9623648798313098, -0.9304262721047533, -0.8891911526253609]\n"
       ]
      }
     ],
     "prompt_number": 25
    },
    {
     "cell_type": "code",
     "collapsed": false,
     "input": [],
     "language": "python",
     "metadata": {},
     "outputs": [],
     "prompt_number": 25
    },
    {
     "cell_type": "code",
     "collapsed": false,
     "input": [
      "def x_prime(xn, vn, dt):\n",
      "    return xn+vn*dt"
     ],
     "language": "python",
     "metadata": {},
     "outputs": [],
     "prompt_number": 26
    },
    {
     "cell_type": "code",
     "collapsed": false,
     "input": [
      "def v_prime_spring(vn, an, dt):\n",
      "    return vn+an*dt"
     ],
     "language": "python",
     "metadata": {},
     "outputs": [],
     "prompt_number": 27
    },
    {
     "cell_type": "code",
     "collapsed": false,
     "input": [
      "#k=1.0\n",
      "#m=1.0\n",
      "\n",
      "def euler_spring(x, dt, f=None, k=1.0, m=1.0):\n",
      "    # takes state (x, velocity) and returns new state (x_prime, v_prime)\n",
      "    return array([x_prime(x[0], x[1], dt), v_prime(x[1], (-k*x[0]/m), dt)])"
     ],
     "language": "python",
     "metadata": {},
     "outputs": [],
     "prompt_number": 28
    },
    {
     "cell_type": "code",
     "collapsed": false,
     "input": [
      "state_spring=[array([1.0, 0.0])]\n",
      "for time_step in drop_list:\n",
      "    state_spring.append(euler_spring(x=state_spring[-1], dt=0.1))\n",
      "state_spring=array(state_spring)\n",
      "x_state_spring = state_spring[:,0]"
     ],
     "language": "python",
     "metadata": {},
     "outputs": [],
     "prompt_number": 29
    },
    {
     "cell_type": "code",
     "collapsed": false,
     "input": [
      "\n"
     ],
     "language": "python",
     "metadata": {},
     "outputs": [],
     "prompt_number": 29
    },
    {
     "cell_type": "code",
     "collapsed": false,
     "input": [
      "plot(spring_analytic_x_list, label='analytic sol')\n",
      "plot(x_state_spring, label='simulation sol')\n",
      "legend(loc='lower left')\n",
      "xlabel(r'Number of timesteps, dt=0.1s')\n",
      "ylabel(r'x pos')"
     ],
     "language": "python",
     "metadata": {},
     "outputs": [
      {
       "output_type": "pyout",
       "prompt_number": 30,
       "text": [
        "<matplotlib.text.Text at 0x108184c90>"
       ]
      },
      {
       "output_type": "display_data",
       "png": "[encoded data removed]"
      }
     ],
     "prompt_number": 30
    },
    {
     "cell_type": "heading",
     "level": 3,
     "metadata": {},
     "source": [
      "Energy"
     ]
    },
    {
     "cell_type": "code",
     "collapsed": false,
     "input": [
      "total_energy = 0.5*1.0*x_state_spring**2 + 0.5*1.0*state_spring[:,1]**2"
     ],
     "language": "python",
     "metadata": {},
     "outputs": [],
     "prompt_number": 31
    },
    {
     "cell_type": "code",
     "collapsed": false,
     "input": [
      "plot(total_energy, label=\"Energy\")\n",
      "xlabel(\"Number of timesteps, dt=0.1s\")\n",
      "ylabel(\"Energy\")\n"
     ],
     "language": "python",
     "metadata": {},
     "outputs": [
      {
       "output_type": "pyout",
       "prompt_number": 33,
       "text": [
        "<matplotlib.text.Text at 0x10835d5d0>"
       ]
      },
      {
       "output_type": "display_data",
       "png": "[encoded data removed]"
      }
     ],
     "prompt_number": 33
    },
    {
     "cell_type": "code",
     "collapsed": false,
     "input": [],
     "language": "python",
     "metadata": {},
     "outputs": []
    }
   ],
   "metadata": {}
  }
 ]
}