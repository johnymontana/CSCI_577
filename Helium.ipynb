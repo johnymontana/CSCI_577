{
 "metadata": {
  "name": "Helium"
 },
 "nbformat": 3,
 "nbformat_minor": 0,
 "worksheets": [
  {
   "cells": [
    {
     "cell_type": "code",
     "collapsed": false,
     "input": [
      "from scipy.integrate import odeint, ode\n",
      "from pylab import *\n",
      "import numpy as np\n",
      "\n",
      "#G =2*3.14\n",
      "#M = 0.00013\n",
      "GM = 4*math.pi**2\n",
      "Gm_1 = 0.001*GM\n",
      "Gm_2 = 0.04*GM\n",
      "#m_1 = 0.001M\n",
      "#m_2 = 0.04M\n",
      "\n",
      "DELTA_T=0.01\n",
      "\n",
      "def runge_kutta(x, f, dt):\n",
      "    t=None\n",
      "    k1=f(x, t)*dt\n",
      "    k2=f(x+0.5*k1, t)*dt\n",
      "    k3=f(x+0.5*k2, t)*dt\n",
      "    k4=f(x+k3, t)*dt\n",
      "    return x + (k1+2*k2+2*k3+k4)/6.0\n",
      "\n",
      "class Vector_2D:\n",
      "    # override operators??? => *\n",
      "    def __init__(self, initial_x, initial_y):\n",
      "        self.x = initial_x\n",
      "        self.y = initial_y\n",
      "    def __str__(self):\n",
      "        return \"x: \" + str(self.x) + \" y: \"+str(self.y)\n",
      "    def __mul__(self, other):\n",
      "        x_product = self.x * other.x\n",
      "        y_product = self.y * other.y\n",
      "        return Vector_2D(x_product, y_product)\n",
      "    def __sub__(self, other):\n",
      "        x_sub = self.x - other.x\n",
      "        y_sub = self.y - other.y\n",
      "        return Vector_2D(x_sub, y_sub)\n",
      "    def magnitude(self):\n",
      "        return sqrt(self.x**2+self.y**2)\n",
      "    \n",
      "def acceleration(m1_location_vector, m2_location_vector):\n",
      "        # compute my acceleration\n",
      "        x_acceleration_m1 = -(GM/(m1_location_vector.magnitude()**3)*m1_location_vector.x) + (Gm_2/(m2_location_vector-m1_location_vector).magnitude()**3)*(m2_location_vector.x-m1_location_vector.x)\n",
      "        y_acceleration_m1 = -(GM/(m1_location_vector.magnitude()**3)*m1_location_vector.y) + (Gm_2/(m2_location_vector-m1_location_vector).magnitude()**3)*(m2_location_vector.y-m1_location_vector.y)\n",
      "        x_acceleration_m2 = -(GM/(m2_location_vector.magnitude()**3)*m2_location_vector.x) + (Gm_1/(m1_location_vector-m2_location_vector).magnitude()**3)*(m1_location_vector.x-m2_location_vector.x)\n",
      "        y_acceleration_m2 = -(GM/(m2_location_vector.magnitude()**3)*m2_location_vector.y) + (Gm_1/(m1_location_vector-m2_location_vector).magnitude()**3)*(m1_location_vector.y-m2_location_vector.y)\n",
      "        return Vector_2D(x_acceleration_m1, y_acceleration_m1), Vector_2D(x_acceleration_m2, y_acceleration_m2)\n"
     ],
     "language": "python",
     "metadata": {},
     "outputs": [],
     "prompt_number": 1
    },
    {
     "cell_type": "code",
     "collapsed": false,
     "input": [
      "#define initial state\n",
      "\n",
      "initial=array([x1, y1, vx1, vy1, x2, y2, vx2, vy2])\n",
      "time = linspace(0.0, 100, 1000)\n",
      "state_list=array([x1, y1, vx1, vy1, x2, y2, vx2, vy2])\n",
      "def two_body_system(state, t):\n",
      "        x1,y1,vx1,vy1,x2,y2,vx2,vy2 = state\n",
      "        #accel_1 = m1.acceleration(m2)\n",
      "        #accel_2 = m2.acceleration(m1)\n",
      "        #m1.r=Vector_2D(vx1, vy1)\n",
      "        #m1.velocity=Vector_2D(accel_1.x, accel_1.y)\n",
      "        #m2.r=Vector_2D(vx2, vy2)\n",
      "        #m2.velocity=Vector_2D(accel_2.x, accel_2.y)\n",
      "        accel_m1, accel_m2 = acceleration(Vector_2D(x1, y1), Vector_2D(x2,y2))\n",
      "        return array([vx1, vy1, accel_m1.x, accel_m1.y, vx2, vy2, accel_m2.x, accel_m2.y])"
     ],
     "language": "python",
     "metadata": {},
     "outputs": []
    },
    {
     "cell_type": "code",
     "collapsed": false,
     "input": [
      "y=odeint(two_body_system, initial, time)\n",
      "plot(y[:,0], y[:,1])\n",
      "plot(y[:,4], y[:,5])\n",
      "xlabel('Distance [AU]')\n",
      "ylabel('Distance [AU]')\n",
      "title('Planetary Motion')\n",
      "grid()"
     ],
     "language": "python",
     "metadata": {},
     "outputs": []
    },
    {
     "cell_type": "code",
     "collapsed": false,
     "input": [
      "#state_list=array([x1, y1, vx1, vy1, x2, y2, vx2, vy2])\n",
      "def energy_calc(state_array):\n",
      "    energy_list=[]\n",
      "    for state in state_array:\n",
      "        v1_sq=Vector_2D(state[2], state[3]).magnitude()**2\n",
      "        v2_sq=Vector_2D(state[6], state[7]).magnitude()**2\n",
      "        r_1 = Vector_2D(state[0], state[1]).magnitude()\n",
      "        r_2 = Vector_2D(state[4], state[5]).magnitude()\n",
      "        r_21 = Vector_2D(state[4]-state[0], state[5]-state[1]).magnitude()\n",
      "        energy_list.append(0.5*Gm_1/GM*v1_sq+0.5*Gm_2/GM*v2_sq-Gm_1/r_1-Gm_2/r_2-Gm_1*Gm_2/(GM*r_21))\n",
      "    return energy_list"
     ],
     "language": "python",
     "metadata": {},
     "outputs": []
    },
    {
     "cell_type": "code",
     "collapsed": false,
     "input": [
      "energy = array(energy_calc(y))\n",
      "energy = (energy - energy[0])/energy[0]\n",
      "figure(2)\n",
      "plot (time, energy)\n",
      "xlabel('Time [yrs]')\n",
      "ylabel('% Error in E/M')\n",
      "title('Scaled Energy')\n",
      "\n",
      "momentum = array(a_momentum_calc(y))\n",
      "momentum = (momentum - momentum[0])/momentum[0]\n",
      "figure(3)\n",
      "plot(time, momentum)\n",
      "xlabel('Time [yrs]')\n",
      "ylabel('% Error in L/M')\n",
      "title('Scaled Angular Momentum')"
     ],
     "language": "python",
     "metadata": {},
     "outputs": []
    },
    {
     "cell_type": "code",
     "collapsed": false,
     "input": [],
     "language": "python",
     "metadata": {},
     "outputs": []
    }
   ],
   "metadata": {}
  }
 ]
}